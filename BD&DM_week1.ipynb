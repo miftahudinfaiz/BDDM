{
  "cells": [
    {
      "cell_type": "markdown",
      "metadata": {
        "id": "HDjjworJhYD7"
      },
      "source": [
        "# **Mata Kuliah : BigData & Data Mining**\n",
        "\n",
        "## **Materi : Struktur Dataset**\n",
        "\n",
        "**Kemampuan Akhir Tiap Tahapan Belajar(sub CPMK)**\n",
        "\n",
        "SCPMK 1681916: Mahasiswa dapat menjelaskan konsep dasar data science [CPMK19]\n",
        "\n",
        "**Indikator**\n",
        "Mahasiswa dapat melakukan operasi pada dataset (membaca data, struktur dataframe)\n",
        "\n",
        "\n",
        "\n"
      ]
    },
    {
      "cell_type": "markdown",
      "metadata": {
        "id": "7wt9BahHh93C"
      },
      "source": [
        "DataFrame adalah struktur data 2 dimensi yang berbentuk tabular (mempunyai baris dan kolom)\n",
        "\n",
        "Dengan menggunakan Pandas Library, kita bisa membuat DataFrame seperti List, Tuple, Dictionary. "
      ]
    },
    {
      "cell_type": "markdown",
      "metadata": {
        "id": "rW_iACUuj4a8"
      },
      "source": [
        "# **#List**\n",
        "Dalam bahasa pemrograman Python, struktur data yang paling dasar adalah urutan atau lists. Setiap elemen-elemen berurutan akan diberi nomor posisi atau indeksnya. Indeks pertama dalam list adalah nol, indeks kedua adalah satu dan seterusnya."
      ]
    },
    {
      "cell_type": "code",
      "execution_count": null,
      "metadata": {
        "id": "gvAM8LelqAz7"
      },
      "outputs": [],
      "source": [
        "#Contoh sederhana pembuatan list pada bahasa pemrograman python\n",
        "list1 = ['BigData & Data Mining', 'BigData & Predictive Analytic', 2022, 2022]\n",
        "list2 = [\"buku\",\"pensil\",\"penggaris\",\"spidol\",\"bolpoin\",\"penghapus\"]\n",
        "list3 = [\"a\", \"b\", \"c\", \"d\"]"
      ]
    },
    {
      "cell_type": "code",
      "execution_count": null,
      "metadata": {
        "colab": {
          "base_uri": "https://localhost:8080/"
        },
        "id": "GxwrLArKqHK_",
        "outputId": "4b326dfb-3149-4125-fc56-9d82b404bc6e"
      },
      "outputs": [
        {
          "name": "stdout",
          "output_type": "stream",
          "text": [
            "list1[0]:  BigData & Data Mining\n",
            "list2[1:5]:  ['pensil', 'penggaris', 'spidol', 'bolpoin']\n"
          ]
        }
      ],
      "source": [
        "#Cara mengakses nilai di dalam list Python\n",
        "print (\"list1[0]: \", list1[0])\n",
        "print (\"list2[1:5]: \", list2[1:5]) \n",
        "#a[start:stop]  # items start through stop-1"
      ]
    },
    {
      "cell_type": "code",
      "execution_count": null,
      "metadata": {
        "colab": {
          "base_uri": "https://localhost:8080/"
        },
        "id": "k3bQnghEqhRe",
        "outputId": "c4b09f62-234a-4036-d187-80a54666d027"
      },
      "outputs": [
        {
          "name": "stdout",
          "output_type": "stream",
          "text": [
            "list2[2:4]:  ['c', 'd']\n"
          ]
        }
      ],
      "source": [
        "#tampilkan data pada list3 urutan ke-3 sebanyak 2 data\n",
        "print (\"list2[2:4]: \", list3[2:4])"
      ]
    },
    {
      "cell_type": "code",
      "execution_count": null,
      "metadata": {
        "colab": {
          "base_uri": "https://localhost:8080/"
        },
        "id": "nCLJeKcb7uHk",
        "outputId": "f47ee43a-8674-4f20-f2dd-0c9b56d1140a"
      },
      "outputs": [
        {
          "name": "stdout",
          "output_type": "stream",
          "text": [
            "pensil   penggaris\n",
            "['pensil', 'penggaris']\n"
          ]
        }
      ],
      "source": [
        "#tampilkan pensil dan penggaris dalam satu baris\n",
        "\n",
        "#list2 = [\"buku\",\"pensil\",\"penggaris\",\"spidol\",\"bolpoin\",\"penghapus\"]\n",
        "\n",
        "print(list2[1],' ',list2[2])\n",
        "print(list2[1:3])"
      ]
    },
    {
      "cell_type": "code",
      "execution_count": null,
      "metadata": {
        "colab": {
          "base_uri": "https://localhost:8080/",
          "height": 206
        },
        "id": "pHrKgnL045o4",
        "outputId": "906b7d92-b94a-484d-e8e6-399eca0cc54b"
      },
      "outputs": [
        {
          "data": {
            "text/html": [
              "\n",
              "  <div id=\"df-09d05416-2401-45de-9b93-512f1e5f5aed\">\n",
              "    <div class=\"colab-df-container\">\n",
              "      <div>\n",
              "<style scoped>\n",
              "    .dataframe tbody tr th:only-of-type {\n",
              "        vertical-align: middle;\n",
              "    }\n",
              "\n",
              "    .dataframe tbody tr th {\n",
              "        vertical-align: top;\n",
              "    }\n",
              "\n",
              "    .dataframe thead th {\n",
              "        text-align: right;\n",
              "    }\n",
              "</style>\n",
              "<table border=\"1\" class=\"dataframe\">\n",
              "  <thead>\n",
              "    <tr style=\"text-align: right;\">\n",
              "      <th></th>\n",
              "      <th>buah</th>\n",
              "      <th>sayur</th>\n",
              "      <th>hewan</th>\n",
              "    </tr>\n",
              "  </thead>\n",
              "  <tbody>\n",
              "    <tr>\n",
              "      <th>0</th>\n",
              "      <td>apel</td>\n",
              "      <td>bayam</td>\n",
              "      <td>kucing</td>\n",
              "    </tr>\n",
              "    <tr>\n",
              "      <th>1</th>\n",
              "      <td>pisang</td>\n",
              "      <td>sawi</td>\n",
              "      <td>kambing</td>\n",
              "    </tr>\n",
              "    <tr>\n",
              "      <th>2</th>\n",
              "      <td>jeruk</td>\n",
              "      <td>wortel</td>\n",
              "      <td>sapi</td>\n",
              "    </tr>\n",
              "    <tr>\n",
              "      <th>3</th>\n",
              "      <td>nanas</td>\n",
              "      <td>kentang</td>\n",
              "      <td>kelinci</td>\n",
              "    </tr>\n",
              "    <tr>\n",
              "      <th>4</th>\n",
              "      <td>durian</td>\n",
              "      <td>kacang</td>\n",
              "      <td>buaya</td>\n",
              "    </tr>\n",
              "  </tbody>\n",
              "</table>\n",
              "</div>\n",
              "      <button class=\"colab-df-convert\" onclick=\"convertToInteractive('df-09d05416-2401-45de-9b93-512f1e5f5aed')\"\n",
              "              title=\"Convert this dataframe to an interactive table.\"\n",
              "              style=\"display:none;\">\n",
              "        \n",
              "  <svg xmlns=\"http://www.w3.org/2000/svg\" height=\"24px\"viewBox=\"0 0 24 24\"\n",
              "       width=\"24px\">\n",
              "    <path d=\"M0 0h24v24H0V0z\" fill=\"none\"/>\n",
              "    <path d=\"M18.56 5.44l.94 2.06.94-2.06 2.06-.94-2.06-.94-.94-2.06-.94 2.06-2.06.94zm-11 1L8.5 8.5l.94-2.06 2.06-.94-2.06-.94L8.5 2.5l-.94 2.06-2.06.94zm10 10l.94 2.06.94-2.06 2.06-.94-2.06-.94-.94-2.06-.94 2.06-2.06.94z\"/><path d=\"M17.41 7.96l-1.37-1.37c-.4-.4-.92-.59-1.43-.59-.52 0-1.04.2-1.43.59L10.3 9.45l-7.72 7.72c-.78.78-.78 2.05 0 2.83L4 21.41c.39.39.9.59 1.41.59.51 0 1.02-.2 1.41-.59l7.78-7.78 2.81-2.81c.8-.78.8-2.07 0-2.86zM5.41 20L4 18.59l7.72-7.72 1.47 1.35L5.41 20z\"/>\n",
              "  </svg>\n",
              "      </button>\n",
              "      \n",
              "  <style>\n",
              "    .colab-df-container {\n",
              "      display:flex;\n",
              "      flex-wrap:wrap;\n",
              "      gap: 12px;\n",
              "    }\n",
              "\n",
              "    .colab-df-convert {\n",
              "      background-color: #E8F0FE;\n",
              "      border: none;\n",
              "      border-radius: 50%;\n",
              "      cursor: pointer;\n",
              "      display: none;\n",
              "      fill: #1967D2;\n",
              "      height: 32px;\n",
              "      padding: 0 0 0 0;\n",
              "      width: 32px;\n",
              "    }\n",
              "\n",
              "    .colab-df-convert:hover {\n",
              "      background-color: #E2EBFA;\n",
              "      box-shadow: 0px 1px 2px rgba(60, 64, 67, 0.3), 0px 1px 3px 1px rgba(60, 64, 67, 0.15);\n",
              "      fill: #174EA6;\n",
              "    }\n",
              "\n",
              "    [theme=dark] .colab-df-convert {\n",
              "      background-color: #3B4455;\n",
              "      fill: #D2E3FC;\n",
              "    }\n",
              "\n",
              "    [theme=dark] .colab-df-convert:hover {\n",
              "      background-color: #434B5C;\n",
              "      box-shadow: 0px 1px 3px 1px rgba(0, 0, 0, 0.15);\n",
              "      filter: drop-shadow(0px 1px 2px rgba(0, 0, 0, 0.3));\n",
              "      fill: #FFFFFF;\n",
              "    }\n",
              "  </style>\n",
              "\n",
              "      <script>\n",
              "        const buttonEl =\n",
              "          document.querySelector('#df-09d05416-2401-45de-9b93-512f1e5f5aed button.colab-df-convert');\n",
              "        buttonEl.style.display =\n",
              "          google.colab.kernel.accessAllowed ? 'block' : 'none';\n",
              "\n",
              "        async function convertToInteractive(key) {\n",
              "          const element = document.querySelector('#df-09d05416-2401-45de-9b93-512f1e5f5aed');\n",
              "          const dataTable =\n",
              "            await google.colab.kernel.invokeFunction('convertToInteractive',\n",
              "                                                     [key], {});\n",
              "          if (!dataTable) return;\n",
              "\n",
              "          const docLinkHtml = 'Like what you see? Visit the ' +\n",
              "            '<a target=\"_blank\" href=https://colab.research.google.com/notebooks/data_table.ipynb>data table notebook</a>'\n",
              "            + ' to learn more about interactive tables.';\n",
              "          element.innerHTML = '';\n",
              "          dataTable['output_type'] = 'display_data';\n",
              "          await google.colab.output.renderOutput(dataTable, element);\n",
              "          const docLink = document.createElement('div');\n",
              "          docLink.innerHTML = docLinkHtml;\n",
              "          element.appendChild(docLink);\n",
              "        }\n",
              "      </script>\n",
              "    </div>\n",
              "  </div>\n",
              "  "
            ],
            "text/plain": [
              "     buah    sayur    hewan\n",
              "0    apel    bayam   kucing\n",
              "1  pisang     sawi  kambing\n",
              "2   jeruk   wortel     sapi\n",
              "3   nanas  kentang  kelinci\n",
              "4  durian   kacang    buaya"
            ]
          },
          "execution_count": 22,
          "metadata": {},
          "output_type": "execute_result"
        }
      ],
      "source": [
        "#DataFrame dari List\n",
        "import pandas as pd\n",
        "\n",
        "data = {'buah': ['apel','pisang','jeruk','nanas','durian'],\n",
        "        'sayur' : ['bayam','sawi','wortel','kentang','kacang'],\n",
        "        'hewan': ['kucing','kambing','sapi','kelinci','buaya']}\n",
        "\n",
        "df = pd.DataFrame(data)\n",
        "df.head()"
      ]
    },
    {
      "cell_type": "code",
      "execution_count": null,
      "metadata": {
        "colab": {
          "base_uri": "https://localhost:8080/"
        },
        "id": "47hmjw8IlN_v",
        "outputId": "293cac6f-7b71-4ee7-b443-437a1cec1dff"
      },
      "outputs": [
        {
          "name": "stdout",
          "output_type": "stream",
          "text": [
            "sapi\n"
          ]
        }
      ],
      "source": [
        "#Tampilkan Sapi\n",
        "print(data['hewan'][2])"
      ]
    },
    {
      "cell_type": "code",
      "execution_count": null,
      "metadata": {
        "colab": {
          "base_uri": "https://localhost:8080/"
        },
        "id": "16WMMm6e59ak",
        "outputId": "f989c0da-cfad-41c9-8bbc-9c48741b539f"
      },
      "outputs": [
        {
          "name": "stdout",
          "output_type": "stream",
          "text": [
            "kentang   buaya\n"
          ]
        }
      ],
      "source": [
        "#Tampilkan Kentang dan Buaya dalam satu baris\n",
        "print(data['sayur'][3],' ',data['hewan'][4])"
      ]
    },
    {
      "cell_type": "markdown",
      "metadata": {
        "id": "Ly9nAZ1t5qnc"
      },
      "source": [
        "# **#Tuple**\n",
        "Sebuah tupel adalah urutan objek Python yang tidak berubah. Tupel adalah urutan, seperti daftar. Perbedaan utama antara tupel dan daftarnya adalah bahwa tupel tidak dapat diubah tidak seperti List Python. Tupel menggunakan tanda kurung, sedangkan List Python menggunakan tanda kurung siku.\n",
        "\n",
        "Membuat tuple semudah memasukkan nilai-nilai yang dipisahkan koma. Secara opsional, Anda dapat memasukkan nilai-nilai yang dipisahkan koma ini di antara tanda kurung juga. Sebagai contoh :"
      ]
    },
    {
      "cell_type": "code",
      "execution_count": null,
      "metadata": {
        "id": "G4CQ_5x-6CyG"
      },
      "outputs": [],
      "source": [
        "#Contoh sederhana pembuatan tuple pada bahasa pemrograman python\n",
        "tup1 = ('BigData & Data Mining', 'BigData & Predictive Analytic', 2022, 2022)\n",
        "tup2 = (1, 2, 3, 4, 5 )\n",
        "tup3 = (\"a\", \"b\", \"c\", \"d\")"
      ]
    },
    {
      "cell_type": "code",
      "execution_count": null,
      "metadata": {
        "colab": {
          "base_uri": "https://localhost:8080/"
        },
        "id": "AX4ETP8369lA",
        "outputId": "618a534e-0904-40a1-bcc2-8692f93d4397"
      },
      "outputs": [
        {
          "data": {
            "text/plain": [
              "tuple"
            ]
          },
          "execution_count": 27,
          "metadata": {},
          "output_type": "execute_result"
        }
      ],
      "source": [
        "type (tup1)"
      ]
    },
    {
      "cell_type": "code",
      "execution_count": null,
      "metadata": {
        "colab": {
          "base_uri": "https://localhost:8080/"
        },
        "id": "RsAIsIPT7OKI",
        "outputId": "f7b631bf-3c6d-40b4-b2c0-2ddff94116bf"
      },
      "outputs": [
        {
          "data": {
            "text/plain": [
              "5"
            ]
          },
          "execution_count": 28,
          "metadata": {},
          "output_type": "execute_result"
        }
      ],
      "source": [
        "len(tup2)"
      ]
    },
    {
      "cell_type": "code",
      "execution_count": null,
      "metadata": {
        "colab": {
          "base_uri": "https://localhost:8080/"
        },
        "id": "Dn2D9ZDz6Uft",
        "outputId": "138864ce-f064-4312-a392-b4500e5b9cd7"
      },
      "outputs": [
        {
          "name": "stdout",
          "output_type": "stream",
          "text": [
            "tup1[0]:  BigData & Data Mining\n",
            "tup2[1-4]:  (2, 3, 4, 5)\n"
          ]
        }
      ],
      "source": [
        "#Cara mengakses nilai tuple\n",
        "print (\"tup1[0]: \", tup1[0])\n",
        "print (\"tup2[1-4]: \", tup2[1:5])"
      ]
    },
    {
      "cell_type": "code",
      "execution_count": null,
      "metadata": {
        "colab": {
          "base_uri": "https://localhost:8080/"
        },
        "id": "B4EvANBToHfO",
        "outputId": "acef6020-4804-46dd-ebcb-a0fcd288a29e"
      },
      "outputs": [
        {
          "name": "stdout",
          "output_type": "stream",
          "text": [
            "(1, 2, 3, 4, 5)  &  ('a', 'b', 'c', 'd')\n",
            "(1, 2, 3, 4, 5, 'a', 'b', 'c', 'd')\n"
          ]
        }
      ],
      "source": [
        "#Tampilkan tup2 dan tup3 dalam satu baris\n",
        "print (tup2,' & ',tup3)\n",
        "print (tup2+tup3)"
      ]
    },
    {
      "cell_type": "code",
      "execution_count": null,
      "metadata": {
        "colab": {
          "base_uri": "https://localhost:8080/"
        },
        "id": "kNIlzz1G7cEA",
        "outputId": "54200a9b-7390-4e08-c448-44207e3cc1c4"
      },
      "outputs": [
        {
          "name": "stdout",
          "output_type": "stream",
          "text": [
            "<class 'str'>\n",
            "<class 'int'>\n",
            "<class 'str'>\n"
          ]
        }
      ],
      "source": [
        "print(type(tup1[0]))\n",
        "print(type(tup2[1]))\n",
        "print(type(tup3[2]))"
      ]
    },
    {
      "cell_type": "code",
      "execution_count": null,
      "metadata": {
        "colab": {
          "base_uri": "https://localhost:8080/"
        },
        "id": "DsAs0d7IBkiU",
        "outputId": "4f882a56-de50-4b08-d9bf-96b7514b01ac"
      },
      "outputs": [
        {
          "name": "stdout",
          "output_type": "stream",
          "text": [
            "(3, 2, 0, 1)\n"
          ]
        }
      ],
      "source": [
        "#Buat tuple baru dengan isi 4 digit NIM masing-masing\n",
        "#Contoh hasil : (3,2,0,1)\n",
        "tup_nim = (3,2,0,1 )\n",
        "print(tup_nim)"
      ]
    },
    {
      "cell_type": "markdown",
      "metadata": {
        "id": "yY544AD26941"
      },
      "source": [
        "# **#Dictionary**\n",
        "Dictionary Python berbeda dengan List ataupun Tuple. Karena setiap urutanya berisi key dan value. Setiap key dipisahkan dari value-nya oleh titik dua (:), item dipisahkan oleh koma, dan semuanya tertutup dalam kurung kurawal. Dictionary kosong tanpa barang ditulis hanya dengan dua kurung kurawal, seperti ini: {}."
      ]
    },
    {
      "cell_type": "code",
      "execution_count": null,
      "metadata": {
        "colab": {
          "base_uri": "https://localhost:8080/"
        },
        "id": "g3Bw0TmP7C8B",
        "outputId": "2186ad58-a647-4c26-df9a-76480372a077"
      },
      "outputs": [
        {
          "name": "stdout",
          "output_type": "stream",
          "text": [
            "Value dari key ['Name']:  Zara\n",
            "Value dari key ['Age']:  20\n",
            "{'Name': 'Zara', 'Age': 20, 'Class': 'BigData1'}\n"
          ]
        }
      ],
      "source": [
        "#Contoh cara membuat Dictionary pada Python\n",
        "dict = {'Name': 'Zara', 'Age': 20, 'Class': 'BigData1'}\n",
        "\n",
        "print (\"Value dari key ['Name']: \", dict['Name'])\n",
        "print (\"Value dari key ['Age']: \", dict['Age'])\n",
        "\n",
        "print (dict)"
      ]
    },
    {
      "cell_type": "code",
      "execution_count": null,
      "metadata": {
        "colab": {
          "base_uri": "https://localhost:8080/"
        },
        "id": "X40aqVia7hgV",
        "outputId": "0104841b-a1a8-40b2-fb21-5ed0593206ea"
      },
      "outputs": [
        {
          "name": "stdout",
          "output_type": "stream",
          "text": [
            "Value dari ['Age'] berubah menjadi:  8\n",
            "Key baru ['University'] :  Amikom\n",
            "{'Name': 'Zara', 'Age': 8, 'Class': 'BigData1', 'University': 'Amikom'}\n"
          ]
        }
      ],
      "source": [
        "#Update dictionary python\n",
        "dict['Age'] = 8; # Mengubah entri yang sudah ada\n",
        "dict['University'] = \"Amikom\" # Menambah entri baru\n",
        "\n",
        "print (\"Value dari ['Age'] berubah menjadi: \", dict['Age'])\n",
        "print (\"Key baru ['University'] : \", dict['University'])\n",
        "\n",
        "print(dict)"
      ]
    },
    {
      "cell_type": "code",
      "execution_count": null,
      "metadata": {
        "colab": {
          "base_uri": "https://localhost:8080/"
        },
        "id": "AUmH2gu0re7I",
        "outputId": "8b9d007f-2d24-4fd0-800d-9d8b3db2ba49"
      },
      "outputs": [
        {
          "name": "stdout",
          "output_type": "stream",
          "text": [
            "Cara 1 : \n",
            "[{'Name': 'Zara', 'Age': 8, 'Class': 'BigData1', 'University': 'Amikom'}, {'Name': 'Tatang', 'Age': 11, 'Class': 'BigData0'}]\n",
            "\n",
            "Cara 2 : \n",
            "[{'Name': 'Zara', 'Age': 20, 'Class': 'BigData1'}, {'Name': 'Tatang', 'Age': 11, 'Class': 'BigData0'}]\n"
          ]
        }
      ],
      "source": [
        "#Tambahkan satu dictionary baru dengan Identitas nama, umur, dan kelas masing-masing\n",
        "#pada dictionary dict\n",
        "\n",
        "#Dictionary dict nantinya akan menjadi bentuk List\n",
        "print('Cara 1 : ')\n",
        "dict = [dict,{'Name': 'Tatang', 'Age': 11, 'Class': 'BigData0'}]\n",
        "print(dict)\n",
        "\n",
        "print('\\nCara 2 : ')\n",
        "dict = [{'Name': 'Zara', 'Age': 20, 'Class': 'BigData1'},\n",
        "        {'Name': 'Tatang', 'Age': 11, 'Class': 'BigData0'}]\n",
        "print(dict)"
      ]
    },
    {
      "cell_type": "code",
      "execution_count": null,
      "metadata": {
        "colab": {
          "base_uri": "https://localhost:8080/",
          "height": 143
        },
        "id": "-o1604BD-f_T",
        "outputId": "2fe9a03c-b41d-4a75-c396-2b81d9c166c9"
      },
      "outputs": [
        {
          "data": {
            "text/html": [
              "\n",
              "  <div id=\"df-103644af-dd4a-4ac2-816c-a7844dc4257e\">\n",
              "    <div class=\"colab-df-container\">\n",
              "      <div>\n",
              "<style scoped>\n",
              "    .dataframe tbody tr th:only-of-type {\n",
              "        vertical-align: middle;\n",
              "    }\n",
              "\n",
              "    .dataframe tbody tr th {\n",
              "        vertical-align: top;\n",
              "    }\n",
              "\n",
              "    .dataframe thead th {\n",
              "        text-align: right;\n",
              "    }\n",
              "</style>\n",
              "<table border=\"1\" class=\"dataframe\">\n",
              "  <thead>\n",
              "    <tr style=\"text-align: right;\">\n",
              "      <th></th>\n",
              "      <th>Name</th>\n",
              "      <th>Age</th>\n",
              "      <th>Class</th>\n",
              "    </tr>\n",
              "  </thead>\n",
              "  <tbody>\n",
              "    <tr>\n",
              "      <th>0</th>\n",
              "      <td>Zara</td>\n",
              "      <td>20</td>\n",
              "      <td>BigData1</td>\n",
              "    </tr>\n",
              "    <tr>\n",
              "      <th>1</th>\n",
              "      <td>Lala</td>\n",
              "      <td>21</td>\n",
              "      <td>BigData2</td>\n",
              "    </tr>\n",
              "    <tr>\n",
              "      <th>2</th>\n",
              "      <td>Lili</td>\n",
              "      <td>22</td>\n",
              "      <td>BigData3</td>\n",
              "    </tr>\n",
              "  </tbody>\n",
              "</table>\n",
              "</div>\n",
              "      <button class=\"colab-df-convert\" onclick=\"convertToInteractive('df-103644af-dd4a-4ac2-816c-a7844dc4257e')\"\n",
              "              title=\"Convert this dataframe to an interactive table.\"\n",
              "              style=\"display:none;\">\n",
              "        \n",
              "  <svg xmlns=\"http://www.w3.org/2000/svg\" height=\"24px\"viewBox=\"0 0 24 24\"\n",
              "       width=\"24px\">\n",
              "    <path d=\"M0 0h24v24H0V0z\" fill=\"none\"/>\n",
              "    <path d=\"M18.56 5.44l.94 2.06.94-2.06 2.06-.94-2.06-.94-.94-2.06-.94 2.06-2.06.94zm-11 1L8.5 8.5l.94-2.06 2.06-.94-2.06-.94L8.5 2.5l-.94 2.06-2.06.94zm10 10l.94 2.06.94-2.06 2.06-.94-2.06-.94-.94-2.06-.94 2.06-2.06.94z\"/><path d=\"M17.41 7.96l-1.37-1.37c-.4-.4-.92-.59-1.43-.59-.52 0-1.04.2-1.43.59L10.3 9.45l-7.72 7.72c-.78.78-.78 2.05 0 2.83L4 21.41c.39.39.9.59 1.41.59.51 0 1.02-.2 1.41-.59l7.78-7.78 2.81-2.81c.8-.78.8-2.07 0-2.86zM5.41 20L4 18.59l7.72-7.72 1.47 1.35L5.41 20z\"/>\n",
              "  </svg>\n",
              "      </button>\n",
              "      \n",
              "  <style>\n",
              "    .colab-df-container {\n",
              "      display:flex;\n",
              "      flex-wrap:wrap;\n",
              "      gap: 12px;\n",
              "    }\n",
              "\n",
              "    .colab-df-convert {\n",
              "      background-color: #E8F0FE;\n",
              "      border: none;\n",
              "      border-radius: 50%;\n",
              "      cursor: pointer;\n",
              "      display: none;\n",
              "      fill: #1967D2;\n",
              "      height: 32px;\n",
              "      padding: 0 0 0 0;\n",
              "      width: 32px;\n",
              "    }\n",
              "\n",
              "    .colab-df-convert:hover {\n",
              "      background-color: #E2EBFA;\n",
              "      box-shadow: 0px 1px 2px rgba(60, 64, 67, 0.3), 0px 1px 3px 1px rgba(60, 64, 67, 0.15);\n",
              "      fill: #174EA6;\n",
              "    }\n",
              "\n",
              "    [theme=dark] .colab-df-convert {\n",
              "      background-color: #3B4455;\n",
              "      fill: #D2E3FC;\n",
              "    }\n",
              "\n",
              "    [theme=dark] .colab-df-convert:hover {\n",
              "      background-color: #434B5C;\n",
              "      box-shadow: 0px 1px 3px 1px rgba(0, 0, 0, 0.15);\n",
              "      filter: drop-shadow(0px 1px 2px rgba(0, 0, 0, 0.3));\n",
              "      fill: #FFFFFF;\n",
              "    }\n",
              "  </style>\n",
              "\n",
              "      <script>\n",
              "        const buttonEl =\n",
              "          document.querySelector('#df-103644af-dd4a-4ac2-816c-a7844dc4257e button.colab-df-convert');\n",
              "        buttonEl.style.display =\n",
              "          google.colab.kernel.accessAllowed ? 'block' : 'none';\n",
              "\n",
              "        async function convertToInteractive(key) {\n",
              "          const element = document.querySelector('#df-103644af-dd4a-4ac2-816c-a7844dc4257e');\n",
              "          const dataTable =\n",
              "            await google.colab.kernel.invokeFunction('convertToInteractive',\n",
              "                                                     [key], {});\n",
              "          if (!dataTable) return;\n",
              "\n",
              "          const docLinkHtml = 'Like what you see? Visit the ' +\n",
              "            '<a target=\"_blank\" href=https://colab.research.google.com/notebooks/data_table.ipynb>data table notebook</a>'\n",
              "            + ' to learn more about interactive tables.';\n",
              "          element.innerHTML = '';\n",
              "          dataTable['output_type'] = 'display_data';\n",
              "          await google.colab.output.renderOutput(dataTable, element);\n",
              "          const docLink = document.createElement('div');\n",
              "          docLink.innerHTML = docLinkHtml;\n",
              "          element.appendChild(docLink);\n",
              "        }\n",
              "      </script>\n",
              "    </div>\n",
              "  </div>\n",
              "  "
            ],
            "text/plain": [
              "   Name  Age     Class\n",
              "0  Zara   20  BigData1\n",
              "1  Lala   21  BigData2\n",
              "2  Lili   22  BigData3"
            ]
          },
          "execution_count": 42,
          "metadata": {},
          "output_type": "execute_result"
        }
      ],
      "source": [
        "#DataFrame dari Dictionary\n",
        "data = [{'Name': 'Zara', 'Age': 20, 'Class': 'BigData1'}, # index ke-0\n",
        "        {'Name': 'Lala', 'Age': 21, 'Class': 'BigData2'}, # index ke-1\n",
        "        {'Name': 'Lili', 'Age': 22, 'Class': 'BigData3'}] # index ke-3\n",
        "\n",
        "df = pd.DataFrame(data)\n",
        "\n",
        "df.head()"
      ]
    },
    {
      "cell_type": "markdown",
      "metadata": {
        "id": "z2RWDuQjfZaG"
      },
      "source": [
        "# **#Dataframe Dari File**"
      ]
    },
    {
      "cell_type": "code",
      "execution_count": null,
      "metadata": {
        "id": "AR6IKMtkgUpJ"
      },
      "outputs": [],
      "source": [
        "import pandas as pd"
      ]
    },
    {
      "cell_type": "code",
      "execution_count": null,
      "metadata": {
        "colab": {
          "base_uri": "https://localhost:8080/",
          "height": 270
        },
        "id": "oF9jIUGVf_2_",
        "outputId": "af97311a-49e0-4429-a3e7-10927c8918fb"
      },
      "outputs": [
        {
          "data": {
            "text/html": [
              "\n",
              "  <div id=\"df-46143884-dd62-4754-a233-bb14b73bf9a7\">\n",
              "    <div class=\"colab-df-container\">\n",
              "      <div>\n",
              "<style scoped>\n",
              "    .dataframe tbody tr th:only-of-type {\n",
              "        vertical-align: middle;\n",
              "    }\n",
              "\n",
              "    .dataframe tbody tr th {\n",
              "        vertical-align: top;\n",
              "    }\n",
              "\n",
              "    .dataframe thead th {\n",
              "        text-align: right;\n",
              "    }\n",
              "</style>\n",
              "<table border=\"1\" class=\"dataframe\">\n",
              "  <thead>\n",
              "    <tr style=\"text-align: right;\">\n",
              "      <th></th>\n",
              "      <th>longitude</th>\n",
              "      <th>latitude</th>\n",
              "      <th>housing_median_age</th>\n",
              "      <th>total_rooms</th>\n",
              "      <th>total_bedrooms</th>\n",
              "      <th>population</th>\n",
              "      <th>households</th>\n",
              "      <th>median_income</th>\n",
              "      <th>median_house_value</th>\n",
              "    </tr>\n",
              "  </thead>\n",
              "  <tbody>\n",
              "    <tr>\n",
              "      <th>0</th>\n",
              "      <td>-122.05</td>\n",
              "      <td>37.37</td>\n",
              "      <td>27.0</td>\n",
              "      <td>3885.0</td>\n",
              "      <td>661.0</td>\n",
              "      <td>1537.0</td>\n",
              "      <td>606.0</td>\n",
              "      <td>6.6085</td>\n",
              "      <td>344700.0</td>\n",
              "    </tr>\n",
              "    <tr>\n",
              "      <th>1</th>\n",
              "      <td>-118.30</td>\n",
              "      <td>34.26</td>\n",
              "      <td>43.0</td>\n",
              "      <td>1510.0</td>\n",
              "      <td>310.0</td>\n",
              "      <td>809.0</td>\n",
              "      <td>277.0</td>\n",
              "      <td>3.5990</td>\n",
              "      <td>176500.0</td>\n",
              "    </tr>\n",
              "    <tr>\n",
              "      <th>2</th>\n",
              "      <td>-117.81</td>\n",
              "      <td>33.78</td>\n",
              "      <td>27.0</td>\n",
              "      <td>3589.0</td>\n",
              "      <td>507.0</td>\n",
              "      <td>1484.0</td>\n",
              "      <td>495.0</td>\n",
              "      <td>5.7934</td>\n",
              "      <td>270500.0</td>\n",
              "    </tr>\n",
              "    <tr>\n",
              "      <th>3</th>\n",
              "      <td>-118.36</td>\n",
              "      <td>33.82</td>\n",
              "      <td>28.0</td>\n",
              "      <td>67.0</td>\n",
              "      <td>15.0</td>\n",
              "      <td>49.0</td>\n",
              "      <td>11.0</td>\n",
              "      <td>6.1359</td>\n",
              "      <td>330000.0</td>\n",
              "    </tr>\n",
              "    <tr>\n",
              "      <th>4</th>\n",
              "      <td>-119.67</td>\n",
              "      <td>36.33</td>\n",
              "      <td>19.0</td>\n",
              "      <td>1241.0</td>\n",
              "      <td>244.0</td>\n",
              "      <td>850.0</td>\n",
              "      <td>237.0</td>\n",
              "      <td>2.9375</td>\n",
              "      <td>81700.0</td>\n",
              "    </tr>\n",
              "  </tbody>\n",
              "</table>\n",
              "</div>\n",
              "      <button class=\"colab-df-convert\" onclick=\"convertToInteractive('df-46143884-dd62-4754-a233-bb14b73bf9a7')\"\n",
              "              title=\"Convert this dataframe to an interactive table.\"\n",
              "              style=\"display:none;\">\n",
              "        \n",
              "  <svg xmlns=\"http://www.w3.org/2000/svg\" height=\"24px\"viewBox=\"0 0 24 24\"\n",
              "       width=\"24px\">\n",
              "    <path d=\"M0 0h24v24H0V0z\" fill=\"none\"/>\n",
              "    <path d=\"M18.56 5.44l.94 2.06.94-2.06 2.06-.94-2.06-.94-.94-2.06-.94 2.06-2.06.94zm-11 1L8.5 8.5l.94-2.06 2.06-.94-2.06-.94L8.5 2.5l-.94 2.06-2.06.94zm10 10l.94 2.06.94-2.06 2.06-.94-2.06-.94-.94-2.06-.94 2.06-2.06.94z\"/><path d=\"M17.41 7.96l-1.37-1.37c-.4-.4-.92-.59-1.43-.59-.52 0-1.04.2-1.43.59L10.3 9.45l-7.72 7.72c-.78.78-.78 2.05 0 2.83L4 21.41c.39.39.9.59 1.41.59.51 0 1.02-.2 1.41-.59l7.78-7.78 2.81-2.81c.8-.78.8-2.07 0-2.86zM5.41 20L4 18.59l7.72-7.72 1.47 1.35L5.41 20z\"/>\n",
              "  </svg>\n",
              "      </button>\n",
              "      \n",
              "  <style>\n",
              "    .colab-df-container {\n",
              "      display:flex;\n",
              "      flex-wrap:wrap;\n",
              "      gap: 12px;\n",
              "    }\n",
              "\n",
              "    .colab-df-convert {\n",
              "      background-color: #E8F0FE;\n",
              "      border: none;\n",
              "      border-radius: 50%;\n",
              "      cursor: pointer;\n",
              "      display: none;\n",
              "      fill: #1967D2;\n",
              "      height: 32px;\n",
              "      padding: 0 0 0 0;\n",
              "      width: 32px;\n",
              "    }\n",
              "\n",
              "    .colab-df-convert:hover {\n",
              "      background-color: #E2EBFA;\n",
              "      box-shadow: 0px 1px 2px rgba(60, 64, 67, 0.3), 0px 1px 3px 1px rgba(60, 64, 67, 0.15);\n",
              "      fill: #174EA6;\n",
              "    }\n",
              "\n",
              "    [theme=dark] .colab-df-convert {\n",
              "      background-color: #3B4455;\n",
              "      fill: #D2E3FC;\n",
              "    }\n",
              "\n",
              "    [theme=dark] .colab-df-convert:hover {\n",
              "      background-color: #434B5C;\n",
              "      box-shadow: 0px 1px 3px 1px rgba(0, 0, 0, 0.15);\n",
              "      filter: drop-shadow(0px 1px 2px rgba(0, 0, 0, 0.3));\n",
              "      fill: #FFFFFF;\n",
              "    }\n",
              "  </style>\n",
              "\n",
              "      <script>\n",
              "        const buttonEl =\n",
              "          document.querySelector('#df-46143884-dd62-4754-a233-bb14b73bf9a7 button.colab-df-convert');\n",
              "        buttonEl.style.display =\n",
              "          google.colab.kernel.accessAllowed ? 'block' : 'none';\n",
              "\n",
              "        async function convertToInteractive(key) {\n",
              "          const element = document.querySelector('#df-46143884-dd62-4754-a233-bb14b73bf9a7');\n",
              "          const dataTable =\n",
              "            await google.colab.kernel.invokeFunction('convertToInteractive',\n",
              "                                                     [key], {});\n",
              "          if (!dataTable) return;\n",
              "\n",
              "          const docLinkHtml = 'Like what you see? Visit the ' +\n",
              "            '<a target=\"_blank\" href=https://colab.research.google.com/notebooks/data_table.ipynb>data table notebook</a>'\n",
              "            + ' to learn more about interactive tables.';\n",
              "          element.innerHTML = '';\n",
              "          dataTable['output_type'] = 'display_data';\n",
              "          await google.colab.output.renderOutput(dataTable, element);\n",
              "          const docLink = document.createElement('div');\n",
              "          docLink.innerHTML = docLinkHtml;\n",
              "          element.appendChild(docLink);\n",
              "        }\n",
              "      </script>\n",
              "    </div>\n",
              "  </div>\n",
              "  "
            ],
            "text/plain": [
              "   longitude  latitude  housing_median_age  total_rooms  total_bedrooms  \\\n",
              "0    -122.05     37.37                27.0       3885.0           661.0   \n",
              "1    -118.30     34.26                43.0       1510.0           310.0   \n",
              "2    -117.81     33.78                27.0       3589.0           507.0   \n",
              "3    -118.36     33.82                28.0         67.0            15.0   \n",
              "4    -119.67     36.33                19.0       1241.0           244.0   \n",
              "\n",
              "   population  households  median_income  median_house_value  \n",
              "0      1537.0       606.0         6.6085            344700.0  \n",
              "1       809.0       277.0         3.5990            176500.0  \n",
              "2      1484.0       495.0         5.7934            270500.0  \n",
              "3        49.0        11.0         6.1359            330000.0  \n",
              "4       850.0       237.0         2.9375             81700.0  "
            ]
          },
          "execution_count": 44,
          "metadata": {},
          "output_type": "execute_result"
        }
      ],
      "source": [
        "df = pd.read_csv('/content/sample_data/california_housing_test.csv')\n",
        "df.head()"
      ]
    },
    {
      "cell_type": "code",
      "execution_count": null,
      "metadata": {
        "id": "iHMJBTCJj4C_"
      },
      "outputs": [],
      "source": [
        "#menampilkan data 15 teratas\n",
        "df.head(15)"
      ]
    },
    {
      "cell_type": "code",
      "execution_count": null,
      "metadata": {
        "id": "KcPlIqtXj-06"
      },
      "outputs": [],
      "source": [
        "#memotong data dari baris ke-1 s/d baris ke-5\n",
        "df.loc[1:5]"
      ]
    },
    {
      "cell_type": "code",
      "execution_count": null,
      "metadata": {
        "id": "AO8gPjC-lDU7"
      },
      "outputs": [],
      "source": [
        "# 4 data teratas dari 3 kolom yang dipilih\n",
        "df.loc[0:3, ['longitude', 'latitude', 'housing_median_age']]"
      ]
    },
    {
      "cell_type": "markdown",
      "metadata": {
        "id": "2xFlgboQpde1"
      },
      "source": [
        "Referensi :\n",
        "\n",
        "https://belajarpython.com/tutorial/list-python\n",
        "\n",
        "https://ngodingdata.com/python-pandas-dataframe/\n",
        "\n",
        "https://basangdata.com/pandas-menampilkan-data/"
      ]
    },
    {
      "cell_type": "markdown",
      "metadata": {
        "id": "kKXkExA_3f7i"
      },
      "source": [
        "# Tugas"
      ]
    },
    {
      "cell_type": "code",
      "execution_count": null,
      "metadata": {
        "id": "BCPfMxmN3sag"
      },
      "outputs": [],
      "source": [
        "# Question sample dictionary\n",
        "\n",
        "soundtrack_dic = {\"The Bodyguard\":\"1992\", \"Saturday Night Fever\":\"1977\"}\n",
        "soundtrack_dic "
      ]
    },
    {
      "cell_type": "markdown",
      "metadata": {
        "id": "uiKFHqLE3yIY"
      },
      "source": [
        "1. pada dictionary sountrack_dic, manakah yang berfungsi sebagai key?\n",
        "2. pada dictionary sountrack_dic, tunjukkan valuenya!"
      ]
    },
    {
      "cell_type": "markdown",
      "metadata": {
        "id": "irN-ZXwYNoFI"
      },
      "source": [
        "**Jawaban:**\n",
        "1. Key dari dictionary soundtrack_dic adalah \"The Bodyguard\" dan \"Saturday Night Fever\"\n",
        "2. Value dari dictionary soundtrack_dic adalah \"1992\" dan \"1977\""
      ]
    },
    {
      "cell_type": "markdown",
      "metadata": {
        "id": "qdTaVlQR4oUv"
      },
      "source": [
        "Album **Back in Black**, **The Bodyguard** dan **Thriller** memiliki penjualan rekaman musik berikut dalam jutaan masing-masing **50**, **50** dan **65**:"
      ]
    },
    {
      "cell_type": "markdown",
      "metadata": {
        "id": "hlpFAXdJ5AsB"
      },
      "source": [
        "3. Buat dictionary **album_sales_dict** di mana ***key*** nya adalah **nama album** dan **penjualan dalam jutaan** adalah ***value***nya.\n",
        "4. dengan dictionary tersebut tampilkan **total penjualan album Thriller**"
      ]
    },
    {
      "cell_type": "code",
      "execution_count": 1,
      "metadata": {
        "colab": {
          "base_uri": "https://localhost:8080/"
        },
        "id": "WVxYQ10qOTV4",
        "outputId": "552d6129-f69c-4888-a219-9b3f3af03b70"
      },
      "outputs": [
        {
          "data": {
            "text/plain": [
              "{'Back in Black': '50', 'The Bodyguard': '50', 'Thriller': '65'}"
            ]
          },
          "execution_count": 1,
          "metadata": {},
          "output_type": "execute_result"
        }
      ],
      "source": [
        "#Jawaban no. 3\n",
        "album_sales_dic = {\"Back in Black\":\"50\", \"The Bodyguard\":\"50\", \"Thriller\":\"65\"}\n",
        "album_sales_dic"
      ]
    },
    {
      "cell_type": "code",
      "execution_count": 2,
      "metadata": {
        "colab": {
          "base_uri": "https://localhost:8080/",
          "height": 35
        },
        "id": "1DauJqIcPOg-",
        "outputId": "b10ad494-3871-4ceb-8316-b9ca557236d2"
      },
      "outputs": [
        {
          "data": {
            "application/vnd.google.colaboratory.intrinsic+json": {
              "type": "string"
            },
            "text/plain": [
              "'65'"
            ]
          },
          "execution_count": 2,
          "metadata": {},
          "output_type": "execute_result"
        }
      ],
      "source": [
        "#Jawaban no. 4\n",
        "album_sales_dic[\"Thriller\"]"
      ]
    },
    {
      "cell_type": "code",
      "execution_count": 4,
      "metadata": {
        "colab": {
          "base_uri": "https://localhost:8080/"
        },
        "id": "iLw_dkOpQ50d",
        "outputId": "8fa28323-8434-464a-d9d3-7a9565f02870"
      },
      "outputs": [
        {
          "name": "stdout",
          "output_type": "stream",
          "text": [
            "Total album sales for Thriller is 65 millions.\n"
          ]
        }
      ],
      "source": [
        "def printAlbumSalesDic(key):\n",
        "  print(f\"Total album sales for {key} is {album_sales_dic[key]} millions.\")\n",
        "\n",
        "printAlbumSalesDic(\"Thriller\")"
      ]
    },
    {
      "cell_type": "code",
      "execution_count": 5,
      "metadata": {
        "colab": {
          "base_uri": "https://localhost:8080/"
        },
        "id": "Jt6Ceh6E6A0O",
        "outputId": "7f010ca9-0ed5-474e-c88b-5b8f16b2fd77"
      },
      "outputs": [
        {
          "data": {
            "text/plain": [
              "('pop',\n",
              " 'rock',\n",
              " 'soul',\n",
              " 'hard rock',\n",
              " 'soft rock',\n",
              " 'R&B',\n",
              " 'progressive rock',\n",
              " 'disco')"
            ]
          },
          "execution_count": 5,
          "metadata": {},
          "output_type": "execute_result"
        }
      ],
      "source": [
        "# sample tuple\n",
        "\n",
        "genres_tuple = (\"pop\", \"rock\", \"soul\", \"hard rock\", \"soft rock\", \\\n",
        "                \"R&B\", \"progressive rock\", \"disco\") \n",
        "genres_tuple"
      ]
    },
    {
      "cell_type": "markdown",
      "metadata": {
        "id": "mKhkhu_06LLg"
      },
      "source": [
        "5. Hitung panjang dari tuple genres_tuple\n",
        "6. tampilkan data index ke 3 dari tuple tersebut(index dimulai dari 0)\n",
        "7. tampilkan data index ke 2 s/d 6, dari tuple tersebut"
      ]
    },
    {
      "cell_type": "code",
      "execution_count": 6,
      "metadata": {
        "colab": {
          "base_uri": "https://localhost:8080/"
        },
        "id": "ExZ7OJKrSbDE",
        "outputId": "1593eebb-f0ea-41d0-a0d7-2c818a8d7434"
      },
      "outputs": [
        {
          "data": {
            "text/plain": [
              "8"
            ]
          },
          "execution_count": 6,
          "metadata": {},
          "output_type": "execute_result"
        }
      ],
      "source": [
        "#Jawaban no. 5\n",
        "len(genres_tuple)"
      ]
    },
    {
      "cell_type": "code",
      "execution_count": 20,
      "metadata": {
        "colab": {
          "base_uri": "https://localhost:8080/",
          "height": 35
        },
        "id": "Bd19IlLCSwam",
        "outputId": "74a5fb00-ac00-4ce0-c649-5b5e7d777fe4"
      },
      "outputs": [
        {
          "data": {
            "application/vnd.google.colaboratory.intrinsic+json": {
              "type": "string"
            },
            "text/plain": [
              "'hard rock'"
            ]
          },
          "execution_count": 20,
          "metadata": {},
          "output_type": "execute_result"
        }
      ],
      "source": [
        "#Jawaban no. 6\n",
        "genres_tuple[3]"
      ]
    },
    {
      "cell_type": "code",
      "execution_count": 19,
      "metadata": {
        "colab": {
          "base_uri": "https://localhost:8080/"
        },
        "id": "-3sValNQTkSa",
        "outputId": "6bdc0b16-1521-4e05-ade4-cae9776ab789"
      },
      "outputs": [
        {
          "data": {
            "text/plain": [
              "('soul', 'hard rock', 'soft rock', 'R&B')"
            ]
          },
          "execution_count": 19,
          "metadata": {},
          "output_type": "execute_result"
        }
      ],
      "source": [
        "#Jawaban no. 7\n",
        "genres_tuple[2:6]"
      ]
    },
    {
      "cell_type": "markdown",
      "metadata": {
        "id": "B72qGBmx8vQZ"
      },
      "source": [
        "8. Buat list **a_list**, dengan elemen berikut **1**, **hello**, **[1,2,3]** dan **True**.\n",
        "9. tampilkan value dari index 1, list tersebut\n",
        "10. gabungkan list berikut : lists A = [1, 'a'] and B = [2, 1, 'd']:"
      ]
    },
    {
      "cell_type": "markdown",
      "metadata": {
        "id": "Tf1tnwGV755Z"
      },
      "source": [
        "11. Buat data Frame dari dictionary, yang berisi data teman sekelas anda 5 orang(data memuat nim, nama,no hp). kemudian tampilkan 3 data teratas dari data frame tersebut"
      ]
    },
    {
      "cell_type": "code",
      "execution_count": 13,
      "metadata": {
        "colab": {
          "base_uri": "https://localhost:8080/"
        },
        "id": "snWdFQF-UINN",
        "outputId": "f4a91b62-8899-499c-a593-e0d247f9f1f0"
      },
      "outputs": [
        {
          "data": {
            "text/plain": [
              "[1, 'hello', [1, 2, 3], True]"
            ]
          },
          "execution_count": 13,
          "metadata": {},
          "output_type": "execute_result"
        }
      ],
      "source": [
        "#Jawaban no. 8\n",
        "a_list = [1, \"hello\", [1, 2, 3], True]\n",
        "a_list"
      ]
    },
    {
      "cell_type": "code",
      "execution_count": 18,
      "metadata": {
        "colab": {
          "base_uri": "https://localhost:8080/",
          "height": 35
        },
        "id": "qKDebHNrUfFv",
        "outputId": "e841f849-d1e8-449c-e4be-cdbbbb2362d4"
      },
      "outputs": [
        {
          "data": {
            "application/vnd.google.colaboratory.intrinsic+json": {
              "type": "string"
            },
            "text/plain": [
              "'hello'"
            ]
          },
          "execution_count": 18,
          "metadata": {},
          "output_type": "execute_result"
        }
      ],
      "source": [
        "#Jawaban no. 9\n",
        "a_list[1]"
      ]
    },
    {
      "cell_type": "code",
      "execution_count": 16,
      "metadata": {
        "colab": {
          "base_uri": "https://localhost:8080/"
        },
        "id": "mh2H8aBjVEzT",
        "outputId": "2158ff12-5955-4bb0-ae32-6301f3616107"
      },
      "outputs": [
        {
          "data": {
            "text/plain": [
              "[1, 'a', 2, 1, 'd']"
            ]
          },
          "execution_count": 16,
          "metadata": {},
          "output_type": "execute_result"
        }
      ],
      "source": [
        "#Jawaban no. 10\n",
        "A = [1, 'a'] \n",
        "B = [2, 1, 'd']\n",
        "AB = A+B\n",
        "AB"
      ]
    },
    {
      "cell_type": "code",
      "execution_count": 22,
      "metadata": {
        "colab": {
          "base_uri": "https://localhost:8080/",
          "height": 143
        },
        "id": "73cd0Q4bXynL",
        "outputId": "333bc7a1-8cbc-4aec-8749-2531d1191e0a"
      },
      "outputs": [
        {
          "data": {
            "text/html": [
              "\n",
              "  <div id=\"df-a472ee6f-b584-41b8-b48a-c616df7b3f56\">\n",
              "    <div class=\"colab-df-container\">\n",
              "      <div>\n",
              "<style scoped>\n",
              "    .dataframe tbody tr th:only-of-type {\n",
              "        vertical-align: middle;\n",
              "    }\n",
              "\n",
              "    .dataframe tbody tr th {\n",
              "        vertical-align: top;\n",
              "    }\n",
              "\n",
              "    .dataframe thead th {\n",
              "        text-align: right;\n",
              "    }\n",
              "</style>\n",
              "<table border=\"1\" class=\"dataframe\">\n",
              "  <thead>\n",
              "    <tr style=\"text-align: right;\">\n",
              "      <th></th>\n",
              "      <th>NIM</th>\n",
              "      <th>Nama</th>\n",
              "      <th>No. HP</th>\n",
              "    </tr>\n",
              "  </thead>\n",
              "  <tbody>\n",
              "    <tr>\n",
              "      <th>0</th>\n",
              "      <td>20.11.3687</td>\n",
              "      <td>Ahmad Iqbal Agyan</td>\n",
              "      <td>08273847283</td>\n",
              "    </tr>\n",
              "    <tr>\n",
              "      <th>1</th>\n",
              "      <td>20.11.3694</td>\n",
              "      <td>Fathurrahman Nur Aziz</td>\n",
              "      <td>08135736284</td>\n",
              "    </tr>\n",
              "    <tr>\n",
              "      <th>2</th>\n",
              "      <td>20.11.3708</td>\n",
              "      <td>Satya Tegar Kusuma</td>\n",
              "      <td>081385728365</td>\n",
              "    </tr>\n",
              "  </tbody>\n",
              "</table>\n",
              "</div>\n",
              "      <button class=\"colab-df-convert\" onclick=\"convertToInteractive('df-a472ee6f-b584-41b8-b48a-c616df7b3f56')\"\n",
              "              title=\"Convert this dataframe to an interactive table.\"\n",
              "              style=\"display:none;\">\n",
              "        \n",
              "  <svg xmlns=\"http://www.w3.org/2000/svg\" height=\"24px\"viewBox=\"0 0 24 24\"\n",
              "       width=\"24px\">\n",
              "    <path d=\"M0 0h24v24H0V0z\" fill=\"none\"/>\n",
              "    <path d=\"M18.56 5.44l.94 2.06.94-2.06 2.06-.94-2.06-.94-.94-2.06-.94 2.06-2.06.94zm-11 1L8.5 8.5l.94-2.06 2.06-.94-2.06-.94L8.5 2.5l-.94 2.06-2.06.94zm10 10l.94 2.06.94-2.06 2.06-.94-2.06-.94-.94-2.06-.94 2.06-2.06.94z\"/><path d=\"M17.41 7.96l-1.37-1.37c-.4-.4-.92-.59-1.43-.59-.52 0-1.04.2-1.43.59L10.3 9.45l-7.72 7.72c-.78.78-.78 2.05 0 2.83L4 21.41c.39.39.9.59 1.41.59.51 0 1.02-.2 1.41-.59l7.78-7.78 2.81-2.81c.8-.78.8-2.07 0-2.86zM5.41 20L4 18.59l7.72-7.72 1.47 1.35L5.41 20z\"/>\n",
              "  </svg>\n",
              "      </button>\n",
              "      \n",
              "  <style>\n",
              "    .colab-df-container {\n",
              "      display:flex;\n",
              "      flex-wrap:wrap;\n",
              "      gap: 12px;\n",
              "    }\n",
              "\n",
              "    .colab-df-convert {\n",
              "      background-color: #E8F0FE;\n",
              "      border: none;\n",
              "      border-radius: 50%;\n",
              "      cursor: pointer;\n",
              "      display: none;\n",
              "      fill: #1967D2;\n",
              "      height: 32px;\n",
              "      padding: 0 0 0 0;\n",
              "      width: 32px;\n",
              "    }\n",
              "\n",
              "    .colab-df-convert:hover {\n",
              "      background-color: #E2EBFA;\n",
              "      box-shadow: 0px 1px 2px rgba(60, 64, 67, 0.3), 0px 1px 3px 1px rgba(60, 64, 67, 0.15);\n",
              "      fill: #174EA6;\n",
              "    }\n",
              "\n",
              "    [theme=dark] .colab-df-convert {\n",
              "      background-color: #3B4455;\n",
              "      fill: #D2E3FC;\n",
              "    }\n",
              "\n",
              "    [theme=dark] .colab-df-convert:hover {\n",
              "      background-color: #434B5C;\n",
              "      box-shadow: 0px 1px 3px 1px rgba(0, 0, 0, 0.15);\n",
              "      filter: drop-shadow(0px 1px 2px rgba(0, 0, 0, 0.3));\n",
              "      fill: #FFFFFF;\n",
              "    }\n",
              "  </style>\n",
              "\n",
              "      <script>\n",
              "        const buttonEl =\n",
              "          document.querySelector('#df-a472ee6f-b584-41b8-b48a-c616df7b3f56 button.colab-df-convert');\n",
              "        buttonEl.style.display =\n",
              "          google.colab.kernel.accessAllowed ? 'block' : 'none';\n",
              "\n",
              "        async function convertToInteractive(key) {\n",
              "          const element = document.querySelector('#df-a472ee6f-b584-41b8-b48a-c616df7b3f56');\n",
              "          const dataTable =\n",
              "            await google.colab.kernel.invokeFunction('convertToInteractive',\n",
              "                                                     [key], {});\n",
              "          if (!dataTable) return;\n",
              "\n",
              "          const docLinkHtml = 'Like what you see? Visit the ' +\n",
              "            '<a target=\"_blank\" href=https://colab.research.google.com/notebooks/data_table.ipynb>data table notebook</a>'\n",
              "            + ' to learn more about interactive tables.';\n",
              "          element.innerHTML = '';\n",
              "          dataTable['output_type'] = 'display_data';\n",
              "          await google.colab.output.renderOutput(dataTable, element);\n",
              "          const docLink = document.createElement('div');\n",
              "          docLink.innerHTML = docLinkHtml;\n",
              "          element.appendChild(docLink);\n",
              "        }\n",
              "      </script>\n",
              "    </div>\n",
              "  </div>\n",
              "  "
            ],
            "text/plain": [
              "          NIM                   Nama        No. HP\n",
              "0  20.11.3687      Ahmad Iqbal Agyan   08273847283\n",
              "1  20.11.3694  Fathurrahman Nur Aziz   08135736284\n",
              "2  20.11.3708     Satya Tegar Kusuma  081385728365"
            ]
          },
          "execution_count": 22,
          "metadata": {},
          "output_type": "execute_result"
        }
      ],
      "source": [
        "#Jawaban no. 11\n",
        "classmates = {\"NIM\":[\"20.11.3687\", \"20.11.3694\", \"20.11.3708\", \"20.11.3714\", \"20.11.3727\"], \n",
        "              \"Nama\":[\"Ahmad Iqbal Agyan\", \"Fathurrahman Nur Aziz\", \"Satya Tegar Kusuma\", \"Muhammad Bastian Hanafi\", \"Fauzan Baehaqi\"], \n",
        "              \"No. HP\":[\"08273847283\", \"08135736284\", \"081385728365\", \"08937562836\", \"087274628365\"]}\n",
        "import pandas as pd\n",
        "df = pd.DataFrame(classmates)\n",
        "df.head(3)"
      ]
    }
  ],
  "metadata": {
    "colab": {
      "collapsed_sections": [],
      "provenance": []
    },
    "kernelspec": {
      "display_name": "Python 3.10.1 64-bit",
      "language": "python",
      "name": "python3"
    },
    "language_info": {
      "name": "python",
      "version": "3.10.1"
    },
    "vscode": {
      "interpreter": {
        "hash": "5638aee0ecf893873f5950d84c5e0f567a4395316cf9ea5c7bd2b0b1ab78e9f3"
      }
    }
  },
  "nbformat": 4,
  "nbformat_minor": 0
}
