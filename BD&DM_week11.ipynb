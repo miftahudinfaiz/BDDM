{
  "nbformat": 4,
  "nbformat_minor": 0,
  "metadata": {
    "colab": {
      "provenance": [],
      "authorship_tag": "ABX9TyM8RckqRBaqK5rz8NcSBad8",
      "include_colab_link": true
    },
    "kernelspec": {
      "name": "python3",
      "display_name": "Python 3"
    },
    "language_info": {
      "name": "python"
    }
  },
  "cells": [
    {
      "cell_type": "markdown",
      "metadata": {
        "id": "view-in-github",
        "colab_type": "text"
      },
      "source": [
        "<a href=\"https://colab.research.google.com/github/miftahudinfaiz/BDDM/blob/main/BD%26DM_week11.ipynb\" target=\"_parent\"><img src=\"https://colab.research.google.com/assets/colab-badge.svg\" alt=\"Open In Colab\"/></a>"
      ]
    },
    {
      "cell_type": "markdown",
      "source": [
        "##Week 11 - K Means Clustering"
      ],
      "metadata": {
        "id": "F96htNhr5I9Z"
      }
    },
    {
      "cell_type": "markdown",
      "source": [
        "###Konsep Clustering"
      ],
      "metadata": {
        "id": "VtNoq-Df5PYB"
      }
    },
    {
      "cell_type": "markdown",
      "source": [
        "**Clustering** adalah sebuah proses untuk mengelompokan data ke dalam beberapa cluster atau kelompok sehingga data dalam satu cluster memiliki tingkat kemiripan yang maksimum dan data antar cluster memiliki kemiripan yang minimum.\n",
        "\n",
        "\n"
      ],
      "metadata": {
        "id": "JpJioDlE5TW3"
      }
    },
    {
      "cell_type": "markdown",
      "source": [
        "![Picture2.jpg](data:image/jpeg;base64,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)"
      ],
      "metadata": {
        "id": "OcD5MZfX_RXS"
      }
    },
    {
      "cell_type": "markdown",
      "source": [
        "\n",
        "**Metode K-means** merupakan metode clustering yang paling sederhana dan umum. Hal ini dikarenakan K-means mempunyai kemampuan mengelompokkan data dalam jumlah yang cukup besar dengan waktu komputasi yang cepat dan efisien.\n"
      ],
      "metadata": {
        "id": "Aop-TSzS_Sds"
      }
    },
    {
      "cell_type": "markdown",
      "source": [
        "![Picture3.jpg](data:image/jpeg;base64,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)\n"
      ],
      "metadata": {
        "id": "wCBhvoI-_J_c"
      }
    },
    {
      "cell_type": "markdown",
      "source": [
        "Cara kerja algoritma K-Means Clustering sebagai berikut :\n",
        "\n",
        "**Langkah 1:** Tentukan berapa banyak cluster k dari dataset yang akan dibagi.\n",
        "\n",
        "**Langkah 2:** Tetapkan secara acak data k menjadi pusat awal lokasi klaster.\n",
        "\n",
        "**Langkah 3:** Untuk masing-masing data, temukan pusat cluster terdekat. Dengan demikian berarti masing-masing pusat cluster memiliki sebuah subset dari dataset, sehingga mewakili bagian dari dataset. Oleh karena itu, telah terbentuk cluster k: Cl, C2, C3, ..., Ck .\n",
        "\n",
        "**Langkah 4:** Untuk masing-masing cluster k, temukan pusat luasan klaster, dan perbarui lokasi dari masing-masing pusat cluster ke nilai baru dari pusat luasan.\n",
        "\n",
        "**Langkah 5:** Ulangi langkah ke-3 dan ke-5 hingga data-data pada tiap cluster menjadi terpusat atau selesai.\n",
        "\n",
        "Algoritma K-Means Clustering memiliki kelebihan dan juga kekurangan.\n",
        "\n",
        "**Kelebihan**\n",
        "\n",
        "*\tRelatif sederhana dan mudah untuk diterapkan.\n",
        "*\tDapat diskalakan untuk dataset dalam jumlah besar.\n",
        "*\tMudah beradaptasi dengan contoh baru.\n",
        "*\tUmum diimplementasikan ke cluster dengan bentuk dan ukuran yang berbeda, seperti cluster elips.\n",
        "\n",
        "**Kekurangan**\n",
        "\n",
        "*\tPerlu menentukan nilai k secara manual\n",
        "*\tSangat bergantung pada inisialisasi awal. Jika nilai random untuk inisialisasi kurang baik, maka pengelompokkan yang dihasilkan pun menjadi kurang optimal.\n",
        "*\tDapat terjadi curse of dimensionality. Masalah ini timbul jika dataset memiliki dimensi yang sangat tinggi\n",
        "*\tK-means mengalami kesulitan mengelompokkan data di mana cluster memiliki ukuran dan kepadatan yang bervariasi."
      ],
      "metadata": {
        "id": "uXn7ZCtw_W1C"
      }
    },
    {
      "cell_type": "markdown",
      "source": [
        "##Implementasi 1 - Basic Clustering - Data Dummy Make Blobs"
      ],
      "metadata": {
        "id": "4KN6pbo5AKWZ"
      }
    },
    {
      "cell_type": "markdown",
      "source": [
        "###1. Import Library"
      ],
      "metadata": {
        "id": "B8UBMHGyAMBm"
      }
    },
    {
      "cell_type": "code",
      "execution_count": 4,
      "metadata": {
        "id": "PI3QK6la4thz"
      },
      "outputs": [],
      "source": [
        "import numpy as np #used for working with arrays and maths \n",
        "import pandas as pd #dataframe \n",
        "from matplotlib import pyplot as plt #plotting \n",
        "from sklearn.datasets import make_blobs #generate data \n",
        "from sklearn.cluster import KMeans #main algorithm\n",
        "\n",
        "#determining number of clusters \n",
        "from sklearn.metrics import silhouette_score"
      ]
    },
    {
      "cell_type": "markdown",
      "source": [
        "###2. Load Dataset"
      ],
      "metadata": {
        "id": "Or_HRQBNAdIh"
      }
    },
    {
      "cell_type": "code",
      "source": [
        "X, y = make_blobs(n_samples=300, centers=4, cluster_std=0.60, random_state=0) #make blobs() adalah dataset yang dapat dimodelkan oleh K-Means clustering. \n",
        "# n samples jumlah data\n",
        "# centers . jumlah cluster\n",
        "# cluster std . std cluster\n",
        "plt.scatter(X[:, 0], X[:, 1])"
      ],
      "metadata": {
        "colab": {
          "base_uri": "https://localhost:8080/",
          "height": 282
        },
        "id": "YjKsY59rAXBm",
        "outputId": "b008d39f-36e0-4515-b190-13e8a2c07e3e"
      },
      "execution_count": 5,
      "outputs": [
        {
          "output_type": "execute_result",
          "data": {
            "text/plain": [
              "<matplotlib.collections.PathCollection at 0x7f0e5bcab280>"
            ]
          },
          "metadata": {},
          "execution_count": 5
        },
        {
          "output_type": "display_data",
          "data": {
            "text/plain": [
              "<Figure size 432x288 with 1 Axes>"
            ],
            "image/png": "[encoded data removed]"
          },
          "metadata": {
            "needs_background": "light"
          }
        }
      ]
    },
    {
      "cell_type": "markdown",
      "source": [
        "###3. Determine Number of Clusters"
      ],
      "metadata": {
        "id": "hN7ME76MBCFb"
      }
    },
    {
      "cell_type": "markdown",
      "source": [
        "Bagian ini diperlukan untuk menentukan jumlah cluster optimal, pada kasus kali ini jumlah cluster telah diketahui yaitu 4. Namun cara ini cocok untuk diterapkan pada dataset dengan sebaran yang berdekatan."
      ],
      "metadata": {
        "id": "pxyRUnqvBFD-"
      }
    },
    {
      "cell_type": "markdown",
      "source": [
        "####Method 1 - Elbow Method"
      ],
      "metadata": {
        "id": "8FTXxnpWBN20"
      }
    },
    {
      "cell_type": "markdown",
      "source": [
        "**Metode Elbow** merupakan suatu metode yang digunakan untuk menghasilkan informasi dalam menentukan jumlah cluster terbaik dengan cara melihat persentase hasil perbandingan antara jumlah cluster yang akan membentuk siku pada suatu titik.\n",
        "\n",
        "Jika nilai cluster pertama dengan nilai cluster kedua memberikan sudut dalam grafik atau nilainya mengalami penurunan paling besar maka jumlah nilai cluster tersebut yang tepat. Untuk mendapatkan perbandingannya adalah dengan menghitung Sum of Square Error (SSE) dari masing-masing nilai cluster. Karena semakin besar jumlah nilai cluster K, maka nilai SSE akan semakin kecil.\n",
        "\n",
        "Persamaan SSE=![Screenshot_1.png](data:image/png;base64,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)"
      ],
      "metadata": {
        "id": "H2hxO_-EBXtG"
      }
    },
    {
      "cell_type": "code",
      "source": [
        "wcss = []\n",
        "for i in range(1, 11):\n",
        "  kmeans = KMeans(n_clusters=i, init='k-means++', max_iter=300, n_init=10, random_state=0)\n",
        "  kmeans.fit(X) \n",
        "  wcss.append(kmeans.inertia_)\n",
        "plt.plot(range(1, 11), wcss)\n",
        "plt.title(' Elbow Method' )\n",
        "plt.xlabel('Number of clusters' )\n",
        "plt.ylabel('WCSS')\n",
        "plt.show()"
      ],
      "metadata": {
        "colab": {
          "base_uri": "https://localhost:8080/",
          "height": 295
        },
        "id": "x5L5rWchA84n",
        "outputId": "c449e7ee-d14a-4c27-f215-af205aa98f51"
      },
      "execution_count": 8,
      "outputs": [
        {
          "output_type": "display_data",
          "data": {
            "text/plain": [
              "<Figure size 432x288 with 1 Axes>"
            ],
            "image/png": "[encoded data removed]"
          },
          "metadata": {
            "needs_background": "light"
          }
        }
      ]
    },
    {
      "cell_type": "markdown",
      "source": [
        "####Method 2 - Silhouette Coefficient"
      ],
      "metadata": {
        "id": "LwirlNkXCYjf"
      }
    },
    {
      "cell_type": "markdown",
      "source": [
        "**Silhouette Coefficient** digunakan untuk melihat kualitas dan kekuatan cluster, seberapa baik atau buruknya suatu obyek ditempatkan dalam suatu cluster. Metode ini merupakan gabungan dari metode separasi dan kohesi."
      ],
      "metadata": {
        "id": "fU5mOgnmCdTu"
      }
    },
    {
      "cell_type": "code",
      "source": [
        "# A list holds the silhouette coefficients for each k \n",
        "silhouette_coefficients = []\n",
        "# Notice you start at 2 clusters for silhouette coefficient \n",
        "for k in range(2, 11):\n",
        "  kmeans= KMeans(n_clusters=k, init='k-means++', max_iter=300, n_init=10,\trandom_state=0)\n",
        "  kmeans.fit(X)\n",
        "  score = silhouette_score(X, kmeans.labels_)\n",
        "  silhouette_coefficients.append(score)\n",
        "plt.style.use(\"fivethirtyeight\")\n",
        "plt.plot(range(2, 11), silhouette_coefficients)\n",
        "plt.xticks(range(2, 11))\n",
        "plt.xlabel(\"Number of Clusters\")\n",
        "plt.ylabel(\"Silhouette Coefficient\")\n",
        "plt.show()"
      ],
      "metadata": {
        "colab": {
          "base_uri": "https://localhost:8080/",
          "height": 304
        },
        "id": "yeVyr_Q5Cc5L",
        "outputId": "d0461f61-f33a-44c9-b571-2d9f0f2d611e"
      },
      "execution_count": 11,
      "outputs": [
        {
          "output_type": "display_data",
          "data": {
            "text/plain": [
              "<Figure size 432x288 with 1 Axes>"
            ],
            "image/png": "[encoded data removed]"
          },
          "metadata": {}
        }
      ]
    },
    {
      "cell_type": "markdown",
      "source": [
        "####4. Create Cluster"
      ],
      "metadata": {
        "id": "drEfdf0FDhVB"
      }
    },
    {
      "cell_type": "code",
      "source": [
        "kmeans = KMeans(n_clusters=4, init='k-means++', max_iter=300, n_init=10, random_state=0)\n",
        "pred_y = kmeans.fit_predict(X)\n",
        "plt.scatter(X[:, 0], X[:, 1]) \n",
        "plt.scatter(kmeans.cluster_centers_[:, 0], kmeans.cluster_centers_[:, 1], s=300, c='red')\n",
        "plt.show()"
      ],
      "metadata": {
        "colab": {
          "base_uri": "https://localhost:8080/",
          "height": 282
        },
        "id": "E8AnScDZB9QS",
        "outputId": "a6c42dac-6c2a-462c-c364-dd9b7a80428b"
      },
      "execution_count": 13,
      "outputs": [
        {
          "output_type": "display_data",
          "data": {
            "text/plain": [
              "<Figure size 432x288 with 1 Axes>"
            ],
            "image/png": "[encoded data removed]"
          },
          "metadata": {}
        }
      ]
    },
    {
      "cell_type": "markdown",
      "source": [
        "Dari gambar diatas dapat kita lihat bahwa dari 300 data telah ter cluster menjadi 4."
      ],
      "metadata": {
        "id": "1QexM5OdEPVA"
      }
    },
    {
      "cell_type": "markdown",
      "source": [
        "###Implementasi 2 - Mall Customer Segmentation"
      ],
      "metadata": {
        "id": "YXBK6NByETZu"
      }
    },
    {
      "cell_type": "markdown",
      "source": [
        "####1. Import Library"
      ],
      "metadata": {
        "id": "aetniuJyEVcQ"
      }
    },
    {
      "cell_type": "code",
      "source": [
        "import numpy as np\n",
        "import pandas as pd\n",
        "\n",
        "# Visualization packages\n",
        "import matplotlib.pyplot as plt\n",
        "import seaborn as sns\n",
        "from sklearn.cluster import KMeans\n",
        "import warnings\n",
        "warnings.filterwarnings('ignore')\n",
        "\n",
        "# Determine number of clusters\n",
        "from sklearn.metrics import silhouette_score"
      ],
      "metadata": {
        "id": "Ke-QuJbgEal4"
      },
      "execution_count": 14,
      "outputs": []
    },
    {
      "cell_type": "markdown",
      "source": [
        "####2. Load Dataset"
      ],
      "metadata": {
        "id": "dtdX2PL_Esif"
      }
    },
    {
      "cell_type": "code",
      "source": [
        "df = pd.read_csv(\"https://raw.githubusercontent.com/miftahudinfaiz/BDDM/main/Dataset%20files/Mall_Customers.csv\")"
      ],
      "metadata": {
        "id": "Cb0BauRsGdjC"
      },
      "execution_count": 15,
      "outputs": []
    },
    {
      "cell_type": "markdown",
      "source": [
        "####3. EDA"
      ],
      "metadata": {
        "id": "1PVnhHbnGjQn"
      }
    },
    {
      "cell_type": "code",
      "source": [
        "df.head()"
      ],
      "metadata": {
        "colab": {
          "base_uri": "https://localhost:8080/",
          "height": 206
        },
        "id": "G-D3TWGwGk40",
        "outputId": "a18e8413-dec8-4a0f-f100-8531e080ed97"
      },
      "execution_count": 16,
      "outputs": [
        {
          "output_type": "execute_result",
          "data": {
            "text/plain": [
              "   CustomerID  Gender  Age  Annual Income (k$)  Spending Score (1-100)\n",
              "0           1    Male   19                  15                      39\n",
              "1           2    Male   21                  15                      81\n",
              "2           3  Female   20                  16                       6\n",
              "3           4  Female   23                  16                      77\n",
              "4           5  Female   31                  17                      40"
            ],
            "text/html": [
              "\n",
              "  <div id=\"df-0a0b09b5-cfde-464f-bb44-0d677805eb74\">\n",
              "    <div class=\"colab-df-container\">\n",
              "      <div>\n",
              "<style scoped>\n",
              "    .dataframe tbody tr th:only-of-type {\n",
              "        vertical-align: middle;\n",
              "    }\n",
              "\n",
              "    .dataframe tbody tr th {\n",
              "        vertical-align: top;\n",
              "    }\n",
              "\n",
              "    .dataframe thead th {\n",
              "        text-align: right;\n",
              "    }\n",
              "</style>\n",
              "<table border=\"1\" class=\"dataframe\">\n",
              "  <thead>\n",
              "    <tr style=\"text-align: right;\">\n",
              "      <th></th>\n",
              "      <th>CustomerID</th>\n",
              "      <th>Gender</th>\n",
              "      <th>Age</th>\n",
              "      <th>Annual Income (k$)</th>\n",
              "      <th>Spending Score (1-100)</th>\n",
              "    </tr>\n",
              "  </thead>\n",
              "  <tbody>\n",
              "    <tr>\n",
              "      <th>0</th>\n",
              "      <td>1</td>\n",
              "      <td>Male</td>\n",
              "      <td>19</td>\n",
              "      <td>15</td>\n",
              "      <td>39</td>\n",
              "    </tr>\n",
              "    <tr>\n",
              "      <th>1</th>\n",
              "      <td>2</td>\n",
              "      <td>Male</td>\n",
              "      <td>21</td>\n",
              "      <td>15</td>\n",
              "      <td>81</td>\n",
              "    </tr>\n",
              "    <tr>\n",
              "      <th>2</th>\n",
              "      <td>3</td>\n",
              "      <td>Female</td>\n",
              "      <td>20</td>\n",
              "      <td>16</td>\n",
              "      <td>6</td>\n",
              "    </tr>\n",
              "    <tr>\n",
              "      <th>3</th>\n",
              "      <td>4</td>\n",
              "      <td>Female</td>\n",
              "      <td>23</td>\n",
              "      <td>16</td>\n",
              "      <td>77</td>\n",
              "    </tr>\n",
              "    <tr>\n",
              "      <th>4</th>\n",
              "      <td>5</td>\n",
              "      <td>Female</td>\n",
              "      <td>31</td>\n",
              "      <td>17</td>\n",
              "      <td>40</td>\n",
              "    </tr>\n",
              "  </tbody>\n",
              "</table>\n",
              "</div>\n",
              "      <button class=\"colab-df-convert\" onclick=\"convertToInteractive('df-0a0b09b5-cfde-464f-bb44-0d677805eb74')\"\n",
              "              title=\"Convert this dataframe to an interactive table.\"\n",
              "              style=\"display:none;\">\n",
              "        \n",
              "  <svg xmlns=\"http://www.w3.org/2000/svg\" height=\"24px\"viewBox=\"0 0 24 24\"\n",
              "       width=\"24px\">\n",
              "    <path d=\"M0 0h24v24H0V0z\" fill=\"none\"/>\n",
              "    <path d=\"M18.56 5.44l.94 2.06.94-2.06 2.06-.94-2.06-.94-.94-2.06-.94 2.06-2.06.94zm-11 1L8.5 8.5l.94-2.06 2.06-.94-2.06-.94L8.5 2.5l-.94 2.06-2.06.94zm10 10l.94 2.06.94-2.06 2.06-.94-2.06-.94-.94-2.06-.94 2.06-2.06.94z\"/><path d=\"M17.41 7.96l-1.37-1.37c-.4-.4-.92-.59-1.43-.59-.52 0-1.04.2-1.43.59L10.3 9.45l-7.72 7.72c-.78.78-.78 2.05 0 2.83L4 21.41c.39.39.9.59 1.41.59.51 0 1.02-.2 1.41-.59l7.78-7.78 2.81-2.81c.8-.78.8-2.07 0-2.86zM5.41 20L4 18.59l7.72-7.72 1.47 1.35L5.41 20z\"/>\n",
              "  </svg>\n",
              "      </button>\n",
              "      \n",
              "  <style>\n",
              "    .colab-df-container {\n",
              "      display:flex;\n",
              "      flex-wrap:wrap;\n",
              "      gap: 12px;\n",
              "    }\n",
              "\n",
              "    .colab-df-convert {\n",
              "      background-color: #E8F0FE;\n",
              "      border: none;\n",
              "      border-radius: 50%;\n",
              "      cursor: pointer;\n",
              "      display: none;\n",
              "      fill: #1967D2;\n",
              "      height: 32px;\n",
              "      padding: 0 0 0 0;\n",
              "      width: 32px;\n",
              "    }\n",
              "\n",
              "    .colab-df-convert:hover {\n",
              "      background-color: #E2EBFA;\n",
              "      box-shadow: 0px 1px 2px rgba(60, 64, 67, 0.3), 0px 1px 3px 1px rgba(60, 64, 67, 0.15);\n",
              "      fill: #174EA6;\n",
              "    }\n",
              "\n",
              "    [theme=dark] .colab-df-convert {\n",
              "      background-color: #3B4455;\n",
              "      fill: #D2E3FC;\n",
              "    }\n",
              "\n",
              "    [theme=dark] .colab-df-convert:hover {\n",
              "      background-color: #434B5C;\n",
              "      box-shadow: 0px 1px 3px 1px rgba(0, 0, 0, 0.15);\n",
              "      filter: drop-shadow(0px 1px 2px rgba(0, 0, 0, 0.3));\n",
              "      fill: #FFFFFF;\n",
              "    }\n",
              "  </style>\n",
              "\n",
              "      <script>\n",
              "        const buttonEl =\n",
              "          document.querySelector('#df-0a0b09b5-cfde-464f-bb44-0d677805eb74 button.colab-df-convert');\n",
              "        buttonEl.style.display =\n",
              "          google.colab.kernel.accessAllowed ? 'block' : 'none';\n",
              "\n",
              "        async function convertToInteractive(key) {\n",
              "          const element = document.querySelector('#df-0a0b09b5-cfde-464f-bb44-0d677805eb74');\n",
              "          const dataTable =\n",
              "            await google.colab.kernel.invokeFunction('convertToInteractive',\n",
              "                                                     [key], {});\n",
              "          if (!dataTable) return;\n",
              "\n",
              "          const docLinkHtml = 'Like what you see? Visit the ' +\n",
              "            '<a target=\"_blank\" href=https://colab.research.google.com/notebooks/data_table.ipynb>data table notebook</a>'\n",
              "            + ' to learn more about interactive tables.';\n",
              "          element.innerHTML = '';\n",
              "          dataTable['output_type'] = 'display_data';\n",
              "          await google.colab.output.renderOutput(dataTable, element);\n",
              "          const docLink = document.createElement('div');\n",
              "          docLink.innerHTML = docLinkHtml;\n",
              "          element.appendChild(docLink);\n",
              "        }\n",
              "      </script>\n",
              "    </div>\n",
              "  </div>\n",
              "  "
            ]
          },
          "metadata": {},
          "execution_count": 16
        }
      ]
    },
    {
      "cell_type": "code",
      "source": [
        "df.info()"
      ],
      "metadata": {
        "colab": {
          "base_uri": "https://localhost:8080/"
        },
        "id": "c4WdwBOLGoHN",
        "outputId": "47bf6a87-c9ef-43c4-adf7-a6e3c1b18ed4"
      },
      "execution_count": 17,
      "outputs": [
        {
          "output_type": "stream",
          "name": "stdout",
          "text": [
            "<class 'pandas.core.frame.DataFrame'>\n",
            "RangeIndex: 200 entries, 0 to 199\n",
            "Data columns (total 5 columns):\n",
            " #   Column                  Non-Null Count  Dtype \n",
            "---  ------                  --------------  ----- \n",
            " 0   CustomerID              200 non-null    int64 \n",
            " 1   Gender                  200 non-null    object\n",
            " 2   Age                     200 non-null    int64 \n",
            " 3   Annual Income (k$)      200 non-null    int64 \n",
            " 4   Spending Score (1-100)  200 non-null    int64 \n",
            "dtypes: int64(4), object(1)\n",
            "memory usage: 7.9+ KB\n"
          ]
        }
      ]
    },
    {
      "cell_type": "code",
      "source": [
        "df.describe()"
      ],
      "metadata": {
        "colab": {
          "base_uri": "https://localhost:8080/",
          "height": 300
        },
        "id": "jRMQuImgGp9b",
        "outputId": "f8a2f63c-1d36-486c-a3b9-f704c1c95ed9"
      },
      "execution_count": 18,
      "outputs": [
        {
          "output_type": "execute_result",
          "data": {
            "text/plain": [
              "       CustomerID         Age  Annual Income (k$)  Spending Score (1-100)\n",
              "count  200.000000  200.000000          200.000000              200.000000\n",
              "mean   100.500000   38.850000           60.560000               50.200000\n",
              "std     57.879185   13.969007           26.264721               25.823522\n",
              "min      1.000000   18.000000           15.000000                1.000000\n",
              "25%     50.750000   28.750000           41.500000               34.750000\n",
              "50%    100.500000   36.000000           61.500000               50.000000\n",
              "75%    150.250000   49.000000           78.000000               73.000000\n",
              "max    200.000000   70.000000          137.000000               99.000000"
            ],
            "text/html": [
              "\n",
              "  <div id=\"df-b5262cff-90ed-4d26-bcd8-31892cd642a9\">\n",
              "    <div class=\"colab-df-container\">\n",
              "      <div>\n",
              "<style scoped>\n",
              "    .dataframe tbody tr th:only-of-type {\n",
              "        vertical-align: middle;\n",
              "    }\n",
              "\n",
              "    .dataframe tbody tr th {\n",
              "        vertical-align: top;\n",
              "    }\n",
              "\n",
              "    .dataframe thead th {\n",
              "        text-align: right;\n",
              "    }\n",
              "</style>\n",
              "<table border=\"1\" class=\"dataframe\">\n",
              "  <thead>\n",
              "    <tr style=\"text-align: right;\">\n",
              "      <th></th>\n",
              "      <th>CustomerID</th>\n",
              "      <th>Age</th>\n",
              "      <th>Annual Income (k$)</th>\n",
              "      <th>Spending Score (1-100)</th>\n",
              "    </tr>\n",
              "  </thead>\n",
              "  <tbody>\n",
              "    <tr>\n",
              "      <th>count</th>\n",
              "      <td>200.000000</td>\n",
              "      <td>200.000000</td>\n",
              "      <td>200.000000</td>\n",
              "      <td>200.000000</td>\n",
              "    </tr>\n",
              "    <tr>\n",
              "      <th>mean</th>\n",
              "      <td>100.500000</td>\n",
              "      <td>38.850000</td>\n",
              "      <td>60.560000</td>\n",
              "      <td>50.200000</td>\n",
              "    </tr>\n",
              "    <tr>\n",
              "      <th>std</th>\n",
              "      <td>57.879185</td>\n",
              "      <td>13.969007</td>\n",
              "      <td>26.264721</td>\n",
              "      <td>25.823522</td>\n",
              "    </tr>\n",
              "    <tr>\n",
              "      <th>min</th>\n",
              "      <td>1.000000</td>\n",
              "      <td>18.000000</td>\n",
              "      <td>15.000000</td>\n",
              "      <td>1.000000</td>\n",
              "    </tr>\n",
              "    <tr>\n",
              "      <th>25%</th>\n",
              "      <td>50.750000</td>\n",
              "      <td>28.750000</td>\n",
              "      <td>41.500000</td>\n",
              "      <td>34.750000</td>\n",
              "    </tr>\n",
              "    <tr>\n",
              "      <th>50%</th>\n",
              "      <td>100.500000</td>\n",
              "      <td>36.000000</td>\n",
              "      <td>61.500000</td>\n",
              "      <td>50.000000</td>\n",
              "    </tr>\n",
              "    <tr>\n",
              "      <th>75%</th>\n",
              "      <td>150.250000</td>\n",
              "      <td>49.000000</td>\n",
              "      <td>78.000000</td>\n",
              "      <td>73.000000</td>\n",
              "    </tr>\n",
              "    <tr>\n",
              "      <th>max</th>\n",
              "      <td>200.000000</td>\n",
              "      <td>70.000000</td>\n",
              "      <td>137.000000</td>\n",
              "      <td>99.000000</td>\n",
              "    </tr>\n",
              "  </tbody>\n",
              "</table>\n",
              "</div>\n",
              "      <button class=\"colab-df-convert\" onclick=\"convertToInteractive('df-b5262cff-90ed-4d26-bcd8-31892cd642a9')\"\n",
              "              title=\"Convert this dataframe to an interactive table.\"\n",
              "              style=\"display:none;\">\n",
              "        \n",
              "  <svg xmlns=\"http://www.w3.org/2000/svg\" height=\"24px\"viewBox=\"0 0 24 24\"\n",
              "       width=\"24px\">\n",
              "    <path d=\"M0 0h24v24H0V0z\" fill=\"none\"/>\n",
              "    <path d=\"M18.56 5.44l.94 2.06.94-2.06 2.06-.94-2.06-.94-.94-2.06-.94 2.06-2.06.94zm-11 1L8.5 8.5l.94-2.06 2.06-.94-2.06-.94L8.5 2.5l-.94 2.06-2.06.94zm10 10l.94 2.06.94-2.06 2.06-.94-2.06-.94-.94-2.06-.94 2.06-2.06.94z\"/><path d=\"M17.41 7.96l-1.37-1.37c-.4-.4-.92-.59-1.43-.59-.52 0-1.04.2-1.43.59L10.3 9.45l-7.72 7.72c-.78.78-.78 2.05 0 2.83L4 21.41c.39.39.9.59 1.41.59.51 0 1.02-.2 1.41-.59l7.78-7.78 2.81-2.81c.8-.78.8-2.07 0-2.86zM5.41 20L4 18.59l7.72-7.72 1.47 1.35L5.41 20z\"/>\n",
              "  </svg>\n",
              "      </button>\n",
              "      \n",
              "  <style>\n",
              "    .colab-df-container {\n",
              "      display:flex;\n",
              "      flex-wrap:wrap;\n",
              "      gap: 12px;\n",
              "    }\n",
              "\n",
              "    .colab-df-convert {\n",
              "      background-color: #E8F0FE;\n",
              "      border: none;\n",
              "      border-radius: 50%;\n",
              "      cursor: pointer;\n",
              "      display: none;\n",
              "      fill: #1967D2;\n",
              "      height: 32px;\n",
              "      padding: 0 0 0 0;\n",
              "      width: 32px;\n",
              "    }\n",
              "\n",
              "    .colab-df-convert:hover {\n",
              "      background-color: #E2EBFA;\n",
              "      box-shadow: 0px 1px 2px rgba(60, 64, 67, 0.3), 0px 1px 3px 1px rgba(60, 64, 67, 0.15);\n",
              "      fill: #174EA6;\n",
              "    }\n",
              "\n",
              "    [theme=dark] .colab-df-convert {\n",
              "      background-color: #3B4455;\n",
              "      fill: #D2E3FC;\n",
              "    }\n",
              "\n",
              "    [theme=dark] .colab-df-convert:hover {\n",
              "      background-color: #434B5C;\n",
              "      box-shadow: 0px 1px 3px 1px rgba(0, 0, 0, 0.15);\n",
              "      filter: drop-shadow(0px 1px 2px rgba(0, 0, 0, 0.3));\n",
              "      fill: #FFFFFF;\n",
              "    }\n",
              "  </style>\n",
              "\n",
              "      <script>\n",
              "        const buttonEl =\n",
              "          document.querySelector('#df-b5262cff-90ed-4d26-bcd8-31892cd642a9 button.colab-df-convert');\n",
              "        buttonEl.style.display =\n",
              "          google.colab.kernel.accessAllowed ? 'block' : 'none';\n",
              "\n",
              "        async function convertToInteractive(key) {\n",
              "          const element = document.querySelector('#df-b5262cff-90ed-4d26-bcd8-31892cd642a9');\n",
              "          const dataTable =\n",
              "            await google.colab.kernel.invokeFunction('convertToInteractive',\n",
              "                                                     [key], {});\n",
              "          if (!dataTable) return;\n",
              "\n",
              "          const docLinkHtml = 'Like what you see? Visit the ' +\n",
              "            '<a target=\"_blank\" href=https://colab.research.google.com/notebooks/data_table.ipynb>data table notebook</a>'\n",
              "            + ' to learn more about interactive tables.';\n",
              "          element.innerHTML = '';\n",
              "          dataTable['output_type'] = 'display_data';\n",
              "          await google.colab.output.renderOutput(dataTable, element);\n",
              "          const docLink = document.createElement('div');\n",
              "          docLink.innerHTML = docLinkHtml;\n",
              "          element.appendChild(docLink);\n",
              "        }\n",
              "      </script>\n",
              "    </div>\n",
              "  </div>\n",
              "  "
            ]
          },
          "metadata": {},
          "execution_count": 18
        }
      ]
    },
    {
      "cell_type": "code",
      "source": [
        "plt.figure(figsize=(12, 9))\n",
        "plt.scatter(df['Annual Income (k$)'], df['Spending Score (1-100)'], s=25) #Point size is 25\n",
        "plt.title('Raw Data')\n",
        "plt.xlabel('Annual Income (k$)')\n",
        "plt.ylabel('Spending Score (1-100)')\n",
        "plt.show()"
      ],
      "metadata": {
        "colab": {
          "base_uri": "https://localhost:8080/",
          "height": 616
        },
        "id": "EO6ZaXR1Gq85",
        "outputId": "503ef3a4-ecfc-4c1d-b6f0-d63afdcececd"
      },
      "execution_count": 19,
      "outputs": [
        {
          "output_type": "display_data",
          "data": {
            "text/plain": [
              "<Figure size 864x648 with 1 Axes>"
            ],
            "image/png": "[encoded data removed]"
          },
          "metadata": {}
        }
      ]
    },
    {
      "cell_type": "markdown",
      "source": [
        "####4. Data preprocessing"
      ],
      "metadata": {
        "id": "5P5mOph9HRWm"
      }
    },
    {
      "cell_type": "markdown",
      "source": [
        "#####Select Feature"
      ],
      "metadata": {
        "id": "k1egV44hHadb"
      }
    },
    {
      "cell_type": "code",
      "source": [
        "X = np.array(df.iloc[:, [3, 4]])"
      ],
      "metadata": {
        "id": "LKh4pV_NHZUf"
      },
      "execution_count": 20,
      "outputs": []
    },
    {
      "cell_type": "code",
      "source": [
        "X"
      ],
      "metadata": {
        "colab": {
          "base_uri": "https://localhost:8080/"
        },
        "id": "wTuvd8WeHm7r",
        "outputId": "fd4c6e86-440c-491b-ed06-93fa90fbd8a2"
      },
      "execution_count": 21,
      "outputs": [
        {
          "output_type": "execute_result",
          "data": {
            "text/plain": [
              "array([[ 15,  39],\n",
              "       [ 15,  81],\n",
              "       [ 16,   6],\n",
              "       [ 16,  77],\n",
              "       [ 17,  40],\n",
              "       [ 17,  76],\n",
              "       [ 18,   6],\n",
              "       [ 18,  94],\n",
              "       [ 19,   3],\n",
              "       [ 19,  72],\n",
              "       [ 19,  14],\n",
              "       [ 19,  99],\n",
              "       [ 20,  15],\n",
              "       [ 20,  77],\n",
              "       [ 20,  13],\n",
              "       [ 20,  79],\n",
              "       [ 21,  35],\n",
              "       [ 21,  66],\n",
              "       [ 23,  29],\n",
              "       [ 23,  98],\n",
              "       [ 24,  35],\n",
              "       [ 24,  73],\n",
              "       [ 25,   5],\n",
              "       [ 25,  73],\n",
              "       [ 28,  14],\n",
              "       [ 28,  82],\n",
              "       [ 28,  32],\n",
              "       [ 28,  61],\n",
              "       [ 29,  31],\n",
              "       [ 29,  87],\n",
              "       [ 30,   4],\n",
              "       [ 30,  73],\n",
              "       [ 33,   4],\n",
              "       [ 33,  92],\n",
              "       [ 33,  14],\n",
              "       [ 33,  81],\n",
              "       [ 34,  17],\n",
              "       [ 34,  73],\n",
              "       [ 37,  26],\n",
              "       [ 37,  75],\n",
              "       [ 38,  35],\n",
              "       [ 38,  92],\n",
              "       [ 39,  36],\n",
              "       [ 39,  61],\n",
              "       [ 39,  28],\n",
              "       [ 39,  65],\n",
              "       [ 40,  55],\n",
              "       [ 40,  47],\n",
              "       [ 40,  42],\n",
              "       [ 40,  42],\n",
              "       [ 42,  52],\n",
              "       [ 42,  60],\n",
              "       [ 43,  54],\n",
              "       [ 43,  60],\n",
              "       [ 43,  45],\n",
              "       [ 43,  41],\n",
              "       [ 44,  50],\n",
              "       [ 44,  46],\n",
              "       [ 46,  51],\n",
              "       [ 46,  46],\n",
              "       [ 46,  56],\n",
              "       [ 46,  55],\n",
              "       [ 47,  52],\n",
              "       [ 47,  59],\n",
              "       [ 48,  51],\n",
              "       [ 48,  59],\n",
              "       [ 48,  50],\n",
              "       [ 48,  48],\n",
              "       [ 48,  59],\n",
              "       [ 48,  47],\n",
              "       [ 49,  55],\n",
              "       [ 49,  42],\n",
              "       [ 50,  49],\n",
              "       [ 50,  56],\n",
              "       [ 54,  47],\n",
              "       [ 54,  54],\n",
              "       [ 54,  53],\n",
              "       [ 54,  48],\n",
              "       [ 54,  52],\n",
              "       [ 54,  42],\n",
              "       [ 54,  51],\n",
              "       [ 54,  55],\n",
              "       [ 54,  41],\n",
              "       [ 54,  44],\n",
              "       [ 54,  57],\n",
              "       [ 54,  46],\n",
              "       [ 57,  58],\n",
              "       [ 57,  55],\n",
              "       [ 58,  60],\n",
              "       [ 58,  46],\n",
              "       [ 59,  55],\n",
              "       [ 59,  41],\n",
              "       [ 60,  49],\n",
              "       [ 60,  40],\n",
              "       [ 60,  42],\n",
              "       [ 60,  52],\n",
              "       [ 60,  47],\n",
              "       [ 60,  50],\n",
              "       [ 61,  42],\n",
              "       [ 61,  49],\n",
              "       [ 62,  41],\n",
              "       [ 62,  48],\n",
              "       [ 62,  59],\n",
              "       [ 62,  55],\n",
              "       [ 62,  56],\n",
              "       [ 62,  42],\n",
              "       [ 63,  50],\n",
              "       [ 63,  46],\n",
              "       [ 63,  43],\n",
              "       [ 63,  48],\n",
              "       [ 63,  52],\n",
              "       [ 63,  54],\n",
              "       [ 64,  42],\n",
              "       [ 64,  46],\n",
              "       [ 65,  48],\n",
              "       [ 65,  50],\n",
              "       [ 65,  43],\n",
              "       [ 65,  59],\n",
              "       [ 67,  43],\n",
              "       [ 67,  57],\n",
              "       [ 67,  56],\n",
              "       [ 67,  40],\n",
              "       [ 69,  58],\n",
              "       [ 69,  91],\n",
              "       [ 70,  29],\n",
              "       [ 70,  77],\n",
              "       [ 71,  35],\n",
              "       [ 71,  95],\n",
              "       [ 71,  11],\n",
              "       [ 71,  75],\n",
              "       [ 71,   9],\n",
              "       [ 71,  75],\n",
              "       [ 72,  34],\n",
              "       [ 72,  71],\n",
              "       [ 73,   5],\n",
              "       [ 73,  88],\n",
              "       [ 73,   7],\n",
              "       [ 73,  73],\n",
              "       [ 74,  10],\n",
              "       [ 74,  72],\n",
              "       [ 75,   5],\n",
              "       [ 75,  93],\n",
              "       [ 76,  40],\n",
              "       [ 76,  87],\n",
              "       [ 77,  12],\n",
              "       [ 77,  97],\n",
              "       [ 77,  36],\n",
              "       [ 77,  74],\n",
              "       [ 78,  22],\n",
              "       [ 78,  90],\n",
              "       [ 78,  17],\n",
              "       [ 78,  88],\n",
              "       [ 78,  20],\n",
              "       [ 78,  76],\n",
              "       [ 78,  16],\n",
              "       [ 78,  89],\n",
              "       [ 78,   1],\n",
              "       [ 78,  78],\n",
              "       [ 78,   1],\n",
              "       [ 78,  73],\n",
              "       [ 79,  35],\n",
              "       [ 79,  83],\n",
              "       [ 81,   5],\n",
              "       [ 81,  93],\n",
              "       [ 85,  26],\n",
              "       [ 85,  75],\n",
              "       [ 86,  20],\n",
              "       [ 86,  95],\n",
              "       [ 87,  27],\n",
              "       [ 87,  63],\n",
              "       [ 87,  13],\n",
              "       [ 87,  75],\n",
              "       [ 87,  10],\n",
              "       [ 87,  92],\n",
              "       [ 88,  13],\n",
              "       [ 88,  86],\n",
              "       [ 88,  15],\n",
              "       [ 88,  69],\n",
              "       [ 93,  14],\n",
              "       [ 93,  90],\n",
              "       [ 97,  32],\n",
              "       [ 97,  86],\n",
              "       [ 98,  15],\n",
              "       [ 98,  88],\n",
              "       [ 99,  39],\n",
              "       [ 99,  97],\n",
              "       [101,  24],\n",
              "       [101,  68],\n",
              "       [103,  17],\n",
              "       [103,  85],\n",
              "       [103,  23],\n",
              "       [103,  69],\n",
              "       [113,   8],\n",
              "       [113,  91],\n",
              "       [120,  16],\n",
              "       [120,  79],\n",
              "       [126,  28],\n",
              "       [126,  74],\n",
              "       [137,  18],\n",
              "       [137,  83]])"
            ]
          },
          "metadata": {},
          "execution_count": 21
        }
      ]
    },
    {
      "cell_type": "markdown",
      "source": [
        "#####Determine Number of Clusters"
      ],
      "metadata": {
        "id": "ruHIEBOLHozh"
      }
    },
    {
      "cell_type": "markdown",
      "source": [
        "######Method 1 - Elbow Method"
      ],
      "metadata": {
        "id": "FIdrRsf2HsYd"
      }
    },
    {
      "cell_type": "code",
      "source": [
        "wcss = []\n",
        "for i in range(1, 11) :\n",
        "  kmeans = KMeans(n_clusters=i, init='k-means++', max_iter=300, n_init=10, random_state=0)\n",
        "  kmeans.fit(X)\n",
        "  wcss.append(kmeans.inertia_)\n",
        "plt.plot(range(1, 11), wcss)\n",
        "plt.title('Elbow Method')\n",
        "plt.xlabel(' Number of clusters')\n",
        "plt.ylabel('WCSS')\n",
        "plt.show()"
      ],
      "metadata": {
        "colab": {
          "base_uri": "https://localhost:8080/",
          "height": 325
        },
        "id": "ypXkQ3DbHnRA",
        "outputId": "aecfc952-d1a6-4621-81cf-12c0c8db19b8"
      },
      "execution_count": 22,
      "outputs": [
        {
          "output_type": "display_data",
          "data": {
            "text/plain": [
              "<Figure size 432x288 with 1 Axes>"
            ],
            "image/png": "[encoded data removed]"
          },
          "metadata": {}
        }
      ]
    },
    {
      "cell_type": "markdown",
      "source": [
        "######Method 2 - Silhouette Coefficient"
      ],
      "metadata": {
        "id": "zuibKKaSIcBk"
      }
    },
    {
      "cell_type": "code",
      "source": [
        "# A list holds the silhouette coefficients for each k\n",
        "silhouette_coefficients = []\n",
        "# Notice you start at 2 clusters for silhouette coefficient \n",
        "for k in range(2, 11):\n",
        "  kmeans = KMeans(n_clusters=k, init='k-means++', max_iter=300, n_init=10, random_state=0)\n",
        "  kmeans.fit(X)\n",
        "  score = silhouette_score(X, kmeans.labels_)\n",
        "  silhouette_coefficients.append(score)\n",
        "\n",
        "plt.style.use(\"fivethirtyeight\")\n",
        "plt.plot(range(2, 11), silhouette_coefficients)\n",
        "plt.xticks(range(2, 11))\n",
        "plt.xlabel(\"Number of Clusters\")\n",
        "plt.ylabel(\"Silhouette Coefficient\")\n",
        "plt.show()"
      ],
      "metadata": {
        "colab": {
          "base_uri": "https://localhost:8080/",
          "height": 304
        },
        "id": "3OmF9gYcIfN_",
        "outputId": "0f5ff378-a27f-463e-bd07-9f6966b73ef6"
      },
      "execution_count": 24,
      "outputs": [
        {
          "output_type": "display_data",
          "data": {
            "text/plain": [
              "<Figure size 432x288 with 1 Axes>"
            ],
            "image/png": "[encoded data removed]"
          },
          "metadata": {}
        }
      ]
    },
    {
      "cell_type": "markdown",
      "source": [
        "#####5. Create Cluster"
      ],
      "metadata": {
        "id": "LkgM9e-UJYHn"
      }
    },
    {
      "cell_type": "code",
      "source": [
        "kmeans = KMeans(n_clusters=5, max_iter=500, n_init=10, random_state=0)\n",
        "kmeans_preds = kmeans.fit_predict(X)"
      ],
      "metadata": {
        "id": "b7q7hqVqJavQ"
      },
      "execution_count": 25,
      "outputs": []
    },
    {
      "cell_type": "code",
      "source": [
        "#predict result\n",
        "kmeans_preds"
      ],
      "metadata": {
        "colab": {
          "base_uri": "https://localhost:8080/"
        },
        "id": "bAX_88yqJsUx",
        "outputId": "d9d96394-5f0e-4e4d-8192-9732d7bc0e0b"
      },
      "execution_count": 27,
      "outputs": [
        {
          "output_type": "execute_result",
          "data": {
            "text/plain": [
              "array([4, 3, 4, 3, 4, 3, 4, 3, 4, 3, 4, 3, 4, 3, 4, 3, 4, 3, 4, 3, 4, 3,\n",
              "       4, 3, 4, 3, 4, 3, 4, 3, 4, 3, 4, 3, 4, 3, 4, 3, 4, 3, 4, 3, 4, 1,\n",
              "       4, 3, 1, 1, 1, 1, 1, 1, 1, 1, 1, 1, 1, 1, 1, 1, 1, 1, 1, 1, 1, 1,\n",
              "       1, 1, 1, 1, 1, 1, 1, 1, 1, 1, 1, 1, 1, 1, 1, 1, 1, 1, 1, 1, 1, 1,\n",
              "       1, 1, 1, 1, 1, 1, 1, 1, 1, 1, 1, 1, 1, 1, 1, 1, 1, 1, 1, 1, 1, 1,\n",
              "       1, 1, 1, 1, 1, 1, 1, 1, 1, 1, 1, 1, 1, 2, 0, 2, 1, 2, 0, 2, 0, 2,\n",
              "       1, 2, 0, 2, 0, 2, 0, 2, 0, 2, 1, 2, 0, 2, 0, 2, 0, 2, 0, 2, 0, 2,\n",
              "       0, 2, 0, 2, 0, 2, 0, 2, 0, 2, 0, 2, 0, 2, 0, 2, 0, 2, 0, 2, 0, 2,\n",
              "       0, 2, 0, 2, 0, 2, 0, 2, 0, 2, 0, 2, 0, 2, 0, 2, 0, 2, 0, 2, 0, 2,\n",
              "       0, 2], dtype=int32)"
            ]
          },
          "metadata": {},
          "execution_count": 27
        }
      ]
    },
    {
      "cell_type": "markdown",
      "source": [
        "#####6. Show Cluster"
      ],
      "metadata": {
        "id": "X5yi4SO-JxIY"
      }
    },
    {
      "cell_type": "code",
      "source": [
        "point_size = 25\n",
        "colors = ['red', 'blue' ,'green', 'cyan', 'magenta']\n",
        "labels = ['Careful ', 'Standard', 'Target', 'Careless', 'Sensible']\n",
        "plt.figure(figsize = (12,9))\n",
        "for i in range(5):\n",
        "  plt.scatter(X[kmeans_preds == i, 0], X[kmeans_preds == i, 1], s = point_size, c = colors[i], label = labels[i])\n",
        "plt.scatter(kmeans.cluster_centers_[:, 0], kmeans.cluster_centers_[:, 1], s = 200, c = 'orange', label = 'Centroids')\n",
        "plt.title('Clusters of Clients')\n",
        "plt.xlabel('Annual Income (k$)')\n",
        "plt.ylabel('Spending Score (1-100)')\n",
        "plt.legend(loc = 'best')\n",
        "plt.show()"
      ],
      "metadata": {
        "colab": {
          "base_uri": "https://localhost:8080/",
          "height": 616
        },
        "id": "wNQ8uuFMJvBS",
        "outputId": "113b0586-a58c-4b36-a3db-d609a80801b9"
      },
      "execution_count": 29,
      "outputs": [
        {
          "output_type": "display_data",
          "data": {
            "text/plain": [
              "<Figure size 864x648 with 1 Axes>"
            ],
            "image/png": "[encoded data removed]"
          },
          "metadata": {}
        }
      ]
    },
    {
      "cell_type": "code",
      "source": [
        "#menambahkan hasil clustering ke dalam dataframe\n",
        "df['Cluster'] = kmeans_preds\n",
        "df.head()"
      ],
      "metadata": {
        "colab": {
          "base_uri": "https://localhost:8080/",
          "height": 206
        },
        "id": "Y-fni_SqLcte",
        "outputId": "74d0fb0a-552c-4fac-f3e4-242738ec08f5"
      },
      "execution_count": 30,
      "outputs": [
        {
          "output_type": "execute_result",
          "data": {
            "text/plain": [
              "   CustomerID  Gender  Age  Annual Income (k$)  Spending Score (1-100)  \\\n",
              "0           1    Male   19                  15                      39   \n",
              "1           2    Male   21                  15                      81   \n",
              "2           3  Female   20                  16                       6   \n",
              "3           4  Female   23                  16                      77   \n",
              "4           5  Female   31                  17                      40   \n",
              "\n",
              "   Cluster  \n",
              "0        4  \n",
              "1        3  \n",
              "2        4  \n",
              "3        3  \n",
              "4        4  "
            ],
            "text/html": [
              "\n",
              "  <div id=\"df-75ffcdc3-24cc-41d5-b7f0-c59cdc5f2edc\">\n",
              "    <div class=\"colab-df-container\">\n",
              "      <div>\n",
              "<style scoped>\n",
              "    .dataframe tbody tr th:only-of-type {\n",
              "        vertical-align: middle;\n",
              "    }\n",
              "\n",
              "    .dataframe tbody tr th {\n",
              "        vertical-align: top;\n",
              "    }\n",
              "\n",
              "    .dataframe thead th {\n",
              "        text-align: right;\n",
              "    }\n",
              "</style>\n",
              "<table border=\"1\" class=\"dataframe\">\n",
              "  <thead>\n",
              "    <tr style=\"text-align: right;\">\n",
              "      <th></th>\n",
              "      <th>CustomerID</th>\n",
              "      <th>Gender</th>\n",
              "      <th>Age</th>\n",
              "      <th>Annual Income (k$)</th>\n",
              "      <th>Spending Score (1-100)</th>\n",
              "      <th>Cluster</th>\n",
              "    </tr>\n",
              "  </thead>\n",
              "  <tbody>\n",
              "    <tr>\n",
              "      <th>0</th>\n",
              "      <td>1</td>\n",
              "      <td>Male</td>\n",
              "      <td>19</td>\n",
              "      <td>15</td>\n",
              "      <td>39</td>\n",
              "      <td>4</td>\n",
              "    </tr>\n",
              "    <tr>\n",
              "      <th>1</th>\n",
              "      <td>2</td>\n",
              "      <td>Male</td>\n",
              "      <td>21</td>\n",
              "      <td>15</td>\n",
              "      <td>81</td>\n",
              "      <td>3</td>\n",
              "    </tr>\n",
              "    <tr>\n",
              "      <th>2</th>\n",
              "      <td>3</td>\n",
              "      <td>Female</td>\n",
              "      <td>20</td>\n",
              "      <td>16</td>\n",
              "      <td>6</td>\n",
              "      <td>4</td>\n",
              "    </tr>\n",
              "    <tr>\n",
              "      <th>3</th>\n",
              "      <td>4</td>\n",
              "      <td>Female</td>\n",
              "      <td>23</td>\n",
              "      <td>16</td>\n",
              "      <td>77</td>\n",
              "      <td>3</td>\n",
              "    </tr>\n",
              "    <tr>\n",
              "      <th>4</th>\n",
              "      <td>5</td>\n",
              "      <td>Female</td>\n",
              "      <td>31</td>\n",
              "      <td>17</td>\n",
              "      <td>40</td>\n",
              "      <td>4</td>\n",
              "    </tr>\n",
              "  </tbody>\n",
              "</table>\n",
              "</div>\n",
              "      <button class=\"colab-df-convert\" onclick=\"convertToInteractive('df-75ffcdc3-24cc-41d5-b7f0-c59cdc5f2edc')\"\n",
              "              title=\"Convert this dataframe to an interactive table.\"\n",
              "              style=\"display:none;\">\n",
              "        \n",
              "  <svg xmlns=\"http://www.w3.org/2000/svg\" height=\"24px\"viewBox=\"0 0 24 24\"\n",
              "       width=\"24px\">\n",
              "    <path d=\"M0 0h24v24H0V0z\" fill=\"none\"/>\n",
              "    <path d=\"M18.56 5.44l.94 2.06.94-2.06 2.06-.94-2.06-.94-.94-2.06-.94 2.06-2.06.94zm-11 1L8.5 8.5l.94-2.06 2.06-.94-2.06-.94L8.5 2.5l-.94 2.06-2.06.94zm10 10l.94 2.06.94-2.06 2.06-.94-2.06-.94-.94-2.06-.94 2.06-2.06.94z\"/><path d=\"M17.41 7.96l-1.37-1.37c-.4-.4-.92-.59-1.43-.59-.52 0-1.04.2-1.43.59L10.3 9.45l-7.72 7.72c-.78.78-.78 2.05 0 2.83L4 21.41c.39.39.9.59 1.41.59.51 0 1.02-.2 1.41-.59l7.78-7.78 2.81-2.81c.8-.78.8-2.07 0-2.86zM5.41 20L4 18.59l7.72-7.72 1.47 1.35L5.41 20z\"/>\n",
              "  </svg>\n",
              "      </button>\n",
              "      \n",
              "  <style>\n",
              "    .colab-df-container {\n",
              "      display:flex;\n",
              "      flex-wrap:wrap;\n",
              "      gap: 12px;\n",
              "    }\n",
              "\n",
              "    .colab-df-convert {\n",
              "      background-color: #E8F0FE;\n",
              "      border: none;\n",
              "      border-radius: 50%;\n",
              "      cursor: pointer;\n",
              "      display: none;\n",
              "      fill: #1967D2;\n",
              "      height: 32px;\n",
              "      padding: 0 0 0 0;\n",
              "      width: 32px;\n",
              "    }\n",
              "\n",
              "    .colab-df-convert:hover {\n",
              "      background-color: #E2EBFA;\n",
              "      box-shadow: 0px 1px 2px rgba(60, 64, 67, 0.3), 0px 1px 3px 1px rgba(60, 64, 67, 0.15);\n",
              "      fill: #174EA6;\n",
              "    }\n",
              "\n",
              "    [theme=dark] .colab-df-convert {\n",
              "      background-color: #3B4455;\n",
              "      fill: #D2E3FC;\n",
              "    }\n",
              "\n",
              "    [theme=dark] .colab-df-convert:hover {\n",
              "      background-color: #434B5C;\n",
              "      box-shadow: 0px 1px 3px 1px rgba(0, 0, 0, 0.15);\n",
              "      filter: drop-shadow(0px 1px 2px rgba(0, 0, 0, 0.3));\n",
              "      fill: #FFFFFF;\n",
              "    }\n",
              "  </style>\n",
              "\n",
              "      <script>\n",
              "        const buttonEl =\n",
              "          document.querySelector('#df-75ffcdc3-24cc-41d5-b7f0-c59cdc5f2edc button.colab-df-convert');\n",
              "        buttonEl.style.display =\n",
              "          google.colab.kernel.accessAllowed ? 'block' : 'none';\n",
              "\n",
              "        async function convertToInteractive(key) {\n",
              "          const element = document.querySelector('#df-75ffcdc3-24cc-41d5-b7f0-c59cdc5f2edc');\n",
              "          const dataTable =\n",
              "            await google.colab.kernel.invokeFunction('convertToInteractive',\n",
              "                                                     [key], {});\n",
              "          if (!dataTable) return;\n",
              "\n",
              "          const docLinkHtml = 'Like what you see? Visit the ' +\n",
              "            '<a target=\"_blank\" href=https://colab.research.google.com/notebooks/data_table.ipynb>data table notebook</a>'\n",
              "            + ' to learn more about interactive tables.';\n",
              "          element.innerHTML = '';\n",
              "          dataTable['output_type'] = 'display_data';\n",
              "          await google.colab.output.renderOutput(dataTable, element);\n",
              "          const docLink = document.createElement('div');\n",
              "          docLink.innerHTML = docLinkHtml;\n",
              "          element.appendChild(docLink);\n",
              "        }\n",
              "      </script>\n",
              "    </div>\n",
              "  </div>\n",
              "  "
            ]
          },
          "metadata": {},
          "execution_count": 30
        }
      ]
    },
    {
      "cell_type": "code",
      "source": [
        "df.groupby(['Cluster'])['Cluster'].count()"
      ],
      "metadata": {
        "colab": {
          "base_uri": "https://localhost:8080/"
        },
        "id": "bzkQ-A40Li28",
        "outputId": "aac392bc-7fdf-41bf-86f0-1607e59c7242"
      },
      "execution_count": 31,
      "outputs": [
        {
          "output_type": "execute_result",
          "data": {
            "text/plain": [
              "Cluster\n",
              "0    35\n",
              "1    81\n",
              "2    39\n",
              "3    22\n",
              "4    23\n",
              "Name: Cluster, dtype: int64"
            ]
          },
          "metadata": {},
          "execution_count": 31
        }
      ]
    },
    {
      "cell_type": "code",
      "source": [
        "#menampilkan cluster tertentu\n",
        "df.loc[df['Cluster'] == 1].head()"
      ],
      "metadata": {
        "colab": {
          "base_uri": "https://localhost:8080/",
          "height": 206
        },
        "id": "Tdv77KSTLpuX",
        "outputId": "e8e1fbb3-bab8-490f-9c2a-f53f12fbb7e1"
      },
      "execution_count": 32,
      "outputs": [
        {
          "output_type": "execute_result",
          "data": {
            "text/plain": [
              "    CustomerID  Gender  Age  Annual Income (k$)  Spending Score (1-100)  \\\n",
              "43          44  Female   31                  39                      61   \n",
              "46          47  Female   50                  40                      55   \n",
              "47          48  Female   27                  40                      47   \n",
              "48          49  Female   29                  40                      42   \n",
              "49          50  Female   31                  40                      42   \n",
              "\n",
              "    Cluster  \n",
              "43        1  \n",
              "46        1  \n",
              "47        1  \n",
              "48        1  \n",
              "49        1  "
            ],
            "text/html": [
              "\n",
              "  <div id=\"df-0b16fca3-d478-42ec-8ac9-9f0d3418b325\">\n",
              "    <div class=\"colab-df-container\">\n",
              "      <div>\n",
              "<style scoped>\n",
              "    .dataframe tbody tr th:only-of-type {\n",
              "        vertical-align: middle;\n",
              "    }\n",
              "\n",
              "    .dataframe tbody tr th {\n",
              "        vertical-align: top;\n",
              "    }\n",
              "\n",
              "    .dataframe thead th {\n",
              "        text-align: right;\n",
              "    }\n",
              "</style>\n",
              "<table border=\"1\" class=\"dataframe\">\n",
              "  <thead>\n",
              "    <tr style=\"text-align: right;\">\n",
              "      <th></th>\n",
              "      <th>CustomerID</th>\n",
              "      <th>Gender</th>\n",
              "      <th>Age</th>\n",
              "      <th>Annual Income (k$)</th>\n",
              "      <th>Spending Score (1-100)</th>\n",
              "      <th>Cluster</th>\n",
              "    </tr>\n",
              "  </thead>\n",
              "  <tbody>\n",
              "    <tr>\n",
              "      <th>43</th>\n",
              "      <td>44</td>\n",
              "      <td>Female</td>\n",
              "      <td>31</td>\n",
              "      <td>39</td>\n",
              "      <td>61</td>\n",
              "      <td>1</td>\n",
              "    </tr>\n",
              "    <tr>\n",
              "      <th>46</th>\n",
              "      <td>47</td>\n",
              "      <td>Female</td>\n",
              "      <td>50</td>\n",
              "      <td>40</td>\n",
              "      <td>55</td>\n",
              "      <td>1</td>\n",
              "    </tr>\n",
              "    <tr>\n",
              "      <th>47</th>\n",
              "      <td>48</td>\n",
              "      <td>Female</td>\n",
              "      <td>27</td>\n",
              "      <td>40</td>\n",
              "      <td>47</td>\n",
              "      <td>1</td>\n",
              "    </tr>\n",
              "    <tr>\n",
              "      <th>48</th>\n",
              "      <td>49</td>\n",
              "      <td>Female</td>\n",
              "      <td>29</td>\n",
              "      <td>40</td>\n",
              "      <td>42</td>\n",
              "      <td>1</td>\n",
              "    </tr>\n",
              "    <tr>\n",
              "      <th>49</th>\n",
              "      <td>50</td>\n",
              "      <td>Female</td>\n",
              "      <td>31</td>\n",
              "      <td>40</td>\n",
              "      <td>42</td>\n",
              "      <td>1</td>\n",
              "    </tr>\n",
              "  </tbody>\n",
              "</table>\n",
              "</div>\n",
              "      <button class=\"colab-df-convert\" onclick=\"convertToInteractive('df-0b16fca3-d478-42ec-8ac9-9f0d3418b325')\"\n",
              "              title=\"Convert this dataframe to an interactive table.\"\n",
              "              style=\"display:none;\">\n",
              "        \n",
              "  <svg xmlns=\"http://www.w3.org/2000/svg\" height=\"24px\"viewBox=\"0 0 24 24\"\n",
              "       width=\"24px\">\n",
              "    <path d=\"M0 0h24v24H0V0z\" fill=\"none\"/>\n",
              "    <path d=\"M18.56 5.44l.94 2.06.94-2.06 2.06-.94-2.06-.94-.94-2.06-.94 2.06-2.06.94zm-11 1L8.5 8.5l.94-2.06 2.06-.94-2.06-.94L8.5 2.5l-.94 2.06-2.06.94zm10 10l.94 2.06.94-2.06 2.06-.94-2.06-.94-.94-2.06-.94 2.06-2.06.94z\"/><path d=\"M17.41 7.96l-1.37-1.37c-.4-.4-.92-.59-1.43-.59-.52 0-1.04.2-1.43.59L10.3 9.45l-7.72 7.72c-.78.78-.78 2.05 0 2.83L4 21.41c.39.39.9.59 1.41.59.51 0 1.02-.2 1.41-.59l7.78-7.78 2.81-2.81c.8-.78.8-2.07 0-2.86zM5.41 20L4 18.59l7.72-7.72 1.47 1.35L5.41 20z\"/>\n",
              "  </svg>\n",
              "      </button>\n",
              "      \n",
              "  <style>\n",
              "    .colab-df-container {\n",
              "      display:flex;\n",
              "      flex-wrap:wrap;\n",
              "      gap: 12px;\n",
              "    }\n",
              "\n",
              "    .colab-df-convert {\n",
              "      background-color: #E8F0FE;\n",
              "      border: none;\n",
              "      border-radius: 50%;\n",
              "      cursor: pointer;\n",
              "      display: none;\n",
              "      fill: #1967D2;\n",
              "      height: 32px;\n",
              "      padding: 0 0 0 0;\n",
              "      width: 32px;\n",
              "    }\n",
              "\n",
              "    .colab-df-convert:hover {\n",
              "      background-color: #E2EBFA;\n",
              "      box-shadow: 0px 1px 2px rgba(60, 64, 67, 0.3), 0px 1px 3px 1px rgba(60, 64, 67, 0.15);\n",
              "      fill: #174EA6;\n",
              "    }\n",
              "\n",
              "    [theme=dark] .colab-df-convert {\n",
              "      background-color: #3B4455;\n",
              "      fill: #D2E3FC;\n",
              "    }\n",
              "\n",
              "    [theme=dark] .colab-df-convert:hover {\n",
              "      background-color: #434B5C;\n",
              "      box-shadow: 0px 1px 3px 1px rgba(0, 0, 0, 0.15);\n",
              "      filter: drop-shadow(0px 1px 2px rgba(0, 0, 0, 0.3));\n",
              "      fill: #FFFFFF;\n",
              "    }\n",
              "  </style>\n",
              "\n",
              "      <script>\n",
              "        const buttonEl =\n",
              "          document.querySelector('#df-0b16fca3-d478-42ec-8ac9-9f0d3418b325 button.colab-df-convert');\n",
              "        buttonEl.style.display =\n",
              "          google.colab.kernel.accessAllowed ? 'block' : 'none';\n",
              "\n",
              "        async function convertToInteractive(key) {\n",
              "          const element = document.querySelector('#df-0b16fca3-d478-42ec-8ac9-9f0d3418b325');\n",
              "          const dataTable =\n",
              "            await google.colab.kernel.invokeFunction('convertToInteractive',\n",
              "                                                     [key], {});\n",
              "          if (!dataTable) return;\n",
              "\n",
              "          const docLinkHtml = 'Like what you see? Visit the ' +\n",
              "            '<a target=\"_blank\" href=https://colab.research.google.com/notebooks/data_table.ipynb>data table notebook</a>'\n",
              "            + ' to learn more about interactive tables.';\n",
              "          element.innerHTML = '';\n",
              "          dataTable['output_type'] = 'display_data';\n",
              "          await google.colab.output.renderOutput(dataTable, element);\n",
              "          const docLink = document.createElement('div');\n",
              "          docLink.innerHTML = docLinkHtml;\n",
              "          element.appendChild(docLink);\n",
              "        }\n",
              "      </script>\n",
              "    </div>\n",
              "  </div>\n",
              "  "
            ]
          },
          "metadata": {},
          "execution_count": 32
        }
      ]
    },
    {
      "cell_type": "code",
      "source": [
        "#predict one data\n",
        "print(kmeans.predict([[100, 20]]))"
      ],
      "metadata": {
        "colab": {
          "base_uri": "https://localhost:8080/"
        },
        "id": "4skwURuML21U",
        "outputId": "90306af6-11a9-4472-f1f7-eea7da8e00c7"
      },
      "execution_count": 33,
      "outputs": [
        {
          "output_type": "stream",
          "name": "stdout",
          "text": [
            "[0]\n"
          ]
        }
      ]
    },
    {
      "cell_type": "markdown",
      "source": [
        "###Implementasi 3 - Multi Features Clustering"
      ],
      "metadata": {
        "id": "cdYwY_S7MBDw"
      }
    },
    {
      "cell_type": "markdown",
      "source": [
        "Menggunakan dataset yang sama, '**Mall_Customers.csv**', run ulang bagian '**Import Library**' dan '**Load Dataset**' pada '**Implementasl 2 - Mall Customer Segmentation**' apabila runtime habis"
      ],
      "metadata": {
        "id": "MvTHSRV4MExu"
      }
    },
    {
      "cell_type": "markdown",
      "source": [
        "####1. Import Library"
      ],
      "metadata": {
        "id": "93szv6QmMXTb"
      }
    },
    {
      "cell_type": "code",
      "source": [
        "#menjalankan seluruh kode pada Implementasi 2 Mall Customer Segmentation apabil error karena runtime habis \n",
        "import plotly as py\n",
        "import plotly.graph_objs as go"
      ],
      "metadata": {
        "id": "19jVn6oyMXAc"
      },
      "execution_count": 34,
      "outputs": []
    },
    {
      "cell_type": "markdown",
      "source": [
        "####2. Data preprocessing"
      ],
      "metadata": {
        "id": "AwoMZPqPMi3p"
      }
    },
    {
      "cell_type": "markdown",
      "source": [
        "#####Select Feature"
      ],
      "metadata": {
        "id": "qOqelE1mMm44"
      }
    },
    {
      "cell_type": "code",
      "source": [
        "X = np.array(df.iloc[:, [2, 3, 4]])"
      ],
      "metadata": {
        "id": "oXqfXFx6MIJ1"
      },
      "execution_count": 35,
      "outputs": []
    },
    {
      "cell_type": "code",
      "source": [
        "X[:5]"
      ],
      "metadata": {
        "colab": {
          "base_uri": "https://localhost:8080/"
        },
        "id": "irKR6H8_Y2ws",
        "outputId": "dc8fda98-1ee3-44c2-f3f8-0ab9b9d15b39"
      },
      "execution_count": 36,
      "outputs": [
        {
          "output_type": "execute_result",
          "data": {
            "text/plain": [
              "array([[19, 15, 39],\n",
              "       [21, 15, 81],\n",
              "       [20, 16,  6],\n",
              "       [23, 16, 77],\n",
              "       [31, 17, 40]])"
            ]
          },
          "metadata": {},
          "execution_count": 36
        }
      ]
    },
    {
      "cell_type": "markdown",
      "source": [
        "#####Determine Number of Clusters"
      ],
      "metadata": {
        "id": "Nze9FaOpY-ln"
      }
    },
    {
      "cell_type": "markdown",
      "source": [
        "######Method 1 - Elbow Method"
      ],
      "metadata": {
        "id": "D1cpYp4DZChJ"
      }
    },
    {
      "cell_type": "code",
      "source": [
        "wcss = []\n",
        "for i in range(1, 11):\n",
        "  kmeans = KMeans(n_clusters=i, init = 'k-means++', max_iter=300, n_init=10, random_state=0)\n",
        "  kmeans.fit(X)\n",
        "  wcss.append(kmeans.inertia_)\n",
        "plt.figure(1 , figsize = (15 ,6))\n",
        "plt.plot(range(1, 11), wcss)\n",
        "plt.title('Elbow Method')\n",
        "plt.xlabel('Number of clusters')\n",
        "plt.ylabel('WCSS')\n",
        "plt.show()"
      ],
      "metadata": {
        "colab": {
          "base_uri": "https://localhost:8080/",
          "height": 441
        },
        "id": "H0fTeCf7Y-HG",
        "outputId": "7eb1f506-5d9f-4b29-d071-a9aa7990b1bd"
      },
      "execution_count": 38,
      "outputs": [
        {
          "output_type": "display_data",
          "data": {
            "text/plain": [
              "<Figure size 1080x432 with 1 Axes>"
            ],
            "image/png": "[encoded data removed]"
          },
          "metadata": {}
        }
      ]
    },
    {
      "cell_type": "markdown",
      "source": [
        "######Method 2 - Silhouette Coefficient"
      ],
      "metadata": {
        "id": "Yl49XLn0bjLQ"
      }
    },
    {
      "cell_type": "code",
      "source": [
        "# A list holds the silhouette coefficients for each k\n",
        "silhouette_coefficients = []\n",
        "\n",
        "# Notice you start at 2 clusters for silhouette coefficient \n",
        "for k in range(2, 11) :\n",
        "  kmeans = KMeans(n_clusters=k, init='k-means++' , max_iter=300, n_init=10, random_state=0)\n",
        "  kmeans.fit(X)\n",
        "  score = silhouette_score(X, kmeans.labels_)\n",
        "  silhouette_coefficients.append(score)\n",
        "\n",
        "plt.style.use( \"fivethirtyeight\" )\n",
        "plt.plot(range(2, 11), silhouette_coefficients)\n",
        "plt.xticks(range(2, 11))\n",
        "plt.xlabel(\"Number of Clusters\")\n",
        "plt.ylabel(\"Si1houette Coefficient\")\n",
        "plt.show()"
      ],
      "metadata": {
        "colab": {
          "base_uri": "https://localhost:8080/",
          "height": 304
        },
        "id": "xYML58PIY4G3",
        "outputId": "36d7a836-fa5f-4ba4-83ed-759cfa7e1d3b"
      },
      "execution_count": 40,
      "outputs": [
        {
          "output_type": "display_data",
          "data": {
            "text/plain": [
              "<Figure size 432x288 with 1 Axes>"
            ],
            "image/png": "[encoded data removed]"
          },
          "metadata": {}
        }
      ]
    },
    {
      "cell_type": "markdown",
      "source": [
        "####3. Create Cluster"
      ],
      "metadata": {
        "id": "oe8Y1eYWcpKh"
      }
    },
    {
      "cell_type": "code",
      "source": [
        "kmeans = KMeans(n_clusters = 6, max_iter = 500, n_init = 10, random_state = 0)\n",
        "kmeans_preds = kmeans.fit_predict(X)"
      ],
      "metadata": {
        "id": "i0xt_nOlb2mp"
      },
      "execution_count": 41,
      "outputs": []
    },
    {
      "cell_type": "code",
      "source": [
        "#predict result\n",
        "kmeans_preds"
      ],
      "metadata": {
        "colab": {
          "base_uri": "https://localhost:8080/"
        },
        "id": "a7WR2lMPdCLg",
        "outputId": "bffe3a36-bfcf-46d2-b2ff-0a964291b086"
      },
      "execution_count": 42,
      "outputs": [
        {
          "output_type": "execute_result",
          "data": {
            "text/plain": [
              "array([5, 4, 5, 4, 5, 4, 5, 4, 5, 4, 5, 4, 5, 4, 5, 4, 5, 4, 5, 4, 5, 4,\n",
              "       5, 4, 5, 4, 5, 4, 5, 4, 5, 4, 5, 4, 5, 4, 5, 4, 5, 4, 1, 4, 1, 0,\n",
              "       5, 4, 1, 0, 0, 0, 1, 0, 0, 1, 1, 1, 1, 1, 0, 1, 1, 0, 1, 1, 1, 0,\n",
              "       1, 1, 0, 0, 1, 1, 1, 1, 1, 0, 1, 0, 0, 1, 1, 0, 1, 1, 0, 1, 1, 0,\n",
              "       0, 1, 1, 0, 1, 0, 0, 0, 1, 0, 1, 0, 0, 1, 1, 0, 1, 0, 1, 1, 1, 1,\n",
              "       1, 0, 0, 0, 0, 0, 1, 1, 1, 1, 0, 0, 0, 3, 0, 3, 2, 3, 2, 3, 2, 3,\n",
              "       0, 3, 2, 3, 2, 3, 2, 3, 2, 3, 0, 3, 2, 3, 2, 3, 2, 3, 2, 3, 2, 3,\n",
              "       2, 3, 2, 3, 2, 3, 2, 3, 2, 3, 2, 3, 2, 3, 2, 3, 2, 3, 2, 3, 2, 3,\n",
              "       2, 3, 2, 3, 2, 3, 2, 3, 2, 3, 2, 3, 2, 3, 2, 3, 2, 3, 2, 3, 2, 3,\n",
              "       2, 3], dtype=int32)"
            ]
          },
          "metadata": {},
          "execution_count": 42
        }
      ]
    },
    {
      "cell_type": "markdown",
      "source": [
        "####4. Show Cluster"
      ],
      "metadata": {
        "id": "W1eX2J5ydGm_"
      }
    },
    {
      "cell_type": "code",
      "source": [
        "labels3 = kmeans.labels_\n",
        "centroids3 = kmeans.cluster_centers_\n",
        "\n",
        "df['ClusterMultiFeatures'] = labels3\n",
        "trace1 = go.Scatter3d( \n",
        "    x = df['Age'],\n",
        "    y = df['Spending Score (1-100)'],\n",
        "    z = df['Annual Income (k$)'],\n",
        "    mode = 'markers',\n",
        "    marker = dict(\n",
        "      color\t= df['ClusterMultiFeatures'],\n",
        "      size = 20,\n",
        "      line = dict(\n",
        "          color = df['ClusterMultiFeatures'],\n",
        "          width = 12\n",
        "      ),\n",
        "      opacity = 0.8\n",
        "    )\n",
        ")\n",
        "data = [trace1]\n",
        "layout = go.Layout(\n",
        "    title = 'Clusters',\n",
        "    scene = dict(\n",
        "        xaxis = dict(title = 'Age'),\n",
        "        yaxis = dict(title = 'Spending Score'),\n",
        "        zaxis = dict(title = 'Annual Income')\n",
        "    )\n",
        ")\n",
        "fig = go.Figure(data = data, layout = layout)\n",
        "py.offline.iplot(fig)"
      ],
      "metadata": {
        "colab": {
          "base_uri": "https://localhost:8080/",
          "height": 542
        },
        "id": "MwkElvo3dORg",
        "outputId": "27c75da8-0f0f-474c-a0d5-c61d2d4a3af8"
      },
      "execution_count": 46,
      "outputs": [
        {
          "output_type": "display_data",
          "data": {
            "text/html": [
              "<html>\n",
              "<head><meta charset=\"utf-8\" /></head>\n",
              "<body>\n",
              "    <div>            <script src=\"https://cdnjs.cloudflare.com/ajax/libs/mathjax/2.7.5/MathJax.js?config=TeX-AMS-MML_SVG\"></script><script type=\"text/javascript\">if (window.MathJax) {MathJax.Hub.Config({SVG: {font: \"STIX-Web\"}});}</script>                <script type=\"text/javascript\">window.PlotlyConfig = {MathJaxConfig: 'local'};</script>\n",
              "        <script src=\"https://cdn.plot.ly/plotly-2.8.3.min.js\"></script>                <div id=\"eb6104e0-822f-4c00-b185-7d455b1e1ce2\" class=\"plotly-graph-div\" style=\"height:525px; width:100%;\"></div>            <script type=\"text/javascript\">                                    window.PLOTLYENV=window.PLOTLYENV || {};                                    if (document.getElementById(\"eb6104e0-822f-4c00-b185-7d455b1e1ce2\")) {                    Plotly.newPlot(                        \"eb6104e0-822f-4c00-b185-7d455b1e1ce2\",                        [{\"marker\":{\"color\":[5,4,5,4,5,4,5,4,5,4,5,4,5,4,5,4,5,4,5,4,5,4,5,4,5,4,5,4,5,4,5,4,5,4,5,4,5,4,5,4,1,4,1,0,5,4,1,0,0,0,1,0,0,1,1,1,1,1,0,1,1,0,1,1,1,0,1,1,0,0,1,1,1,1,1,0,1,0,0,1,1,0,1,1,0,1,1,0,0,1,1,0,1,0,0,0,1,0,1,0,0,1,1,0,1,0,1,1,1,1,1,0,0,0,0,0,1,1,1,1,0,0,0,3,0,3,2,3,2,3,2,3,0,3,2,3,2,3,2,3,2,3,0,3,2,3,2,3,2,3,2,3,2,3,2,3,2,3,2,3,2,3,2,3,2,3,2,3,2,3,2,3,2,3,2,3,2,3,2,3,2,3,2,3,2,3,2,3,2,3,2,3,2,3,2,3,2,3,2,3],\"line\":{\"color\":[5,4,5,4,5,4,5,4,5,4,5,4,5,4,5,4,5,4,5,4,5,4,5,4,5,4,5,4,5,4,5,4,5,4,5,4,5,4,5,4,1,4,1,0,5,4,1,0,0,0,1,0,0,1,1,1,1,1,0,1,1,0,1,1,1,0,1,1,0,0,1,1,1,1,1,0,1,0,0,1,1,0,1,1,0,1,1,0,0,1,1,0,1,0,0,0,1,0,1,0,0,1,1,0,1,0,1,1,1,1,1,0,0,0,0,0,1,1,1,1,0,0,0,3,0,3,2,3,2,3,2,3,0,3,2,3,2,3,2,3,2,3,0,3,2,3,2,3,2,3,2,3,2,3,2,3,2,3,2,3,2,3,2,3,2,3,2,3,2,3,2,3,2,3,2,3,2,3,2,3,2,3,2,3,2,3,2,3,2,3,2,3,2,3,2,3,2,3,2,3],\"width\":12},\"opacity\":0.8,\"size\":20},\"mode\":\"markers\",\"x\":[19,21,20,23,31,22,35,23,64,30,67,35,58,24,37,22,35,20,52,35,35,25,46,31,54,29,45,35,40,23,60,21,53,18,49,21,42,30,36,20,65,24,48,31,49,24,50,27,29,31,49,33,31,59,50,47,51,69,27,53,70,19,67,54,63,18,43,68,19,32,70,47,60,60,59,26,45,40,23,49,57,38,67,46,21,48,55,22,34,50,68,18,48,40,32,24,47,27,48,20,23,49,67,26,49,21,66,54,68,66,65,19,38,19,18,19,63,49,51,50,27,38,40,39,23,31,43,40,59,38,47,39,25,31,20,29,44,32,19,35,57,32,28,32,25,28,48,32,34,34,43,39,44,38,47,27,37,30,34,30,56,29,19,31,50,36,42,33,36,32,40,28,36,36,52,30,58,27,59,35,37,32,46,29,41,30,54,28,41,36,34,32,33,38,47,35,45,32,32,30],\"y\":[39,81,6,77,40,76,6,94,3,72,14,99,15,77,13,79,35,66,29,98,35,73,5,73,14,82,32,61,31,87,4,73,4,92,14,81,17,73,26,75,35,92,36,61,28,65,55,47,42,42,52,60,54,60,45,41,50,46,51,46,56,55,52,59,51,59,50,48,59,47,55,42,49,56,47,54,53,48,52,42,51,55,41,44,57,46,58,55,60,46,55,41,49,40,42,52,47,50,42,49,41,48,59,55,56,42,50,46,43,48,52,54,42,46,48,50,43,59,43,57,56,40,58,91,29,77,35,95,11,75,9,75,34,71,5,88,7,73,10,72,5,93,40,87,12,97,36,74,22,90,17,88,20,76,16,89,1,78,1,73,35,83,5,93,26,75,20,95,27,63,13,75,10,92,13,86,15,69,14,90,32,86,15,88,39,97,24,68,17,85,23,69,8,91,16,79,28,74,18,83],\"z\":[15,15,16,16,17,17,18,18,19,19,19,19,20,20,20,20,21,21,23,23,24,24,25,25,28,28,28,28,29,29,30,30,33,33,33,33,34,34,37,37,38,38,39,39,39,39,40,40,40,40,42,42,43,43,43,43,44,44,46,46,46,46,47,47,48,48,48,48,48,48,49,49,50,50,54,54,54,54,54,54,54,54,54,54,54,54,57,57,58,58,59,59,60,60,60,60,60,60,61,61,62,62,62,62,62,62,63,63,63,63,63,63,64,64,65,65,65,65,67,67,67,67,69,69,70,70,71,71,71,71,71,71,72,72,73,73,73,73,74,74,75,75,76,76,77,77,77,77,78,78,78,78,78,78,78,78,78,78,78,78,79,79,81,81,85,85,86,86,87,87,87,87,87,87,88,88,88,88,93,93,97,97,98,98,99,99,101,101,103,103,103,103,113,113,120,120,126,126,137,137],\"type\":\"scatter3d\"}],                        {\"scene\":{\"xaxis\":{\"title\":{\"text\":\"Age\"}},\"yaxis\":{\"title\":{\"text\":\"Spending Score\"}},\"zaxis\":{\"title\":{\"text\":\"Annual Income\"}}},\"template\":{\"data\":{\"barpolar\":[{\"marker\":{\"line\":{\"color\":\"#E5ECF6\",\"width\":0.5},\"pattern\":{\"fillmode\":\"overlay\",\"size\":10,\"solidity\":0.2}},\"type\":\"barpolar\"}],\"bar\":[{\"error_x\":{\"color\":\"#2a3f5f\"},\"error_y\":{\"color\":\"#2a3f5f\"},\"marker\":{\"line\":{\"color\":\"#E5ECF6\",\"width\":0.5},\"pattern\":{\"fillmode\":\"overlay\",\"size\":10,\"solidity\":0.2}},\"type\":\"bar\"}],\"carpet\":[{\"aaxis\":{\"endlinecolor\":\"#2a3f5f\",\"gridcolor\":\"white\",\"linecolor\":\"white\",\"minorgridcolor\":\"white\",\"startlinecolor\":\"#2a3f5f\"},\"baxis\":{\"endlinecolor\":\"#2a3f5f\",\"gridcolor\":\"white\",\"linecolor\":\"white\",\"minorgridcolor\":\"white\",\"startlinecolor\":\"#2a3f5f\"},\"type\":\"carpet\"}],\"choropleth\":[{\"colorbar\":{\"outlinewidth\":0,\"ticks\":\"\"},\"type\":\"choropleth\"}],\"contourcarpet\":[{\"colorbar\":{\"outlinewidth\":0,\"ticks\":\"\"},\"type\":\"contourcarpet\"}],\"contour\":[{\"colorbar\":{\"outlinewidth\":0,\"ticks\":\"\"},\"colorscale\":[[0.0,\"#0d0887\"],[0.1111111111111111,\"#46039f\"],[0.2222222222222222,\"#7201a8\"],[0.3333333333333333,\"#9c179e\"],[0.4444444444444444,\"#bd3786\"],[0.5555555555555556,\"#d8576b\"],[0.6666666666666666,\"#ed7953\"],[0.7777777777777778,\"#fb9f3a\"],[0.8888888888888888,\"#fdca26\"],[1.0,\"#f0f921\"]],\"type\":\"contour\"}],\"heatmapgl\":[{\"colorbar\":{\"outlinewidth\":0,\"ticks\":\"\"},\"colorscale\":[[0.0,\"#0d0887\"],[0.1111111111111111,\"#46039f\"],[0.2222222222222222,\"#7201a8\"],[0.3333333333333333,\"#9c179e\"],[0.4444444444444444,\"#bd3786\"],[0.5555555555555556,\"#d8576b\"],[0.6666666666666666,\"#ed7953\"],[0.7777777777777778,\"#fb9f3a\"],[0.8888888888888888,\"#fdca26\"],[1.0,\"#f0f921\"]],\"type\":\"heatmapgl\"}],\"heatmap\":[{\"colorbar\":{\"outlinewidth\":0,\"ticks\":\"\"},\"colorscale\":[[0.0,\"#0d0887\"],[0.1111111111111111,\"#46039f\"],[0.2222222222222222,\"#7201a8\"],[0.3333333333333333,\"#9c179e\"],[0.4444444444444444,\"#bd3786\"],[0.5555555555555556,\"#d8576b\"],[0.6666666666666666,\"#ed7953\"],[0.7777777777777778,\"#fb9f3a\"],[0.8888888888888888,\"#fdca26\"],[1.0,\"#f0f921\"]],\"type\":\"heatmap\"}],\"histogram2dcontour\":[{\"colorbar\":{\"outlinewidth\":0,\"ticks\":\"\"},\"colorscale\":[[0.0,\"#0d0887\"],[0.1111111111111111,\"#46039f\"],[0.2222222222222222,\"#7201a8\"],[0.3333333333333333,\"#9c179e\"],[0.4444444444444444,\"#bd3786\"],[0.5555555555555556,\"#d8576b\"],[0.6666666666666666,\"#ed7953\"],[0.7777777777777778,\"#fb9f3a\"],[0.8888888888888888,\"#fdca26\"],[1.0,\"#f0f921\"]],\"type\":\"histogram2dcontour\"}],\"histogram2d\":[{\"colorbar\":{\"outlinewidth\":0,\"ticks\":\"\"},\"colorscale\":[[0.0,\"#0d0887\"],[0.1111111111111111,\"#46039f\"],[0.2222222222222222,\"#7201a8\"],[0.3333333333333333,\"#9c179e\"],[0.4444444444444444,\"#bd3786\"],[0.5555555555555556,\"#d8576b\"],[0.6666666666666666,\"#ed7953\"],[0.7777777777777778,\"#fb9f3a\"],[0.8888888888888888,\"#fdca26\"],[1.0,\"#f0f921\"]],\"type\":\"histogram2d\"}],\"histogram\":[{\"marker\":{\"pattern\":{\"fillmode\":\"overlay\",\"size\":10,\"solidity\":0.2}},\"type\":\"histogram\"}],\"mesh3d\":[{\"colorbar\":{\"outlinewidth\":0,\"ticks\":\"\"},\"type\":\"mesh3d\"}],\"parcoords\":[{\"line\":{\"colorbar\":{\"outlinewidth\":0,\"ticks\":\"\"}},\"type\":\"parcoords\"}],\"pie\":[{\"automargin\":true,\"type\":\"pie\"}],\"scatter3d\":[{\"line\":{\"colorbar\":{\"outlinewidth\":0,\"ticks\":\"\"}},\"marker\":{\"colorbar\":{\"outlinewidth\":0,\"ticks\":\"\"}},\"type\":\"scatter3d\"}],\"scattercarpet\":[{\"marker\":{\"colorbar\":{\"outlinewidth\":0,\"ticks\":\"\"}},\"type\":\"scattercarpet\"}],\"scattergeo\":[{\"marker\":{\"colorbar\":{\"outlinewidth\":0,\"ticks\":\"\"}},\"type\":\"scattergeo\"}],\"scattergl\":[{\"marker\":{\"colorbar\":{\"outlinewidth\":0,\"ticks\":\"\"}},\"type\":\"scattergl\"}],\"scattermapbox\":[{\"marker\":{\"colorbar\":{\"outlinewidth\":0,\"ticks\":\"\"}},\"type\":\"scattermapbox\"}],\"scatterpolargl\":[{\"marker\":{\"colorbar\":{\"outlinewidth\":0,\"ticks\":\"\"}},\"type\":\"scatterpolargl\"}],\"scatterpolar\":[{\"marker\":{\"colorbar\":{\"outlinewidth\":0,\"ticks\":\"\"}},\"type\":\"scatterpolar\"}],\"scatter\":[{\"marker\":{\"colorbar\":{\"outlinewidth\":0,\"ticks\":\"\"}},\"type\":\"scatter\"}],\"scatterternary\":[{\"marker\":{\"colorbar\":{\"outlinewidth\":0,\"ticks\":\"\"}},\"type\":\"scatterternary\"}],\"surface\":[{\"colorbar\":{\"outlinewidth\":0,\"ticks\":\"\"},\"colorscale\":[[0.0,\"#0d0887\"],[0.1111111111111111,\"#46039f\"],[0.2222222222222222,\"#7201a8\"],[0.3333333333333333,\"#9c179e\"],[0.4444444444444444,\"#bd3786\"],[0.5555555555555556,\"#d8576b\"],[0.6666666666666666,\"#ed7953\"],[0.7777777777777778,\"#fb9f3a\"],[0.8888888888888888,\"#fdca26\"],[1.0,\"#f0f921\"]],\"type\":\"surface\"}],\"table\":[{\"cells\":{\"fill\":{\"color\":\"#EBF0F8\"},\"line\":{\"color\":\"white\"}},\"header\":{\"fill\":{\"color\":\"#C8D4E3\"},\"line\":{\"color\":\"white\"}},\"type\":\"table\"}]},\"layout\":{\"annotationdefaults\":{\"arrowcolor\":\"#2a3f5f\",\"arrowhead\":0,\"arrowwidth\":1},\"autotypenumbers\":\"strict\",\"coloraxis\":{\"colorbar\":{\"outlinewidth\":0,\"ticks\":\"\"}},\"colorscale\":{\"diverging\":[[0,\"#8e0152\"],[0.1,\"#c51b7d\"],[0.2,\"#de77ae\"],[0.3,\"#f1b6da\"],[0.4,\"#fde0ef\"],[0.5,\"#f7f7f7\"],[0.6,\"#e6f5d0\"],[0.7,\"#b8e186\"],[0.8,\"#7fbc41\"],[0.9,\"#4d9221\"],[1,\"#276419\"]],\"sequential\":[[0.0,\"#0d0887\"],[0.1111111111111111,\"#46039f\"],[0.2222222222222222,\"#7201a8\"],[0.3333333333333333,\"#9c179e\"],[0.4444444444444444,\"#bd3786\"],[0.5555555555555556,\"#d8576b\"],[0.6666666666666666,\"#ed7953\"],[0.7777777777777778,\"#fb9f3a\"],[0.8888888888888888,\"#fdca26\"],[1.0,\"#f0f921\"]],\"sequentialminus\":[[0.0,\"#0d0887\"],[0.1111111111111111,\"#46039f\"],[0.2222222222222222,\"#7201a8\"],[0.3333333333333333,\"#9c179e\"],[0.4444444444444444,\"#bd3786\"],[0.5555555555555556,\"#d8576b\"],[0.6666666666666666,\"#ed7953\"],[0.7777777777777778,\"#fb9f3a\"],[0.8888888888888888,\"#fdca26\"],[1.0,\"#f0f921\"]]},\"colorway\":[\"#636efa\",\"#EF553B\",\"#00cc96\",\"#ab63fa\",\"#FFA15A\",\"#19d3f3\",\"#FF6692\",\"#B6E880\",\"#FF97FF\",\"#FECB52\"],\"font\":{\"color\":\"#2a3f5f\"},\"geo\":{\"bgcolor\":\"white\",\"lakecolor\":\"white\",\"landcolor\":\"#E5ECF6\",\"showlakes\":true,\"showland\":true,\"subunitcolor\":\"white\"},\"hoverlabel\":{\"align\":\"left\"},\"hovermode\":\"closest\",\"mapbox\":{\"style\":\"light\"},\"paper_bgcolor\":\"white\",\"plot_bgcolor\":\"#E5ECF6\",\"polar\":{\"angularaxis\":{\"gridcolor\":\"white\",\"linecolor\":\"white\",\"ticks\":\"\"},\"bgcolor\":\"#E5ECF6\",\"radialaxis\":{\"gridcolor\":\"white\",\"linecolor\":\"white\",\"ticks\":\"\"}},\"scene\":{\"xaxis\":{\"backgroundcolor\":\"#E5ECF6\",\"gridcolor\":\"white\",\"gridwidth\":2,\"linecolor\":\"white\",\"showbackground\":true,\"ticks\":\"\",\"zerolinecolor\":\"white\"},\"yaxis\":{\"backgroundcolor\":\"#E5ECF6\",\"gridcolor\":\"white\",\"gridwidth\":2,\"linecolor\":\"white\",\"showbackground\":true,\"ticks\":\"\",\"zerolinecolor\":\"white\"},\"zaxis\":{\"backgroundcolor\":\"#E5ECF6\",\"gridcolor\":\"white\",\"gridwidth\":2,\"linecolor\":\"white\",\"showbackground\":true,\"ticks\":\"\",\"zerolinecolor\":\"white\"}},\"shapedefaults\":{\"line\":{\"color\":\"#2a3f5f\"}},\"ternary\":{\"aaxis\":{\"gridcolor\":\"white\",\"linecolor\":\"white\",\"ticks\":\"\"},\"baxis\":{\"gridcolor\":\"white\",\"linecolor\":\"white\",\"ticks\":\"\"},\"bgcolor\":\"#E5ECF6\",\"caxis\":{\"gridcolor\":\"white\",\"linecolor\":\"white\",\"ticks\":\"\"}},\"title\":{\"x\":0.05},\"xaxis\":{\"automargin\":true,\"gridcolor\":\"white\",\"linecolor\":\"white\",\"ticks\":\"\",\"title\":{\"standoff\":15},\"zerolinecolor\":\"white\",\"zerolinewidth\":2},\"yaxis\":{\"automargin\":true,\"gridcolor\":\"white\",\"linecolor\":\"white\",\"ticks\":\"\",\"title\":{\"standoff\":15},\"zerolinecolor\":\"white\",\"zerolinewidth\":2}}},\"title\":{\"text\":\"Clusters\"}},                        {\"responsive\": true}                    ).then(function(){\n",
              "                            \n",
              "var gd = document.getElementById('eb6104e0-822f-4c00-b185-7d455b1e1ce2');\n",
              "var x = new MutationObserver(function (mutations, observer) {{\n",
              "        var display = window.getComputedStyle(gd).display;\n",
              "        if (!display || display === 'none') {{\n",
              "            console.log([gd, 'removed!']);\n",
              "            Plotly.purge(gd);\n",
              "            observer.disconnect();\n",
              "        }}\n",
              "}});\n",
              "\n",
              "// Listen for the removal of the full notebook cells\n",
              "var notebookContainer = gd.closest('#notebook-container');\n",
              "if (notebookContainer) {{\n",
              "    x.observe(notebookContainer, {childList: true});\n",
              "}}\n",
              "\n",
              "// Listen for the clearing of the current output cell\n",
              "var outputEl = gd.closest('.output');\n",
              "if (outputEl) {{\n",
              "    x.observe(outputEl, {childList: true});\n",
              "}}\n",
              "\n",
              "                        })                };                            </script>        </div>\n",
              "</body>\n",
              "</html>"
            ]
          },
          "metadata": {}
        }
      ]
    },
    {
      "cell_type": "code",
      "source": [
        "df.head()"
      ],
      "metadata": {
        "colab": {
          "base_uri": "https://localhost:8080/",
          "height": 206
        },
        "id": "TvF9tYwXgoKr",
        "outputId": "580a9c35-d3a4-4e43-f0c5-f476f076f944"
      },
      "execution_count": 49,
      "outputs": [
        {
          "output_type": "execute_result",
          "data": {
            "text/plain": [
              "   CustomerID  Gender  Age  Annual Income (k$)  Spending Score (1-100)  \\\n",
              "0           1    Male   19                  15                      39   \n",
              "1           2    Male   21                  15                      81   \n",
              "2           3  Female   20                  16                       6   \n",
              "3           4  Female   23                  16                      77   \n",
              "4           5  Female   31                  17                      40   \n",
              "\n",
              "   Cluster  ClusterMu1tiFeatures  ClusterMultiFeatures  \n",
              "0        4                     5                     5  \n",
              "1        3                     4                     4  \n",
              "2        4                     5                     5  \n",
              "3        3                     4                     4  \n",
              "4        4                     5                     5  "
            ],
            "text/html": [
              "\n",
              "  <div id=\"df-329f928e-4125-455b-a5c3-1bc5533281e9\">\n",
              "    <div class=\"colab-df-container\">\n",
              "      <div>\n",
              "<style scoped>\n",
              "    .dataframe tbody tr th:only-of-type {\n",
              "        vertical-align: middle;\n",
              "    }\n",
              "\n",
              "    .dataframe tbody tr th {\n",
              "        vertical-align: top;\n",
              "    }\n",
              "\n",
              "    .dataframe thead th {\n",
              "        text-align: right;\n",
              "    }\n",
              "</style>\n",
              "<table border=\"1\" class=\"dataframe\">\n",
              "  <thead>\n",
              "    <tr style=\"text-align: right;\">\n",
              "      <th></th>\n",
              "      <th>CustomerID</th>\n",
              "      <th>Gender</th>\n",
              "      <th>Age</th>\n",
              "      <th>Annual Income (k$)</th>\n",
              "      <th>Spending Score (1-100)</th>\n",
              "      <th>Cluster</th>\n",
              "      <th>ClusterMu1tiFeatures</th>\n",
              "      <th>ClusterMultiFeatures</th>\n",
              "    </tr>\n",
              "  </thead>\n",
              "  <tbody>\n",
              "    <tr>\n",
              "      <th>0</th>\n",
              "      <td>1</td>\n",
              "      <td>Male</td>\n",
              "      <td>19</td>\n",
              "      <td>15</td>\n",
              "      <td>39</td>\n",
              "      <td>4</td>\n",
              "      <td>5</td>\n",
              "      <td>5</td>\n",
              "    </tr>\n",
              "    <tr>\n",
              "      <th>1</th>\n",
              "      <td>2</td>\n",
              "      <td>Male</td>\n",
              "      <td>21</td>\n",
              "      <td>15</td>\n",
              "      <td>81</td>\n",
              "      <td>3</td>\n",
              "      <td>4</td>\n",
              "      <td>4</td>\n",
              "    </tr>\n",
              "    <tr>\n",
              "      <th>2</th>\n",
              "      <td>3</td>\n",
              "      <td>Female</td>\n",
              "      <td>20</td>\n",
              "      <td>16</td>\n",
              "      <td>6</td>\n",
              "      <td>4</td>\n",
              "      <td>5</td>\n",
              "      <td>5</td>\n",
              "    </tr>\n",
              "    <tr>\n",
              "      <th>3</th>\n",
              "      <td>4</td>\n",
              "      <td>Female</td>\n",
              "      <td>23</td>\n",
              "      <td>16</td>\n",
              "      <td>77</td>\n",
              "      <td>3</td>\n",
              "      <td>4</td>\n",
              "      <td>4</td>\n",
              "    </tr>\n",
              "    <tr>\n",
              "      <th>4</th>\n",
              "      <td>5</td>\n",
              "      <td>Female</td>\n",
              "      <td>31</td>\n",
              "      <td>17</td>\n",
              "      <td>40</td>\n",
              "      <td>4</td>\n",
              "      <td>5</td>\n",
              "      <td>5</td>\n",
              "    </tr>\n",
              "  </tbody>\n",
              "</table>\n",
              "</div>\n",
              "      <button class=\"colab-df-convert\" onclick=\"convertToInteractive('df-329f928e-4125-455b-a5c3-1bc5533281e9')\"\n",
              "              title=\"Convert this dataframe to an interactive table.\"\n",
              "              style=\"display:none;\">\n",
              "        \n",
              "  <svg xmlns=\"http://www.w3.org/2000/svg\" height=\"24px\"viewBox=\"0 0 24 24\"\n",
              "       width=\"24px\">\n",
              "    <path d=\"M0 0h24v24H0V0z\" fill=\"none\"/>\n",
              "    <path d=\"M18.56 5.44l.94 2.06.94-2.06 2.06-.94-2.06-.94-.94-2.06-.94 2.06-2.06.94zm-11 1L8.5 8.5l.94-2.06 2.06-.94-2.06-.94L8.5 2.5l-.94 2.06-2.06.94zm10 10l.94 2.06.94-2.06 2.06-.94-2.06-.94-.94-2.06-.94 2.06-2.06.94z\"/><path d=\"M17.41 7.96l-1.37-1.37c-.4-.4-.92-.59-1.43-.59-.52 0-1.04.2-1.43.59L10.3 9.45l-7.72 7.72c-.78.78-.78 2.05 0 2.83L4 21.41c.39.39.9.59 1.41.59.51 0 1.02-.2 1.41-.59l7.78-7.78 2.81-2.81c.8-.78.8-2.07 0-2.86zM5.41 20L4 18.59l7.72-7.72 1.47 1.35L5.41 20z\"/>\n",
              "  </svg>\n",
              "      </button>\n",
              "      \n",
              "  <style>\n",
              "    .colab-df-container {\n",
              "      display:flex;\n",
              "      flex-wrap:wrap;\n",
              "      gap: 12px;\n",
              "    }\n",
              "\n",
              "    .colab-df-convert {\n",
              "      background-color: #E8F0FE;\n",
              "      border: none;\n",
              "      border-radius: 50%;\n",
              "      cursor: pointer;\n",
              "      display: none;\n",
              "      fill: #1967D2;\n",
              "      height: 32px;\n",
              "      padding: 0 0 0 0;\n",
              "      width: 32px;\n",
              "    }\n",
              "\n",
              "    .colab-df-convert:hover {\n",
              "      background-color: #E2EBFA;\n",
              "      box-shadow: 0px 1px 2px rgba(60, 64, 67, 0.3), 0px 1px 3px 1px rgba(60, 64, 67, 0.15);\n",
              "      fill: #174EA6;\n",
              "    }\n",
              "\n",
              "    [theme=dark] .colab-df-convert {\n",
              "      background-color: #3B4455;\n",
              "      fill: #D2E3FC;\n",
              "    }\n",
              "\n",
              "    [theme=dark] .colab-df-convert:hover {\n",
              "      background-color: #434B5C;\n",
              "      box-shadow: 0px 1px 3px 1px rgba(0, 0, 0, 0.15);\n",
              "      filter: drop-shadow(0px 1px 2px rgba(0, 0, 0, 0.3));\n",
              "      fill: #FFFFFF;\n",
              "    }\n",
              "  </style>\n",
              "\n",
              "      <script>\n",
              "        const buttonEl =\n",
              "          document.querySelector('#df-329f928e-4125-455b-a5c3-1bc5533281e9 button.colab-df-convert');\n",
              "        buttonEl.style.display =\n",
              "          google.colab.kernel.accessAllowed ? 'block' : 'none';\n",
              "\n",
              "        async function convertToInteractive(key) {\n",
              "          const element = document.querySelector('#df-329f928e-4125-455b-a5c3-1bc5533281e9');\n",
              "          const dataTable =\n",
              "            await google.colab.kernel.invokeFunction('convertToInteractive',\n",
              "                                                     [key], {});\n",
              "          if (!dataTable) return;\n",
              "\n",
              "          const docLinkHtml = 'Like what you see? Visit the ' +\n",
              "            '<a target=\"_blank\" href=https://colab.research.google.com/notebooks/data_table.ipynb>data table notebook</a>'\n",
              "            + ' to learn more about interactive tables.';\n",
              "          element.innerHTML = '';\n",
              "          dataTable['output_type'] = 'display_data';\n",
              "          await google.colab.output.renderOutput(dataTable, element);\n",
              "          const docLink = document.createElement('div');\n",
              "          docLink.innerHTML = docLinkHtml;\n",
              "          element.appendChild(docLink);\n",
              "        }\n",
              "      </script>\n",
              "    </div>\n",
              "  </div>\n",
              "  "
            ]
          },
          "metadata": {},
          "execution_count": 49
        }
      ]
    },
    {
      "cell_type": "code",
      "source": [
        "df.groupby(['ClusterMultiFeatures'])['ClusterMultiFeatures'].count()"
      ],
      "metadata": {
        "colab": {
          "base_uri": "https://localhost:8080/"
        },
        "id": "ZBNOEXJxgo9v",
        "outputId": "0f98daa9-1f56-46c6-fc0b-11bf6ee5819f"
      },
      "execution_count": 48,
      "outputs": [
        {
          "output_type": "execute_result",
          "data": {
            "text/plain": [
              "ClusterMultiFeatures\n",
              "0    38\n",
              "1    45\n",
              "2    35\n",
              "3    39\n",
              "4    22\n",
              "5    21\n",
              "Name: ClusterMultiFeatures, dtype: int64"
            ]
          },
          "metadata": {},
          "execution_count": 48
        }
      ]
    },
    {
      "cell_type": "code",
      "source": [
        "#menampilkan cluster tertentu\n",
        "df.loc[df['ClusterMultiFeatures'] == 3].head()"
      ],
      "metadata": {
        "colab": {
          "base_uri": "https://localhost:8080/",
          "height": 206
        },
        "id": "ossC1c4-gwBx",
        "outputId": "2bdf4e3a-e948-4a35-807b-be37fce603ba"
      },
      "execution_count": 53,
      "outputs": [
        {
          "output_type": "execute_result",
          "data": {
            "text/plain": [
              "     CustomerID  Gender  Age  Annual Income (k$)  Spending Score (1-100)  \\\n",
              "123         124    Male   39                  69                      91   \n",
              "125         126  Female   31                  70                      77   \n",
              "127         128    Male   40                  71                      95   \n",
              "129         130    Male   38                  71                      75   \n",
              "131         132    Male   39                  71                      75   \n",
              "\n",
              "     Cluster  ClusterMu1tiFeatures  ClusterMultiFeatures  \n",
              "123        2                     3                     3  \n",
              "125        2                     3                     3  \n",
              "127        2                     3                     3  \n",
              "129        2                     3                     3  \n",
              "131        2                     3                     3  "
            ],
            "text/html": [
              "\n",
              "  <div id=\"df-9a0fc99b-3f26-4b4c-aaa3-c63059f4abbf\">\n",
              "    <div class=\"colab-df-container\">\n",
              "      <div>\n",
              "<style scoped>\n",
              "    .dataframe tbody tr th:only-of-type {\n",
              "        vertical-align: middle;\n",
              "    }\n",
              "\n",
              "    .dataframe tbody tr th {\n",
              "        vertical-align: top;\n",
              "    }\n",
              "\n",
              "    .dataframe thead th {\n",
              "        text-align: right;\n",
              "    }\n",
              "</style>\n",
              "<table border=\"1\" class=\"dataframe\">\n",
              "  <thead>\n",
              "    <tr style=\"text-align: right;\">\n",
              "      <th></th>\n",
              "      <th>CustomerID</th>\n",
              "      <th>Gender</th>\n",
              "      <th>Age</th>\n",
              "      <th>Annual Income (k$)</th>\n",
              "      <th>Spending Score (1-100)</th>\n",
              "      <th>Cluster</th>\n",
              "      <th>ClusterMu1tiFeatures</th>\n",
              "      <th>ClusterMultiFeatures</th>\n",
              "    </tr>\n",
              "  </thead>\n",
              "  <tbody>\n",
              "    <tr>\n",
              "      <th>123</th>\n",
              "      <td>124</td>\n",
              "      <td>Male</td>\n",
              "      <td>39</td>\n",
              "      <td>69</td>\n",
              "      <td>91</td>\n",
              "      <td>2</td>\n",
              "      <td>3</td>\n",
              "      <td>3</td>\n",
              "    </tr>\n",
              "    <tr>\n",
              "      <th>125</th>\n",
              "      <td>126</td>\n",
              "      <td>Female</td>\n",
              "      <td>31</td>\n",
              "      <td>70</td>\n",
              "      <td>77</td>\n",
              "      <td>2</td>\n",
              "      <td>3</td>\n",
              "      <td>3</td>\n",
              "    </tr>\n",
              "    <tr>\n",
              "      <th>127</th>\n",
              "      <td>128</td>\n",
              "      <td>Male</td>\n",
              "      <td>40</td>\n",
              "      <td>71</td>\n",
              "      <td>95</td>\n",
              "      <td>2</td>\n",
              "      <td>3</td>\n",
              "      <td>3</td>\n",
              "    </tr>\n",
              "    <tr>\n",
              "      <th>129</th>\n",
              "      <td>130</td>\n",
              "      <td>Male</td>\n",
              "      <td>38</td>\n",
              "      <td>71</td>\n",
              "      <td>75</td>\n",
              "      <td>2</td>\n",
              "      <td>3</td>\n",
              "      <td>3</td>\n",
              "    </tr>\n",
              "    <tr>\n",
              "      <th>131</th>\n",
              "      <td>132</td>\n",
              "      <td>Male</td>\n",
              "      <td>39</td>\n",
              "      <td>71</td>\n",
              "      <td>75</td>\n",
              "      <td>2</td>\n",
              "      <td>3</td>\n",
              "      <td>3</td>\n",
              "    </tr>\n",
              "  </tbody>\n",
              "</table>\n",
              "</div>\n",
              "      <button class=\"colab-df-convert\" onclick=\"convertToInteractive('df-9a0fc99b-3f26-4b4c-aaa3-c63059f4abbf')\"\n",
              "              title=\"Convert this dataframe to an interactive table.\"\n",
              "              style=\"display:none;\">\n",
              "        \n",
              "  <svg xmlns=\"http://www.w3.org/2000/svg\" height=\"24px\"viewBox=\"0 0 24 24\"\n",
              "       width=\"24px\">\n",
              "    <path d=\"M0 0h24v24H0V0z\" fill=\"none\"/>\n",
              "    <path d=\"M18.56 5.44l.94 2.06.94-2.06 2.06-.94-2.06-.94-.94-2.06-.94 2.06-2.06.94zm-11 1L8.5 8.5l.94-2.06 2.06-.94-2.06-.94L8.5 2.5l-.94 2.06-2.06.94zm10 10l.94 2.06.94-2.06 2.06-.94-2.06-.94-.94-2.06-.94 2.06-2.06.94z\"/><path d=\"M17.41 7.96l-1.37-1.37c-.4-.4-.92-.59-1.43-.59-.52 0-1.04.2-1.43.59L10.3 9.45l-7.72 7.72c-.78.78-.78 2.05 0 2.83L4 21.41c.39.39.9.59 1.41.59.51 0 1.02-.2 1.41-.59l7.78-7.78 2.81-2.81c.8-.78.8-2.07 0-2.86zM5.41 20L4 18.59l7.72-7.72 1.47 1.35L5.41 20z\"/>\n",
              "  </svg>\n",
              "      </button>\n",
              "      \n",
              "  <style>\n",
              "    .colab-df-container {\n",
              "      display:flex;\n",
              "      flex-wrap:wrap;\n",
              "      gap: 12px;\n",
              "    }\n",
              "\n",
              "    .colab-df-convert {\n",
              "      background-color: #E8F0FE;\n",
              "      border: none;\n",
              "      border-radius: 50%;\n",
              "      cursor: pointer;\n",
              "      display: none;\n",
              "      fill: #1967D2;\n",
              "      height: 32px;\n",
              "      padding: 0 0 0 0;\n",
              "      width: 32px;\n",
              "    }\n",
              "\n",
              "    .colab-df-convert:hover {\n",
              "      background-color: #E2EBFA;\n",
              "      box-shadow: 0px 1px 2px rgba(60, 64, 67, 0.3), 0px 1px 3px 1px rgba(60, 64, 67, 0.15);\n",
              "      fill: #174EA6;\n",
              "    }\n",
              "\n",
              "    [theme=dark] .colab-df-convert {\n",
              "      background-color: #3B4455;\n",
              "      fill: #D2E3FC;\n",
              "    }\n",
              "\n",
              "    [theme=dark] .colab-df-convert:hover {\n",
              "      background-color: #434B5C;\n",
              "      box-shadow: 0px 1px 3px 1px rgba(0, 0, 0, 0.15);\n",
              "      filter: drop-shadow(0px 1px 2px rgba(0, 0, 0, 0.3));\n",
              "      fill: #FFFFFF;\n",
              "    }\n",
              "  </style>\n",
              "\n",
              "      <script>\n",
              "        const buttonEl =\n",
              "          document.querySelector('#df-9a0fc99b-3f26-4b4c-aaa3-c63059f4abbf button.colab-df-convert');\n",
              "        buttonEl.style.display =\n",
              "          google.colab.kernel.accessAllowed ? 'block' : 'none';\n",
              "\n",
              "        async function convertToInteractive(key) {\n",
              "          const element = document.querySelector('#df-9a0fc99b-3f26-4b4c-aaa3-c63059f4abbf');\n",
              "          const dataTable =\n",
              "            await google.colab.kernel.invokeFunction('convertToInteractive',\n",
              "                                                     [key], {});\n",
              "          if (!dataTable) return;\n",
              "\n",
              "          const docLinkHtml = 'Like what you see? Visit the ' +\n",
              "            '<a target=\"_blank\" href=https://colab.research.google.com/notebooks/data_table.ipynb>data table notebook</a>'\n",
              "            + ' to learn more about interactive tables.';\n",
              "          element.innerHTML = '';\n",
              "          dataTable['output_type'] = 'display_data';\n",
              "          await google.colab.output.renderOutput(dataTable, element);\n",
              "          const docLink = document.createElement('div');\n",
              "          docLink.innerHTML = docLinkHtml;\n",
              "          element.appendChild(docLink);\n",
              "        }\n",
              "      </script>\n",
              "    </div>\n",
              "  </div>\n",
              "  "
            ]
          },
          "metadata": {},
          "execution_count": 53
        }
      ]
    },
    {
      "cell_type": "code",
      "source": [
        "#predict one data\n",
        "print(kmeans.predict([[39, 80, 80]]))"
      ],
      "metadata": {
        "colab": {
          "base_uri": "https://localhost:8080/"
        },
        "id": "hxqHqyZ5hVuX",
        "outputId": "ae7ef4f1-3380-4003-afa1-ec84f145f25c"
      },
      "execution_count": 54,
      "outputs": [
        {
          "output_type": "stream",
          "name": "stdout",
          "text": [
            "[3]\n"
          ]
        }
      ]
    },
    {
      "cell_type": "markdown",
      "source": [
        "##Clustering Evaluation?"
      ],
      "metadata": {
        "id": "tmLh-JfIhfjL"
      }
    },
    {
      "cell_type": "markdown",
      "source": [
        "While Classification and Regression tasks form what's called Supervised Learning, Clustering forms the majority of Unsupervised Learning tasks. The difference between these two macro-areas lies in the type of data used. While in Supervised Learning samples are labelled with either a categorical label (Classification) or a numerical value (Regression), in Unsupervised Learning samples are not labelled, making it a relatively complex task to perform and evaluate.\n",
        "\n",
        "Correctly measuring the performance of Clustering algorithms is key. This is especially true as it often happens that clusters are manually and qualitatively inspected to determine whether the results are meaningful.\n",
        "\n",
        "Another main metrics used to evaluate the performance of Clustering algorithms are :\n",
        "* Silhouette Score\n",
        "* Rand Index\n",
        "* Adjusted Rand Index   Mutual Information\n",
        "* Calinski-Harabasz Index\n",
        "* Davies-Bouldin Index\n"
      ],
      "metadata": {
        "id": "z2rTGO-lhnJL"
      }
    },
    {
      "cell_type": "markdown",
      "source": [
        "##TUGAS 😸"
      ],
      "metadata": {
        "id": "e-XkKjWWh6L4"
      }
    },
    {
      "cell_type": "markdown",
      "source": [
        "Lakukan Clustering dengan menggunakan dataset iris dari sklearn.datasets (dapat dilihat pada kode di bawah), gunakan referensi 'Implementasi 2 dan 3' di atas kemudian sesuaikan kodenya\n",
        "\n",
        "Hasil model clustering dalam bentuk plot scatter dan kolom baru dengan nama 'cluster'"
      ],
      "metadata": {
        "id": "o7k_YXtriExU"
      }
    },
    {
      "cell_type": "code",
      "source": [
        "#iris dataset\n",
        "from sklearn import datasets\n",
        "iris = datasets.load_iris()\n",
        "df = pd.DataFrame(data=iris.data, columns=iris.feature_names)\n",
        "df. head()"
      ],
      "metadata": {
        "colab": {
          "base_uri": "https://localhost:8080/",
          "height": 206
        },
        "id": "_H1vV3mrhv2J",
        "outputId": "85e9e21a-279d-4f41-a719-4aabaf446bee"
      },
      "execution_count": 55,
      "outputs": [
        {
          "output_type": "execute_result",
          "data": {
            "text/plain": [
              "   sepal length (cm)  sepal width (cm)  petal length (cm)  petal width (cm)\n",
              "0                5.1               3.5                1.4               0.2\n",
              "1                4.9               3.0                1.4               0.2\n",
              "2                4.7               3.2                1.3               0.2\n",
              "3                4.6               3.1                1.5               0.2\n",
              "4                5.0               3.6                1.4               0.2"
            ],
            "text/html": [
              "\n",
              "  <div id=\"df-4d87984d-cc9a-4515-a910-abca33bfcae3\">\n",
              "    <div class=\"colab-df-container\">\n",
              "      <div>\n",
              "<style scoped>\n",
              "    .dataframe tbody tr th:only-of-type {\n",
              "        vertical-align: middle;\n",
              "    }\n",
              "\n",
              "    .dataframe tbody tr th {\n",
              "        vertical-align: top;\n",
              "    }\n",
              "\n",
              "    .dataframe thead th {\n",
              "        text-align: right;\n",
              "    }\n",
              "</style>\n",
              "<table border=\"1\" class=\"dataframe\">\n",
              "  <thead>\n",
              "    <tr style=\"text-align: right;\">\n",
              "      <th></th>\n",
              "      <th>sepal length (cm)</th>\n",
              "      <th>sepal width (cm)</th>\n",
              "      <th>petal length (cm)</th>\n",
              "      <th>petal width (cm)</th>\n",
              "    </tr>\n",
              "  </thead>\n",
              "  <tbody>\n",
              "    <tr>\n",
              "      <th>0</th>\n",
              "      <td>5.1</td>\n",
              "      <td>3.5</td>\n",
              "      <td>1.4</td>\n",
              "      <td>0.2</td>\n",
              "    </tr>\n",
              "    <tr>\n",
              "      <th>1</th>\n",
              "      <td>4.9</td>\n",
              "      <td>3.0</td>\n",
              "      <td>1.4</td>\n",
              "      <td>0.2</td>\n",
              "    </tr>\n",
              "    <tr>\n",
              "      <th>2</th>\n",
              "      <td>4.7</td>\n",
              "      <td>3.2</td>\n",
              "      <td>1.3</td>\n",
              "      <td>0.2</td>\n",
              "    </tr>\n",
              "    <tr>\n",
              "      <th>3</th>\n",
              "      <td>4.6</td>\n",
              "      <td>3.1</td>\n",
              "      <td>1.5</td>\n",
              "      <td>0.2</td>\n",
              "    </tr>\n",
              "    <tr>\n",
              "      <th>4</th>\n",
              "      <td>5.0</td>\n",
              "      <td>3.6</td>\n",
              "      <td>1.4</td>\n",
              "      <td>0.2</td>\n",
              "    </tr>\n",
              "  </tbody>\n",
              "</table>\n",
              "</div>\n",
              "      <button class=\"colab-df-convert\" onclick=\"convertToInteractive('df-4d87984d-cc9a-4515-a910-abca33bfcae3')\"\n",
              "              title=\"Convert this dataframe to an interactive table.\"\n",
              "              style=\"display:none;\">\n",
              "        \n",
              "  <svg xmlns=\"http://www.w3.org/2000/svg\" height=\"24px\"viewBox=\"0 0 24 24\"\n",
              "       width=\"24px\">\n",
              "    <path d=\"M0 0h24v24H0V0z\" fill=\"none\"/>\n",
              "    <path d=\"M18.56 5.44l.94 2.06.94-2.06 2.06-.94-2.06-.94-.94-2.06-.94 2.06-2.06.94zm-11 1L8.5 8.5l.94-2.06 2.06-.94-2.06-.94L8.5 2.5l-.94 2.06-2.06.94zm10 10l.94 2.06.94-2.06 2.06-.94-2.06-.94-.94-2.06-.94 2.06-2.06.94z\"/><path d=\"M17.41 7.96l-1.37-1.37c-.4-.4-.92-.59-1.43-.59-.52 0-1.04.2-1.43.59L10.3 9.45l-7.72 7.72c-.78.78-.78 2.05 0 2.83L4 21.41c.39.39.9.59 1.41.59.51 0 1.02-.2 1.41-.59l7.78-7.78 2.81-2.81c.8-.78.8-2.07 0-2.86zM5.41 20L4 18.59l7.72-7.72 1.47 1.35L5.41 20z\"/>\n",
              "  </svg>\n",
              "      </button>\n",
              "      \n",
              "  <style>\n",
              "    .colab-df-container {\n",
              "      display:flex;\n",
              "      flex-wrap:wrap;\n",
              "      gap: 12px;\n",
              "    }\n",
              "\n",
              "    .colab-df-convert {\n",
              "      background-color: #E8F0FE;\n",
              "      border: none;\n",
              "      border-radius: 50%;\n",
              "      cursor: pointer;\n",
              "      display: none;\n",
              "      fill: #1967D2;\n",
              "      height: 32px;\n",
              "      padding: 0 0 0 0;\n",
              "      width: 32px;\n",
              "    }\n",
              "\n",
              "    .colab-df-convert:hover {\n",
              "      background-color: #E2EBFA;\n",
              "      box-shadow: 0px 1px 2px rgba(60, 64, 67, 0.3), 0px 1px 3px 1px rgba(60, 64, 67, 0.15);\n",
              "      fill: #174EA6;\n",
              "    }\n",
              "\n",
              "    [theme=dark] .colab-df-convert {\n",
              "      background-color: #3B4455;\n",
              "      fill: #D2E3FC;\n",
              "    }\n",
              "\n",
              "    [theme=dark] .colab-df-convert:hover {\n",
              "      background-color: #434B5C;\n",
              "      box-shadow: 0px 1px 3px 1px rgba(0, 0, 0, 0.15);\n",
              "      filter: drop-shadow(0px 1px 2px rgba(0, 0, 0, 0.3));\n",
              "      fill: #FFFFFF;\n",
              "    }\n",
              "  </style>\n",
              "\n",
              "      <script>\n",
              "        const buttonEl =\n",
              "          document.querySelector('#df-4d87984d-cc9a-4515-a910-abca33bfcae3 button.colab-df-convert');\n",
              "        buttonEl.style.display =\n",
              "          google.colab.kernel.accessAllowed ? 'block' : 'none';\n",
              "\n",
              "        async function convertToInteractive(key) {\n",
              "          const element = document.querySelector('#df-4d87984d-cc9a-4515-a910-abca33bfcae3');\n",
              "          const dataTable =\n",
              "            await google.colab.kernel.invokeFunction('convertToInteractive',\n",
              "                                                     [key], {});\n",
              "          if (!dataTable) return;\n",
              "\n",
              "          const docLinkHtml = 'Like what you see? Visit the ' +\n",
              "            '<a target=\"_blank\" href=https://colab.research.google.com/notebooks/data_table.ipynb>data table notebook</a>'\n",
              "            + ' to learn more about interactive tables.';\n",
              "          element.innerHTML = '';\n",
              "          dataTable['output_type'] = 'display_data';\n",
              "          await google.colab.output.renderOutput(dataTable, element);\n",
              "          const docLink = document.createElement('div');\n",
              "          docLink.innerHTML = docLinkHtml;\n",
              "          element.appendChild(docLink);\n",
              "        }\n",
              "      </script>\n",
              "    </div>\n",
              "  </div>\n",
              "  "
            ]
          },
          "metadata": {},
          "execution_count": 55
        }
      ]
    },
    {
      "cell_type": "markdown",
      "source": [
        "##References:"
      ],
      "metadata": {
        "id": "8bmSsPMkideu"
      }
    },
    {
      "cell_type": "markdown",
      "source": [
        "https://towardsdatascience.com/machine-learning-algorithm-part-9-k-means-example-in-python-f2ad05ed5203\n",
        "\n",
        "https://realpython.com/k-means-clusteringnython/\n",
        "\n",
        "https://www.dqlab.id/k-means-clustering-salah-satu-contoh-teknik-analisis-data-upuler\n",
        "\n",
        "https://blog.rosihanari.net/tutorial-k-means-clustering-dengan-python \n",
        "\n",
        "https://towardsdatascience.com/three-oerformance-evaluation-metrics-of-clusterina-when-around-truth-labels-are-not-available-ee08cb3ff4fb\n",
        "\n",
        "https://towardsdatascience.com/performance-metrics-in-machine-learning:part-3-clustering-d69550662dc6\n",
        "\n",
        "https://socs.binus.ac.id/2017/03/09/clustering/\n",
        "\n",
        "https://www.dqlab.id/k-means-clustering-salah-satu-contoh-teknik-analisis-data-upuler"
      ],
      "metadata": {
        "id": "O7e4Cy7CidUD"
      }
    },
    {
      "cell_type": "markdown",
      "source": [
        "#Nama  : Miftahudin Faiz\n",
        "#NIM   : 20.11.3675\n",
        "#Kelas : 20-S1-IF-07"
      ],
      "metadata": {
        "id": "njU8xbjikAyo"
      }
    },
    {
      "cell_type": "markdown",
      "source": [
        "###Implementasi 2 - Mall Customer Segmentation"
      ],
      "metadata": {
        "id": "kwVrE5qxj7hR"
      }
    },
    {
      "cell_type": "markdown",
      "source": [
        "####1. Import Library"
      ],
      "metadata": {
        "id": "zosyRfumj7hS"
      }
    },
    {
      "cell_type": "code",
      "source": [
        "import numpy as np\n",
        "import pandas as pd\n",
        "\n",
        "# Visualization packages\n",
        "import matplotlib.pyplot as plt\n",
        "import seaborn as sns\n",
        "from sklearn.cluster import KMeans\n",
        "import warnings\n",
        "warnings.filterwarnings('ignore')\n",
        "\n",
        "# Determine number of clusters\n",
        "from sklearn.metrics import silhouette_score"
      ],
      "metadata": {
        "id": "JJd6AzWuj7hS"
      },
      "execution_count": 57,
      "outputs": []
    },
    {
      "cell_type": "markdown",
      "source": [
        "####2. Load Dataset"
      ],
      "metadata": {
        "id": "fipdjzq_j7hS"
      }
    },
    {
      "cell_type": "code",
      "source": [
        "#iris dataset\n",
        "from sklearn import datasets\n",
        "iris = datasets.load_iris()\n",
        "df = pd.DataFrame(data=iris.data, columns=iris.feature_names)\n",
        "df. head()"
      ],
      "metadata": {
        "colab": {
          "base_uri": "https://localhost:8080/",
          "height": 206
        },
        "outputId": "32fc2a63-d8ee-48bc-e5b1-3547a848f1ad",
        "id": "E3j9LTUJkMkY"
      },
      "execution_count": 117,
      "outputs": [
        {
          "output_type": "execute_result",
          "data": {
            "text/plain": [
              "   sepal length (cm)  sepal width (cm)  petal length (cm)  petal width (cm)\n",
              "0                5.1               3.5                1.4               0.2\n",
              "1                4.9               3.0                1.4               0.2\n",
              "2                4.7               3.2                1.3               0.2\n",
              "3                4.6               3.1                1.5               0.2\n",
              "4                5.0               3.6                1.4               0.2"
            ],
            "text/html": [
              "\n",
              "  <div id=\"df-16b95603-f318-4fb0-9286-2fae55620bb4\">\n",
              "    <div class=\"colab-df-container\">\n",
              "      <div>\n",
              "<style scoped>\n",
              "    .dataframe tbody tr th:only-of-type {\n",
              "        vertical-align: middle;\n",
              "    }\n",
              "\n",
              "    .dataframe tbody tr th {\n",
              "        vertical-align: top;\n",
              "    }\n",
              "\n",
              "    .dataframe thead th {\n",
              "        text-align: right;\n",
              "    }\n",
              "</style>\n",
              "<table border=\"1\" class=\"dataframe\">\n",
              "  <thead>\n",
              "    <tr style=\"text-align: right;\">\n",
              "      <th></th>\n",
              "      <th>sepal length (cm)</th>\n",
              "      <th>sepal width (cm)</th>\n",
              "      <th>petal length (cm)</th>\n",
              "      <th>petal width (cm)</th>\n",
              "    </tr>\n",
              "  </thead>\n",
              "  <tbody>\n",
              "    <tr>\n",
              "      <th>0</th>\n",
              "      <td>5.1</td>\n",
              "      <td>3.5</td>\n",
              "      <td>1.4</td>\n",
              "      <td>0.2</td>\n",
              "    </tr>\n",
              "    <tr>\n",
              "      <th>1</th>\n",
              "      <td>4.9</td>\n",
              "      <td>3.0</td>\n",
              "      <td>1.4</td>\n",
              "      <td>0.2</td>\n",
              "    </tr>\n",
              "    <tr>\n",
              "      <th>2</th>\n",
              "      <td>4.7</td>\n",
              "      <td>3.2</td>\n",
              "      <td>1.3</td>\n",
              "      <td>0.2</td>\n",
              "    </tr>\n",
              "    <tr>\n",
              "      <th>3</th>\n",
              "      <td>4.6</td>\n",
              "      <td>3.1</td>\n",
              "      <td>1.5</td>\n",
              "      <td>0.2</td>\n",
              "    </tr>\n",
              "    <tr>\n",
              "      <th>4</th>\n",
              "      <td>5.0</td>\n",
              "      <td>3.6</td>\n",
              "      <td>1.4</td>\n",
              "      <td>0.2</td>\n",
              "    </tr>\n",
              "  </tbody>\n",
              "</table>\n",
              "</div>\n",
              "      <button class=\"colab-df-convert\" onclick=\"convertToInteractive('df-16b95603-f318-4fb0-9286-2fae55620bb4')\"\n",
              "              title=\"Convert this dataframe to an interactive table.\"\n",
              "              style=\"display:none;\">\n",
              "        \n",
              "  <svg xmlns=\"http://www.w3.org/2000/svg\" height=\"24px\"viewBox=\"0 0 24 24\"\n",
              "       width=\"24px\">\n",
              "    <path d=\"M0 0h24v24H0V0z\" fill=\"none\"/>\n",
              "    <path d=\"M18.56 5.44l.94 2.06.94-2.06 2.06-.94-2.06-.94-.94-2.06-.94 2.06-2.06.94zm-11 1L8.5 8.5l.94-2.06 2.06-.94-2.06-.94L8.5 2.5l-.94 2.06-2.06.94zm10 10l.94 2.06.94-2.06 2.06-.94-2.06-.94-.94-2.06-.94 2.06-2.06.94z\"/><path d=\"M17.41 7.96l-1.37-1.37c-.4-.4-.92-.59-1.43-.59-.52 0-1.04.2-1.43.59L10.3 9.45l-7.72 7.72c-.78.78-.78 2.05 0 2.83L4 21.41c.39.39.9.59 1.41.59.51 0 1.02-.2 1.41-.59l7.78-7.78 2.81-2.81c.8-.78.8-2.07 0-2.86zM5.41 20L4 18.59l7.72-7.72 1.47 1.35L5.41 20z\"/>\n",
              "  </svg>\n",
              "      </button>\n",
              "      \n",
              "  <style>\n",
              "    .colab-df-container {\n",
              "      display:flex;\n",
              "      flex-wrap:wrap;\n",
              "      gap: 12px;\n",
              "    }\n",
              "\n",
              "    .colab-df-convert {\n",
              "      background-color: #E8F0FE;\n",
              "      border: none;\n",
              "      border-radius: 50%;\n",
              "      cursor: pointer;\n",
              "      display: none;\n",
              "      fill: #1967D2;\n",
              "      height: 32px;\n",
              "      padding: 0 0 0 0;\n",
              "      width: 32px;\n",
              "    }\n",
              "\n",
              "    .colab-df-convert:hover {\n",
              "      background-color: #E2EBFA;\n",
              "      box-shadow: 0px 1px 2px rgba(60, 64, 67, 0.3), 0px 1px 3px 1px rgba(60, 64, 67, 0.15);\n",
              "      fill: #174EA6;\n",
              "    }\n",
              "\n",
              "    [theme=dark] .colab-df-convert {\n",
              "      background-color: #3B4455;\n",
              "      fill: #D2E3FC;\n",
              "    }\n",
              "\n",
              "    [theme=dark] .colab-df-convert:hover {\n",
              "      background-color: #434B5C;\n",
              "      box-shadow: 0px 1px 3px 1px rgba(0, 0, 0, 0.15);\n",
              "      filter: drop-shadow(0px 1px 2px rgba(0, 0, 0, 0.3));\n",
              "      fill: #FFFFFF;\n",
              "    }\n",
              "  </style>\n",
              "\n",
              "      <script>\n",
              "        const buttonEl =\n",
              "          document.querySelector('#df-16b95603-f318-4fb0-9286-2fae55620bb4 button.colab-df-convert');\n",
              "        buttonEl.style.display =\n",
              "          google.colab.kernel.accessAllowed ? 'block' : 'none';\n",
              "\n",
              "        async function convertToInteractive(key) {\n",
              "          const element = document.querySelector('#df-16b95603-f318-4fb0-9286-2fae55620bb4');\n",
              "          const dataTable =\n",
              "            await google.colab.kernel.invokeFunction('convertToInteractive',\n",
              "                                                     [key], {});\n",
              "          if (!dataTable) return;\n",
              "\n",
              "          const docLinkHtml = 'Like what you see? Visit the ' +\n",
              "            '<a target=\"_blank\" href=https://colab.research.google.com/notebooks/data_table.ipynb>data table notebook</a>'\n",
              "            + ' to learn more about interactive tables.';\n",
              "          element.innerHTML = '';\n",
              "          dataTable['output_type'] = 'display_data';\n",
              "          await google.colab.output.renderOutput(dataTable, element);\n",
              "          const docLink = document.createElement('div');\n",
              "          docLink.innerHTML = docLinkHtml;\n",
              "          element.appendChild(docLink);\n",
              "        }\n",
              "      </script>\n",
              "    </div>\n",
              "  </div>\n",
              "  "
            ]
          },
          "metadata": {},
          "execution_count": 117
        }
      ]
    },
    {
      "cell_type": "markdown",
      "source": [
        "####3. EDA"
      ],
      "metadata": {
        "id": "zgsSeiRZj7hS"
      }
    },
    {
      "cell_type": "code",
      "source": [
        "df.head()"
      ],
      "metadata": {
        "colab": {
          "base_uri": "https://localhost:8080/",
          "height": 206
        },
        "outputId": "49236b29-d262-4603-b845-2098b8d201ef",
        "id": "pbYxt1eEj7hT"
      },
      "execution_count": 59,
      "outputs": [
        {
          "output_type": "execute_result",
          "data": {
            "text/plain": [
              "   sepal length (cm)  sepal width (cm)  petal length (cm)  petal width (cm)\n",
              "0                5.1               3.5                1.4               0.2\n",
              "1                4.9               3.0                1.4               0.2\n",
              "2                4.7               3.2                1.3               0.2\n",
              "3                4.6               3.1                1.5               0.2\n",
              "4                5.0               3.6                1.4               0.2"
            ],
            "text/html": [
              "\n",
              "  <div id=\"df-4abef918-651a-4a90-99f3-a974c8755b41\">\n",
              "    <div class=\"colab-df-container\">\n",
              "      <div>\n",
              "<style scoped>\n",
              "    .dataframe tbody tr th:only-of-type {\n",
              "        vertical-align: middle;\n",
              "    }\n",
              "\n",
              "    .dataframe tbody tr th {\n",
              "        vertical-align: top;\n",
              "    }\n",
              "\n",
              "    .dataframe thead th {\n",
              "        text-align: right;\n",
              "    }\n",
              "</style>\n",
              "<table border=\"1\" class=\"dataframe\">\n",
              "  <thead>\n",
              "    <tr style=\"text-align: right;\">\n",
              "      <th></th>\n",
              "      <th>sepal length (cm)</th>\n",
              "      <th>sepal width (cm)</th>\n",
              "      <th>petal length (cm)</th>\n",
              "      <th>petal width (cm)</th>\n",
              "    </tr>\n",
              "  </thead>\n",
              "  <tbody>\n",
              "    <tr>\n",
              "      <th>0</th>\n",
              "      <td>5.1</td>\n",
              "      <td>3.5</td>\n",
              "      <td>1.4</td>\n",
              "      <td>0.2</td>\n",
              "    </tr>\n",
              "    <tr>\n",
              "      <th>1</th>\n",
              "      <td>4.9</td>\n",
              "      <td>3.0</td>\n",
              "      <td>1.4</td>\n",
              "      <td>0.2</td>\n",
              "    </tr>\n",
              "    <tr>\n",
              "      <th>2</th>\n",
              "      <td>4.7</td>\n",
              "      <td>3.2</td>\n",
              "      <td>1.3</td>\n",
              "      <td>0.2</td>\n",
              "    </tr>\n",
              "    <tr>\n",
              "      <th>3</th>\n",
              "      <td>4.6</td>\n",
              "      <td>3.1</td>\n",
              "      <td>1.5</td>\n",
              "      <td>0.2</td>\n",
              "    </tr>\n",
              "    <tr>\n",
              "      <th>4</th>\n",
              "      <td>5.0</td>\n",
              "      <td>3.6</td>\n",
              "      <td>1.4</td>\n",
              "      <td>0.2</td>\n",
              "    </tr>\n",
              "  </tbody>\n",
              "</table>\n",
              "</div>\n",
              "      <button class=\"colab-df-convert\" onclick=\"convertToInteractive('df-4abef918-651a-4a90-99f3-a974c8755b41')\"\n",
              "              title=\"Convert this dataframe to an interactive table.\"\n",
              "              style=\"display:none;\">\n",
              "        \n",
              "  <svg xmlns=\"http://www.w3.org/2000/svg\" height=\"24px\"viewBox=\"0 0 24 24\"\n",
              "       width=\"24px\">\n",
              "    <path d=\"M0 0h24v24H0V0z\" fill=\"none\"/>\n",
              "    <path d=\"M18.56 5.44l.94 2.06.94-2.06 2.06-.94-2.06-.94-.94-2.06-.94 2.06-2.06.94zm-11 1L8.5 8.5l.94-2.06 2.06-.94-2.06-.94L8.5 2.5l-.94 2.06-2.06.94zm10 10l.94 2.06.94-2.06 2.06-.94-2.06-.94-.94-2.06-.94 2.06-2.06.94z\"/><path d=\"M17.41 7.96l-1.37-1.37c-.4-.4-.92-.59-1.43-.59-.52 0-1.04.2-1.43.59L10.3 9.45l-7.72 7.72c-.78.78-.78 2.05 0 2.83L4 21.41c.39.39.9.59 1.41.59.51 0 1.02-.2 1.41-.59l7.78-7.78 2.81-2.81c.8-.78.8-2.07 0-2.86zM5.41 20L4 18.59l7.72-7.72 1.47 1.35L5.41 20z\"/>\n",
              "  </svg>\n",
              "      </button>\n",
              "      \n",
              "  <style>\n",
              "    .colab-df-container {\n",
              "      display:flex;\n",
              "      flex-wrap:wrap;\n",
              "      gap: 12px;\n",
              "    }\n",
              "\n",
              "    .colab-df-convert {\n",
              "      background-color: #E8F0FE;\n",
              "      border: none;\n",
              "      border-radius: 50%;\n",
              "      cursor: pointer;\n",
              "      display: none;\n",
              "      fill: #1967D2;\n",
              "      height: 32px;\n",
              "      padding: 0 0 0 0;\n",
              "      width: 32px;\n",
              "    }\n",
              "\n",
              "    .colab-df-convert:hover {\n",
              "      background-color: #E2EBFA;\n",
              "      box-shadow: 0px 1px 2px rgba(60, 64, 67, 0.3), 0px 1px 3px 1px rgba(60, 64, 67, 0.15);\n",
              "      fill: #174EA6;\n",
              "    }\n",
              "\n",
              "    [theme=dark] .colab-df-convert {\n",
              "      background-color: #3B4455;\n",
              "      fill: #D2E3FC;\n",
              "    }\n",
              "\n",
              "    [theme=dark] .colab-df-convert:hover {\n",
              "      background-color: #434B5C;\n",
              "      box-shadow: 0px 1px 3px 1px rgba(0, 0, 0, 0.15);\n",
              "      filter: drop-shadow(0px 1px 2px rgba(0, 0, 0, 0.3));\n",
              "      fill: #FFFFFF;\n",
              "    }\n",
              "  </style>\n",
              "\n",
              "      <script>\n",
              "        const buttonEl =\n",
              "          document.querySelector('#df-4abef918-651a-4a90-99f3-a974c8755b41 button.colab-df-convert');\n",
              "        buttonEl.style.display =\n",
              "          google.colab.kernel.accessAllowed ? 'block' : 'none';\n",
              "\n",
              "        async function convertToInteractive(key) {\n",
              "          const element = document.querySelector('#df-4abef918-651a-4a90-99f3-a974c8755b41');\n",
              "          const dataTable =\n",
              "            await google.colab.kernel.invokeFunction('convertToInteractive',\n",
              "                                                     [key], {});\n",
              "          if (!dataTable) return;\n",
              "\n",
              "          const docLinkHtml = 'Like what you see? Visit the ' +\n",
              "            '<a target=\"_blank\" href=https://colab.research.google.com/notebooks/data_table.ipynb>data table notebook</a>'\n",
              "            + ' to learn more about interactive tables.';\n",
              "          element.innerHTML = '';\n",
              "          dataTable['output_type'] = 'display_data';\n",
              "          await google.colab.output.renderOutput(dataTable, element);\n",
              "          const docLink = document.createElement('div');\n",
              "          docLink.innerHTML = docLinkHtml;\n",
              "          element.appendChild(docLink);\n",
              "        }\n",
              "      </script>\n",
              "    </div>\n",
              "  </div>\n",
              "  "
            ]
          },
          "metadata": {},
          "execution_count": 59
        }
      ]
    },
    {
      "cell_type": "code",
      "source": [
        "df.info()"
      ],
      "metadata": {
        "colab": {
          "base_uri": "https://localhost:8080/"
        },
        "outputId": "065b7237-0cf2-44e8-aee4-aa902635ce81",
        "id": "Ur2G-5DRj7hT"
      },
      "execution_count": 60,
      "outputs": [
        {
          "output_type": "stream",
          "name": "stdout",
          "text": [
            "<class 'pandas.core.frame.DataFrame'>\n",
            "RangeIndex: 150 entries, 0 to 149\n",
            "Data columns (total 4 columns):\n",
            " #   Column             Non-Null Count  Dtype  \n",
            "---  ------             --------------  -----  \n",
            " 0   sepal length (cm)  150 non-null    float64\n",
            " 1   sepal width (cm)   150 non-null    float64\n",
            " 2   petal length (cm)  150 non-null    float64\n",
            " 3   petal width (cm)   150 non-null    float64\n",
            "dtypes: float64(4)\n",
            "memory usage: 4.8 KB\n"
          ]
        }
      ]
    },
    {
      "cell_type": "code",
      "source": [
        "df.describe()"
      ],
      "metadata": {
        "colab": {
          "base_uri": "https://localhost:8080/",
          "height": 300
        },
        "outputId": "105e43c8-d5e4-4e19-ca28-9b4bc111ece1",
        "id": "25LlG9edj7hT"
      },
      "execution_count": 61,
      "outputs": [
        {
          "output_type": "execute_result",
          "data": {
            "text/plain": [
              "       sepal length (cm)  sepal width (cm)  petal length (cm)  \\\n",
              "count         150.000000        150.000000         150.000000   \n",
              "mean            5.843333          3.057333           3.758000   \n",
              "std             0.828066          0.435866           1.765298   \n",
              "min             4.300000          2.000000           1.000000   \n",
              "25%             5.100000          2.800000           1.600000   \n",
              "50%             5.800000          3.000000           4.350000   \n",
              "75%             6.400000          3.300000           5.100000   \n",
              "max             7.900000          4.400000           6.900000   \n",
              "\n",
              "       petal width (cm)  \n",
              "count        150.000000  \n",
              "mean           1.199333  \n",
              "std            0.762238  \n",
              "min            0.100000  \n",
              "25%            0.300000  \n",
              "50%            1.300000  \n",
              "75%            1.800000  \n",
              "max            2.500000  "
            ],
            "text/html": [
              "\n",
              "  <div id=\"df-68b58c0e-fceb-4e95-a7b3-ecf7dc0c5635\">\n",
              "    <div class=\"colab-df-container\">\n",
              "      <div>\n",
              "<style scoped>\n",
              "    .dataframe tbody tr th:only-of-type {\n",
              "        vertical-align: middle;\n",
              "    }\n",
              "\n",
              "    .dataframe tbody tr th {\n",
              "        vertical-align: top;\n",
              "    }\n",
              "\n",
              "    .dataframe thead th {\n",
              "        text-align: right;\n",
              "    }\n",
              "</style>\n",
              "<table border=\"1\" class=\"dataframe\">\n",
              "  <thead>\n",
              "    <tr style=\"text-align: right;\">\n",
              "      <th></th>\n",
              "      <th>sepal length (cm)</th>\n",
              "      <th>sepal width (cm)</th>\n",
              "      <th>petal length (cm)</th>\n",
              "      <th>petal width (cm)</th>\n",
              "    </tr>\n",
              "  </thead>\n",
              "  <tbody>\n",
              "    <tr>\n",
              "      <th>count</th>\n",
              "      <td>150.000000</td>\n",
              "      <td>150.000000</td>\n",
              "      <td>150.000000</td>\n",
              "      <td>150.000000</td>\n",
              "    </tr>\n",
              "    <tr>\n",
              "      <th>mean</th>\n",
              "      <td>5.843333</td>\n",
              "      <td>3.057333</td>\n",
              "      <td>3.758000</td>\n",
              "      <td>1.199333</td>\n",
              "    </tr>\n",
              "    <tr>\n",
              "      <th>std</th>\n",
              "      <td>0.828066</td>\n",
              "      <td>0.435866</td>\n",
              "      <td>1.765298</td>\n",
              "      <td>0.762238</td>\n",
              "    </tr>\n",
              "    <tr>\n",
              "      <th>min</th>\n",
              "      <td>4.300000</td>\n",
              "      <td>2.000000</td>\n",
              "      <td>1.000000</td>\n",
              "      <td>0.100000</td>\n",
              "    </tr>\n",
              "    <tr>\n",
              "      <th>25%</th>\n",
              "      <td>5.100000</td>\n",
              "      <td>2.800000</td>\n",
              "      <td>1.600000</td>\n",
              "      <td>0.300000</td>\n",
              "    </tr>\n",
              "    <tr>\n",
              "      <th>50%</th>\n",
              "      <td>5.800000</td>\n",
              "      <td>3.000000</td>\n",
              "      <td>4.350000</td>\n",
              "      <td>1.300000</td>\n",
              "    </tr>\n",
              "    <tr>\n",
              "      <th>75%</th>\n",
              "      <td>6.400000</td>\n",
              "      <td>3.300000</td>\n",
              "      <td>5.100000</td>\n",
              "      <td>1.800000</td>\n",
              "    </tr>\n",
              "    <tr>\n",
              "      <th>max</th>\n",
              "      <td>7.900000</td>\n",
              "      <td>4.400000</td>\n",
              "      <td>6.900000</td>\n",
              "      <td>2.500000</td>\n",
              "    </tr>\n",
              "  </tbody>\n",
              "</table>\n",
              "</div>\n",
              "      <button class=\"colab-df-convert\" onclick=\"convertToInteractive('df-68b58c0e-fceb-4e95-a7b3-ecf7dc0c5635')\"\n",
              "              title=\"Convert this dataframe to an interactive table.\"\n",
              "              style=\"display:none;\">\n",
              "        \n",
              "  <svg xmlns=\"http://www.w3.org/2000/svg\" height=\"24px\"viewBox=\"0 0 24 24\"\n",
              "       width=\"24px\">\n",
              "    <path d=\"M0 0h24v24H0V0z\" fill=\"none\"/>\n",
              "    <path d=\"M18.56 5.44l.94 2.06.94-2.06 2.06-.94-2.06-.94-.94-2.06-.94 2.06-2.06.94zm-11 1L8.5 8.5l.94-2.06 2.06-.94-2.06-.94L8.5 2.5l-.94 2.06-2.06.94zm10 10l.94 2.06.94-2.06 2.06-.94-2.06-.94-.94-2.06-.94 2.06-2.06.94z\"/><path d=\"M17.41 7.96l-1.37-1.37c-.4-.4-.92-.59-1.43-.59-.52 0-1.04.2-1.43.59L10.3 9.45l-7.72 7.72c-.78.78-.78 2.05 0 2.83L4 21.41c.39.39.9.59 1.41.59.51 0 1.02-.2 1.41-.59l7.78-7.78 2.81-2.81c.8-.78.8-2.07 0-2.86zM5.41 20L4 18.59l7.72-7.72 1.47 1.35L5.41 20z\"/>\n",
              "  </svg>\n",
              "      </button>\n",
              "      \n",
              "  <style>\n",
              "    .colab-df-container {\n",
              "      display:flex;\n",
              "      flex-wrap:wrap;\n",
              "      gap: 12px;\n",
              "    }\n",
              "\n",
              "    .colab-df-convert {\n",
              "      background-color: #E8F0FE;\n",
              "      border: none;\n",
              "      border-radius: 50%;\n",
              "      cursor: pointer;\n",
              "      display: none;\n",
              "      fill: #1967D2;\n",
              "      height: 32px;\n",
              "      padding: 0 0 0 0;\n",
              "      width: 32px;\n",
              "    }\n",
              "\n",
              "    .colab-df-convert:hover {\n",
              "      background-color: #E2EBFA;\n",
              "      box-shadow: 0px 1px 2px rgba(60, 64, 67, 0.3), 0px 1px 3px 1px rgba(60, 64, 67, 0.15);\n",
              "      fill: #174EA6;\n",
              "    }\n",
              "\n",
              "    [theme=dark] .colab-df-convert {\n",
              "      background-color: #3B4455;\n",
              "      fill: #D2E3FC;\n",
              "    }\n",
              "\n",
              "    [theme=dark] .colab-df-convert:hover {\n",
              "      background-color: #434B5C;\n",
              "      box-shadow: 0px 1px 3px 1px rgba(0, 0, 0, 0.15);\n",
              "      filter: drop-shadow(0px 1px 2px rgba(0, 0, 0, 0.3));\n",
              "      fill: #FFFFFF;\n",
              "    }\n",
              "  </style>\n",
              "\n",
              "      <script>\n",
              "        const buttonEl =\n",
              "          document.querySelector('#df-68b58c0e-fceb-4e95-a7b3-ecf7dc0c5635 button.colab-df-convert');\n",
              "        buttonEl.style.display =\n",
              "          google.colab.kernel.accessAllowed ? 'block' : 'none';\n",
              "\n",
              "        async function convertToInteractive(key) {\n",
              "          const element = document.querySelector('#df-68b58c0e-fceb-4e95-a7b3-ecf7dc0c5635');\n",
              "          const dataTable =\n",
              "            await google.colab.kernel.invokeFunction('convertToInteractive',\n",
              "                                                     [key], {});\n",
              "          if (!dataTable) return;\n",
              "\n",
              "          const docLinkHtml = 'Like what you see? Visit the ' +\n",
              "            '<a target=\"_blank\" href=https://colab.research.google.com/notebooks/data_table.ipynb>data table notebook</a>'\n",
              "            + ' to learn more about interactive tables.';\n",
              "          element.innerHTML = '';\n",
              "          dataTable['output_type'] = 'display_data';\n",
              "          await google.colab.output.renderOutput(dataTable, element);\n",
              "          const docLink = document.createElement('div');\n",
              "          docLink.innerHTML = docLinkHtml;\n",
              "          element.appendChild(docLink);\n",
              "        }\n",
              "      </script>\n",
              "    </div>\n",
              "  </div>\n",
              "  "
            ]
          },
          "metadata": {},
          "execution_count": 61
        }
      ]
    },
    {
      "cell_type": "code",
      "source": [
        "plt.figure(figsize=(12, 9))\n",
        "plt.scatter(df['sepal length (cm)'], df['sepal width (cm)'], s=25, c = 'blue', label = 'sepal') #Point size is 25\n",
        "plt.scatter(df['petal length (cm)'], df['petal width (cm)'], s=25, c = 'orange', label = 'petal') #Point size is 25\n",
        "plt.title('Raw Data')\n",
        "plt.xlabel('Length')\n",
        "plt.ylabel('Width')\n",
        "plt.legend()\n",
        "plt.show()"
      ],
      "metadata": {
        "colab": {
          "base_uri": "https://localhost:8080/",
          "height": 616
        },
        "outputId": "74433f20-7d25-4c41-995c-01795621b9c7",
        "id": "koHO9RsPj7hT"
      },
      "execution_count": 69,
      "outputs": [
        {
          "output_type": "display_data",
          "data": {
            "text/plain": [
              "<Figure size 864x648 with 1 Axes>"
            ],
            "image/png": "[encoded data removed]"
          },
          "metadata": {}
        }
      ]
    },
    {
      "cell_type": "markdown",
      "source": [
        "####4. Data preprocessing"
      ],
      "metadata": {
        "id": "uwlb7igbj7hU"
      }
    },
    {
      "cell_type": "markdown",
      "source": [
        "#####Select Feature"
      ],
      "metadata": {
        "id": "RVUo6Mt_j7hU"
      }
    },
    {
      "cell_type": "code",
      "source": [
        "X1 = np.array(df.iloc[:, [0, 1]]) #untuk sepal"
      ],
      "metadata": {
        "id": "pTqoSPE8j7hU"
      },
      "execution_count": 118,
      "outputs": []
    },
    {
      "cell_type": "code",
      "source": [
        "X2 = np.array(df.iloc[:, [2, 3]]) #untuk petal"
      ],
      "metadata": {
        "id": "hz0ojs8Y0Vl1"
      },
      "execution_count": 119,
      "outputs": []
    },
    {
      "cell_type": "code",
      "source": [
        "X1 "
      ],
      "metadata": {
        "colab": {
          "base_uri": "https://localhost:8080/"
        },
        "outputId": "a676922a-f95f-475d-a767-0437753a49c1",
        "id": "ZFq6pfHOj7hU"
      },
      "execution_count": 106,
      "outputs": [
        {
          "output_type": "execute_result",
          "data": {
            "text/plain": [
              "array([[5.1, 3.5],\n",
              "       [4.9, 3. ],\n",
              "       [4.7, 3.2],\n",
              "       [4.6, 3.1],\n",
              "       [5. , 3.6],\n",
              "       [5.4, 3.9],\n",
              "       [4.6, 3.4],\n",
              "       [5. , 3.4],\n",
              "       [4.4, 2.9],\n",
              "       [4.9, 3.1],\n",
              "       [5.4, 3.7],\n",
              "       [4.8, 3.4],\n",
              "       [4.8, 3. ],\n",
              "       [4.3, 3. ],\n",
              "       [5.8, 4. ],\n",
              "       [5.7, 4.4],\n",
              "       [5.4, 3.9],\n",
              "       [5.1, 3.5],\n",
              "       [5.7, 3.8],\n",
              "       [5.1, 3.8],\n",
              "       [5.4, 3.4],\n",
              "       [5.1, 3.7],\n",
              "       [4.6, 3.6],\n",
              "       [5.1, 3.3],\n",
              "       [4.8, 3.4],\n",
              "       [5. , 3. ],\n",
              "       [5. , 3.4],\n",
              "       [5.2, 3.5],\n",
              "       [5.2, 3.4],\n",
              "       [4.7, 3.2],\n",
              "       [4.8, 3.1],\n",
              "       [5.4, 3.4],\n",
              "       [5.2, 4.1],\n",
              "       [5.5, 4.2],\n",
              "       [4.9, 3.1],\n",
              "       [5. , 3.2],\n",
              "       [5.5, 3.5],\n",
              "       [4.9, 3.6],\n",
              "       [4.4, 3. ],\n",
              "       [5.1, 3.4],\n",
              "       [5. , 3.5],\n",
              "       [4.5, 2.3],\n",
              "       [4.4, 3.2],\n",
              "       [5. , 3.5],\n",
              "       [5.1, 3.8],\n",
              "       [4.8, 3. ],\n",
              "       [5.1, 3.8],\n",
              "       [4.6, 3.2],\n",
              "       [5.3, 3.7],\n",
              "       [5. , 3.3],\n",
              "       [7. , 3.2],\n",
              "       [6.4, 3.2],\n",
              "       [6.9, 3.1],\n",
              "       [5.5, 2.3],\n",
              "       [6.5, 2.8],\n",
              "       [5.7, 2.8],\n",
              "       [6.3, 3.3],\n",
              "       [4.9, 2.4],\n",
              "       [6.6, 2.9],\n",
              "       [5.2, 2.7],\n",
              "       [5. , 2. ],\n",
              "       [5.9, 3. ],\n",
              "       [6. , 2.2],\n",
              "       [6.1, 2.9],\n",
              "       [5.6, 2.9],\n",
              "       [6.7, 3.1],\n",
              "       [5.6, 3. ],\n",
              "       [5.8, 2.7],\n",
              "       [6.2, 2.2],\n",
              "       [5.6, 2.5],\n",
              "       [5.9, 3.2],\n",
              "       [6.1, 2.8],\n",
              "       [6.3, 2.5],\n",
              "       [6.1, 2.8],\n",
              "       [6.4, 2.9],\n",
              "       [6.6, 3. ],\n",
              "       [6.8, 2.8],\n",
              "       [6.7, 3. ],\n",
              "       [6. , 2.9],\n",
              "       [5.7, 2.6],\n",
              "       [5.5, 2.4],\n",
              "       [5.5, 2.4],\n",
              "       [5.8, 2.7],\n",
              "       [6. , 2.7],\n",
              "       [5.4, 3. ],\n",
              "       [6. , 3.4],\n",
              "       [6.7, 3.1],\n",
              "       [6.3, 2.3],\n",
              "       [5.6, 3. ],\n",
              "       [5.5, 2.5],\n",
              "       [5.5, 2.6],\n",
              "       [6.1, 3. ],\n",
              "       [5.8, 2.6],\n",
              "       [5. , 2.3],\n",
              "       [5.6, 2.7],\n",
              "       [5.7, 3. ],\n",
              "       [5.7, 2.9],\n",
              "       [6.2, 2.9],\n",
              "       [5.1, 2.5],\n",
              "       [5.7, 2.8],\n",
              "       [6.3, 3.3],\n",
              "       [5.8, 2.7],\n",
              "       [7.1, 3. ],\n",
              "       [6.3, 2.9],\n",
              "       [6.5, 3. ],\n",
              "       [7.6, 3. ],\n",
              "       [4.9, 2.5],\n",
              "       [7.3, 2.9],\n",
              "       [6.7, 2.5],\n",
              "       [7.2, 3.6],\n",
              "       [6.5, 3.2],\n",
              "       [6.4, 2.7],\n",
              "       [6.8, 3. ],\n",
              "       [5.7, 2.5],\n",
              "       [5.8, 2.8],\n",
              "       [6.4, 3.2],\n",
              "       [6.5, 3. ],\n",
              "       [7.7, 3.8],\n",
              "       [7.7, 2.6],\n",
              "       [6. , 2.2],\n",
              "       [6.9, 3.2],\n",
              "       [5.6, 2.8],\n",
              "       [7.7, 2.8],\n",
              "       [6.3, 2.7],\n",
              "       [6.7, 3.3],\n",
              "       [7.2, 3.2],\n",
              "       [6.2, 2.8],\n",
              "       [6.1, 3. ],\n",
              "       [6.4, 2.8],\n",
              "       [7.2, 3. ],\n",
              "       [7.4, 2.8],\n",
              "       [7.9, 3.8],\n",
              "       [6.4, 2.8],\n",
              "       [6.3, 2.8],\n",
              "       [6.1, 2.6],\n",
              "       [7.7, 3. ],\n",
              "       [6.3, 3.4],\n",
              "       [6.4, 3.1],\n",
              "       [6. , 3. ],\n",
              "       [6.9, 3.1],\n",
              "       [6.7, 3.1],\n",
              "       [6.9, 3.1],\n",
              "       [5.8, 2.7],\n",
              "       [6.8, 3.2],\n",
              "       [6.7, 3.3],\n",
              "       [6.7, 3. ],\n",
              "       [6.3, 2.5],\n",
              "       [6.5, 3. ],\n",
              "       [6.2, 3.4],\n",
              "       [5.9, 3. ]])"
            ]
          },
          "metadata": {},
          "execution_count": 106
        }
      ]
    },
    {
      "cell_type": "code",
      "source": [
        "X2"
      ],
      "metadata": {
        "colab": {
          "base_uri": "https://localhost:8080/"
        },
        "id": "SuB8N7-L0z61",
        "outputId": "65900810-3719-4696-f66d-fd7629c57fab"
      },
      "execution_count": 107,
      "outputs": [
        {
          "output_type": "execute_result",
          "data": {
            "text/plain": [
              "array([[1.4, 0.2],\n",
              "       [1.4, 0.2],\n",
              "       [1.3, 0.2],\n",
              "       [1.5, 0.2],\n",
              "       [1.4, 0.2],\n",
              "       [1.7, 0.4],\n",
              "       [1.4, 0.3],\n",
              "       [1.5, 0.2],\n",
              "       [1.4, 0.2],\n",
              "       [1.5, 0.1],\n",
              "       [1.5, 0.2],\n",
              "       [1.6, 0.2],\n",
              "       [1.4, 0.1],\n",
              "       [1.1, 0.1],\n",
              "       [1.2, 0.2],\n",
              "       [1.5, 0.4],\n",
              "       [1.3, 0.4],\n",
              "       [1.4, 0.3],\n",
              "       [1.7, 0.3],\n",
              "       [1.5, 0.3],\n",
              "       [1.7, 0.2],\n",
              "       [1.5, 0.4],\n",
              "       [1. , 0.2],\n",
              "       [1.7, 0.5],\n",
              "       [1.9, 0.2],\n",
              "       [1.6, 0.2],\n",
              "       [1.6, 0.4],\n",
              "       [1.5, 0.2],\n",
              "       [1.4, 0.2],\n",
              "       [1.6, 0.2],\n",
              "       [1.6, 0.2],\n",
              "       [1.5, 0.4],\n",
              "       [1.5, 0.1],\n",
              "       [1.4, 0.2],\n",
              "       [1.5, 0.2],\n",
              "       [1.2, 0.2],\n",
              "       [1.3, 0.2],\n",
              "       [1.4, 0.1],\n",
              "       [1.3, 0.2],\n",
              "       [1.5, 0.2],\n",
              "       [1.3, 0.3],\n",
              "       [1.3, 0.3],\n",
              "       [1.3, 0.2],\n",
              "       [1.6, 0.6],\n",
              "       [1.9, 0.4],\n",
              "       [1.4, 0.3],\n",
              "       [1.6, 0.2],\n",
              "       [1.4, 0.2],\n",
              "       [1.5, 0.2],\n",
              "       [1.4, 0.2],\n",
              "       [4.7, 1.4],\n",
              "       [4.5, 1.5],\n",
              "       [4.9, 1.5],\n",
              "       [4. , 1.3],\n",
              "       [4.6, 1.5],\n",
              "       [4.5, 1.3],\n",
              "       [4.7, 1.6],\n",
              "       [3.3, 1. ],\n",
              "       [4.6, 1.3],\n",
              "       [3.9, 1.4],\n",
              "       [3.5, 1. ],\n",
              "       [4.2, 1.5],\n",
              "       [4. , 1. ],\n",
              "       [4.7, 1.4],\n",
              "       [3.6, 1.3],\n",
              "       [4.4, 1.4],\n",
              "       [4.5, 1.5],\n",
              "       [4.1, 1. ],\n",
              "       [4.5, 1.5],\n",
              "       [3.9, 1.1],\n",
              "       [4.8, 1.8],\n",
              "       [4. , 1.3],\n",
              "       [4.9, 1.5],\n",
              "       [4.7, 1.2],\n",
              "       [4.3, 1.3],\n",
              "       [4.4, 1.4],\n",
              "       [4.8, 1.4],\n",
              "       [5. , 1.7],\n",
              "       [4.5, 1.5],\n",
              "       [3.5, 1. ],\n",
              "       [3.8, 1.1],\n",
              "       [3.7, 1. ],\n",
              "       [3.9, 1.2],\n",
              "       [5.1, 1.6],\n",
              "       [4.5, 1.5],\n",
              "       [4.5, 1.6],\n",
              "       [4.7, 1.5],\n",
              "       [4.4, 1.3],\n",
              "       [4.1, 1.3],\n",
              "       [4. , 1.3],\n",
              "       [4.4, 1.2],\n",
              "       [4.6, 1.4],\n",
              "       [4. , 1.2],\n",
              "       [3.3, 1. ],\n",
              "       [4.2, 1.3],\n",
              "       [4.2, 1.2],\n",
              "       [4.2, 1.3],\n",
              "       [4.3, 1.3],\n",
              "       [3. , 1.1],\n",
              "       [4.1, 1.3],\n",
              "       [6. , 2.5],\n",
              "       [5.1, 1.9],\n",
              "       [5.9, 2.1],\n",
              "       [5.6, 1.8],\n",
              "       [5.8, 2.2],\n",
              "       [6.6, 2.1],\n",
              "       [4.5, 1.7],\n",
              "       [6.3, 1.8],\n",
              "       [5.8, 1.8],\n",
              "       [6.1, 2.5],\n",
              "       [5.1, 2. ],\n",
              "       [5.3, 1.9],\n",
              "       [5.5, 2.1],\n",
              "       [5. , 2. ],\n",
              "       [5.1, 2.4],\n",
              "       [5.3, 2.3],\n",
              "       [5.5, 1.8],\n",
              "       [6.7, 2.2],\n",
              "       [6.9, 2.3],\n",
              "       [5. , 1.5],\n",
              "       [5.7, 2.3],\n",
              "       [4.9, 2. ],\n",
              "       [6.7, 2. ],\n",
              "       [4.9, 1.8],\n",
              "       [5.7, 2.1],\n",
              "       [6. , 1.8],\n",
              "       [4.8, 1.8],\n",
              "       [4.9, 1.8],\n",
              "       [5.6, 2.1],\n",
              "       [5.8, 1.6],\n",
              "       [6.1, 1.9],\n",
              "       [6.4, 2. ],\n",
              "       [5.6, 2.2],\n",
              "       [5.1, 1.5],\n",
              "       [5.6, 1.4],\n",
              "       [6.1, 2.3],\n",
              "       [5.6, 2.4],\n",
              "       [5.5, 1.8],\n",
              "       [4.8, 1.8],\n",
              "       [5.4, 2.1],\n",
              "       [5.6, 2.4],\n",
              "       [5.1, 2.3],\n",
              "       [5.1, 1.9],\n",
              "       [5.9, 2.3],\n",
              "       [5.7, 2.5],\n",
              "       [5.2, 2.3],\n",
              "       [5. , 1.9],\n",
              "       [5.2, 2. ],\n",
              "       [5.4, 2.3],\n",
              "       [5.1, 1.8]])"
            ]
          },
          "metadata": {},
          "execution_count": 107
        }
      ]
    },
    {
      "cell_type": "markdown",
      "source": [
        "#####Determine Number of Clusters"
      ],
      "metadata": {
        "id": "KKUq1Sh6j7hU"
      }
    },
    {
      "cell_type": "markdown",
      "source": [
        "######Method 1 - Elbow Method"
      ],
      "metadata": {
        "id": "UkGl72CFj7hV"
      }
    },
    {
      "cell_type": "markdown",
      "source": [
        "Di sini saya menggunakan Sepal"
      ],
      "metadata": {
        "id": "e_3IkQYy08EG"
      }
    },
    {
      "cell_type": "code",
      "source": [
        "wcss = []\n",
        "for i in range(1, 11) :\n",
        "  kmeans = KMeans(n_clusters=i, init='k-means++', max_iter=300, n_init=10, random_state=0)\n",
        "  kmeans.fit(X1)\n",
        "  wcss.append(kmeans.inertia_)\n",
        "plt.plot(range(1, 11), wcss)\n",
        "plt.title('Elbow Method')\n",
        "plt.xlabel(' Number of clusters')\n",
        "plt.ylabel('WCSS')\n",
        "plt.show()"
      ],
      "metadata": {
        "colab": {
          "base_uri": "https://localhost:8080/",
          "height": 325
        },
        "outputId": "8a903a19-67fc-4fd2-af12-dfe6bff7b882",
        "id": "4pqzlRq9j7hV"
      },
      "execution_count": 120,
      "outputs": [
        {
          "output_type": "display_data",
          "data": {
            "text/plain": [
              "<Figure size 432x288 with 1 Axes>"
            ],
            "image/png": "[encoded data removed]"
          },
          "metadata": {}
        }
      ]
    },
    {
      "cell_type": "markdown",
      "source": [
        "######Method 2 - Silhouette Coefficient"
      ],
      "metadata": {
        "id": "I1c66j0Dj7hV"
      }
    },
    {
      "cell_type": "code",
      "source": [
        "# A list holds the silhouette coefficients for each k\n",
        "silhouette_coefficients = []\n",
        "# Notice you start at 2 clusters for silhouette coefficient \n",
        "for k in range(2, 11):\n",
        "  kmeans = KMeans(n_clusters=k, init='k-means++', max_iter=300, n_init=10, random_state=0)\n",
        "  kmeans.fit(X1)\n",
        "  score = silhouette_score(X1, kmeans.labels_)\n",
        "  silhouette_coefficients.append(score)\n",
        "\n",
        "plt.style.use(\"fivethirtyeight\")\n",
        "plt.plot(range(2, 11), silhouette_coefficients)\n",
        "plt.xticks(range(2, 11))\n",
        "plt.xlabel(\"Number of Clusters\")\n",
        "plt.ylabel(\"Silhouette Coefficient\")\n",
        "plt.show()"
      ],
      "metadata": {
        "colab": {
          "base_uri": "https://localhost:8080/",
          "height": 304
        },
        "outputId": "f42669f4-89b9-4de5-ec40-d263b22d4cfe",
        "id": "lEjX6uPlj7hV"
      },
      "execution_count": 121,
      "outputs": [
        {
          "output_type": "display_data",
          "data": {
            "text/plain": [
              "<Figure size 432x288 with 1 Axes>"
            ],
            "image/png": "[encoded data removed]"
          },
          "metadata": {}
        }
      ]
    },
    {
      "cell_type": "markdown",
      "source": [
        "#####5. Create Cluster"
      ],
      "metadata": {
        "id": "vULEnpdOj7hW"
      }
    },
    {
      "cell_type": "code",
      "source": [
        "kmeans = KMeans(n_clusters=5, max_iter=500, n_init=10, random_state=0)\n",
        "kmeans_preds = kmeans.fit_predict(X1)"
      ],
      "metadata": {
        "id": "KqmCFT9aj7hW"
      },
      "execution_count": 122,
      "outputs": []
    },
    {
      "cell_type": "code",
      "source": [
        "#predict result\n",
        "kmeans_preds"
      ],
      "metadata": {
        "colab": {
          "base_uri": "https://localhost:8080/"
        },
        "outputId": "2e5b98a3-eb53-47a4-8240-17d6f34735a8",
        "id": "FbFc28lMj7hW"
      },
      "execution_count": 123,
      "outputs": [
        {
          "output_type": "execute_result",
          "data": {
            "text/plain": [
              "array([4, 0, 0, 0, 4, 4, 0, 4, 0, 0, 4, 4, 0, 0, 4, 4, 4, 4, 4, 4, 4, 4,\n",
              "       4, 4, 4, 0, 4, 4, 4, 0, 0, 4, 4, 4, 0, 0, 4, 4, 0, 4, 4, 0, 0, 4,\n",
              "       4, 0, 4, 0, 4, 4, 3, 3, 3, 1, 3, 1, 3, 0, 3, 0, 0, 1, 1, 1, 1, 3,\n",
              "       1, 1, 1, 1, 1, 1, 1, 1, 3, 3, 3, 3, 1, 1, 1, 1, 1, 1, 1, 3, 3, 1,\n",
              "       1, 1, 1, 1, 1, 0, 1, 1, 1, 1, 0, 1, 3, 1, 2, 3, 3, 2, 0, 2, 3, 2,\n",
              "       3, 3, 3, 1, 1, 3, 3, 2, 2, 1, 3, 1, 2, 1, 3, 2, 1, 1, 3, 2, 2, 2,\n",
              "       3, 3, 1, 2, 3, 3, 1, 3, 3, 3, 1, 3, 3, 3, 1, 3, 3, 1], dtype=int32)"
            ]
          },
          "metadata": {},
          "execution_count": 123
        }
      ]
    },
    {
      "cell_type": "markdown",
      "source": [
        "#####6. Show Cluster"
      ],
      "metadata": {
        "id": "gPa48YTbj7hW"
      }
    },
    {
      "cell_type": "code",
      "source": [
        "point_size = 25\n",
        "colors = ['red', 'blue' ,'green', 'cyan', 'magenta']\n",
        "labels = ['Careful ', 'Standard', 'Target', 'Careless', 'Sensible']\n",
        "plt.figure(figsize = (12,9))\n",
        "for i in range(5):\n",
        "  plt.scatter(X1[kmeans_preds == i, 0], X1[kmeans_preds == i, 1], s = point_size, c = colors[i], label = labels[i])\n",
        "plt.scatter(kmeans.cluster_centers_[:, 0], kmeans.cluster_centers_[:, 1], s = 200, c = 'orange', label = 'Centroids')\n",
        "plt.title('Clusters of Clients')\n",
        "plt.xlabel('sepal length')\n",
        "plt.ylabel('sepal width')\n",
        "plt.legend(loc = 'best')\n",
        "plt.show()"
      ],
      "metadata": {
        "colab": {
          "base_uri": "https://localhost:8080/",
          "height": 616
        },
        "outputId": "d01d73a2-dff5-4c48-8b12-fcc5a1144d28",
        "id": "XPr2Voksj7hW"
      },
      "execution_count": 124,
      "outputs": [
        {
          "output_type": "display_data",
          "data": {
            "text/plain": [
              "<Figure size 864x648 with 1 Axes>"
            ],
            "image/png": "[encoded data removed]"
          },
          "metadata": {}
        }
      ]
    },
    {
      "cell_type": "code",
      "source": [
        "#menambahkan hasil clustering ke dalam dataframe\n",
        "df['Cluster'] = kmeans_preds\n",
        "df.head()"
      ],
      "metadata": {
        "colab": {
          "base_uri": "https://localhost:8080/",
          "height": 206
        },
        "outputId": "68672f7d-d422-4f4b-9603-ebfd9bc620a8",
        "id": "DC5A1UQZj7hX"
      },
      "execution_count": 125,
      "outputs": [
        {
          "output_type": "execute_result",
          "data": {
            "text/plain": [
              "   sepal length (cm)  sepal width (cm)  petal length (cm)  petal width (cm)  \\\n",
              "0                5.1               3.5                1.4               0.2   \n",
              "1                4.9               3.0                1.4               0.2   \n",
              "2                4.7               3.2                1.3               0.2   \n",
              "3                4.6               3.1                1.5               0.2   \n",
              "4                5.0               3.6                1.4               0.2   \n",
              "\n",
              "   Cluster  \n",
              "0        4  \n",
              "1        0  \n",
              "2        0  \n",
              "3        0  \n",
              "4        4  "
            ],
            "text/html": [
              "\n",
              "  <div id=\"df-7914e50d-446c-4ccc-b009-e4b7638e4fda\">\n",
              "    <div class=\"colab-df-container\">\n",
              "      <div>\n",
              "<style scoped>\n",
              "    .dataframe tbody tr th:only-of-type {\n",
              "        vertical-align: middle;\n",
              "    }\n",
              "\n",
              "    .dataframe tbody tr th {\n",
              "        vertical-align: top;\n",
              "    }\n",
              "\n",
              "    .dataframe thead th {\n",
              "        text-align: right;\n",
              "    }\n",
              "</style>\n",
              "<table border=\"1\" class=\"dataframe\">\n",
              "  <thead>\n",
              "    <tr style=\"text-align: right;\">\n",
              "      <th></th>\n",
              "      <th>sepal length (cm)</th>\n",
              "      <th>sepal width (cm)</th>\n",
              "      <th>petal length (cm)</th>\n",
              "      <th>petal width (cm)</th>\n",
              "      <th>Cluster</th>\n",
              "    </tr>\n",
              "  </thead>\n",
              "  <tbody>\n",
              "    <tr>\n",
              "      <th>0</th>\n",
              "      <td>5.1</td>\n",
              "      <td>3.5</td>\n",
              "      <td>1.4</td>\n",
              "      <td>0.2</td>\n",
              "      <td>4</td>\n",
              "    </tr>\n",
              "    <tr>\n",
              "      <th>1</th>\n",
              "      <td>4.9</td>\n",
              "      <td>3.0</td>\n",
              "      <td>1.4</td>\n",
              "      <td>0.2</td>\n",
              "      <td>0</td>\n",
              "    </tr>\n",
              "    <tr>\n",
              "      <th>2</th>\n",
              "      <td>4.7</td>\n",
              "      <td>3.2</td>\n",
              "      <td>1.3</td>\n",
              "      <td>0.2</td>\n",
              "      <td>0</td>\n",
              "    </tr>\n",
              "    <tr>\n",
              "      <th>3</th>\n",
              "      <td>4.6</td>\n",
              "      <td>3.1</td>\n",
              "      <td>1.5</td>\n",
              "      <td>0.2</td>\n",
              "      <td>0</td>\n",
              "    </tr>\n",
              "    <tr>\n",
              "      <th>4</th>\n",
              "      <td>5.0</td>\n",
              "      <td>3.6</td>\n",
              "      <td>1.4</td>\n",
              "      <td>0.2</td>\n",
              "      <td>4</td>\n",
              "    </tr>\n",
              "  </tbody>\n",
              "</table>\n",
              "</div>\n",
              "      <button class=\"colab-df-convert\" onclick=\"convertToInteractive('df-7914e50d-446c-4ccc-b009-e4b7638e4fda')\"\n",
              "              title=\"Convert this dataframe to an interactive table.\"\n",
              "              style=\"display:none;\">\n",
              "        \n",
              "  <svg xmlns=\"http://www.w3.org/2000/svg\" height=\"24px\"viewBox=\"0 0 24 24\"\n",
              "       width=\"24px\">\n",
              "    <path d=\"M0 0h24v24H0V0z\" fill=\"none\"/>\n",
              "    <path d=\"M18.56 5.44l.94 2.06.94-2.06 2.06-.94-2.06-.94-.94-2.06-.94 2.06-2.06.94zm-11 1L8.5 8.5l.94-2.06 2.06-.94-2.06-.94L8.5 2.5l-.94 2.06-2.06.94zm10 10l.94 2.06.94-2.06 2.06-.94-2.06-.94-.94-2.06-.94 2.06-2.06.94z\"/><path d=\"M17.41 7.96l-1.37-1.37c-.4-.4-.92-.59-1.43-.59-.52 0-1.04.2-1.43.59L10.3 9.45l-7.72 7.72c-.78.78-.78 2.05 0 2.83L4 21.41c.39.39.9.59 1.41.59.51 0 1.02-.2 1.41-.59l7.78-7.78 2.81-2.81c.8-.78.8-2.07 0-2.86zM5.41 20L4 18.59l7.72-7.72 1.47 1.35L5.41 20z\"/>\n",
              "  </svg>\n",
              "      </button>\n",
              "      \n",
              "  <style>\n",
              "    .colab-df-container {\n",
              "      display:flex;\n",
              "      flex-wrap:wrap;\n",
              "      gap: 12px;\n",
              "    }\n",
              "\n",
              "    .colab-df-convert {\n",
              "      background-color: #E8F0FE;\n",
              "      border: none;\n",
              "      border-radius: 50%;\n",
              "      cursor: pointer;\n",
              "      display: none;\n",
              "      fill: #1967D2;\n",
              "      height: 32px;\n",
              "      padding: 0 0 0 0;\n",
              "      width: 32px;\n",
              "    }\n",
              "\n",
              "    .colab-df-convert:hover {\n",
              "      background-color: #E2EBFA;\n",
              "      box-shadow: 0px 1px 2px rgba(60, 64, 67, 0.3), 0px 1px 3px 1px rgba(60, 64, 67, 0.15);\n",
              "      fill: #174EA6;\n",
              "    }\n",
              "\n",
              "    [theme=dark] .colab-df-convert {\n",
              "      background-color: #3B4455;\n",
              "      fill: #D2E3FC;\n",
              "    }\n",
              "\n",
              "    [theme=dark] .colab-df-convert:hover {\n",
              "      background-color: #434B5C;\n",
              "      box-shadow: 0px 1px 3px 1px rgba(0, 0, 0, 0.15);\n",
              "      filter: drop-shadow(0px 1px 2px rgba(0, 0, 0, 0.3));\n",
              "      fill: #FFFFFF;\n",
              "    }\n",
              "  </style>\n",
              "\n",
              "      <script>\n",
              "        const buttonEl =\n",
              "          document.querySelector('#df-7914e50d-446c-4ccc-b009-e4b7638e4fda button.colab-df-convert');\n",
              "        buttonEl.style.display =\n",
              "          google.colab.kernel.accessAllowed ? 'block' : 'none';\n",
              "\n",
              "        async function convertToInteractive(key) {\n",
              "          const element = document.querySelector('#df-7914e50d-446c-4ccc-b009-e4b7638e4fda');\n",
              "          const dataTable =\n",
              "            await google.colab.kernel.invokeFunction('convertToInteractive',\n",
              "                                                     [key], {});\n",
              "          if (!dataTable) return;\n",
              "\n",
              "          const docLinkHtml = 'Like what you see? Visit the ' +\n",
              "            '<a target=\"_blank\" href=https://colab.research.google.com/notebooks/data_table.ipynb>data table notebook</a>'\n",
              "            + ' to learn more about interactive tables.';\n",
              "          element.innerHTML = '';\n",
              "          dataTable['output_type'] = 'display_data';\n",
              "          await google.colab.output.renderOutput(dataTable, element);\n",
              "          const docLink = document.createElement('div');\n",
              "          docLink.innerHTML = docLinkHtml;\n",
              "          element.appendChild(docLink);\n",
              "        }\n",
              "      </script>\n",
              "    </div>\n",
              "  </div>\n",
              "  "
            ]
          },
          "metadata": {},
          "execution_count": 125
        }
      ]
    },
    {
      "cell_type": "code",
      "source": [
        "df.groupby(['Cluster'])['Cluster'].count()"
      ],
      "metadata": {
        "colab": {
          "base_uri": "https://localhost:8080/"
        },
        "outputId": "0940995b-2415-4469-c6b7-7a7029ec2f5e",
        "id": "QZKBUeFvj7hX"
      },
      "execution_count": 126,
      "outputs": [
        {
          "output_type": "execute_result",
          "data": {
            "text/plain": [
              "Cluster\n",
              "0    24\n",
              "1    45\n",
              "2    12\n",
              "3    37\n",
              "4    32\n",
              "Name: Cluster, dtype: int64"
            ]
          },
          "metadata": {},
          "execution_count": 126
        }
      ]
    },
    {
      "cell_type": "code",
      "source": [
        "#menampilkan cluster tertentu\n",
        "df.loc[df['Cluster'] == 1].head()"
      ],
      "metadata": {
        "colab": {
          "base_uri": "https://localhost:8080/",
          "height": 206
        },
        "outputId": "c5c957af-a15d-4e74-8942-8875f13dd9a5",
        "id": "Afo-Up0gj7hX"
      },
      "execution_count": 127,
      "outputs": [
        {
          "output_type": "execute_result",
          "data": {
            "text/plain": [
              "    sepal length (cm)  sepal width (cm)  petal length (cm)  petal width (cm)  \\\n",
              "53                5.5               2.3                4.0               1.3   \n",
              "55                5.7               2.8                4.5               1.3   \n",
              "61                5.9               3.0                4.2               1.5   \n",
              "62                6.0               2.2                4.0               1.0   \n",
              "63                6.1               2.9                4.7               1.4   \n",
              "\n",
              "    Cluster  \n",
              "53        1  \n",
              "55        1  \n",
              "61        1  \n",
              "62        1  \n",
              "63        1  "
            ],
            "text/html": [
              "\n",
              "  <div id=\"df-ff6efea1-d8a5-4e6b-94ed-7ba0010c14b0\">\n",
              "    <div class=\"colab-df-container\">\n",
              "      <div>\n",
              "<style scoped>\n",
              "    .dataframe tbody tr th:only-of-type {\n",
              "        vertical-align: middle;\n",
              "    }\n",
              "\n",
              "    .dataframe tbody tr th {\n",
              "        vertical-align: top;\n",
              "    }\n",
              "\n",
              "    .dataframe thead th {\n",
              "        text-align: right;\n",
              "    }\n",
              "</style>\n",
              "<table border=\"1\" class=\"dataframe\">\n",
              "  <thead>\n",
              "    <tr style=\"text-align: right;\">\n",
              "      <th></th>\n",
              "      <th>sepal length (cm)</th>\n",
              "      <th>sepal width (cm)</th>\n",
              "      <th>petal length (cm)</th>\n",
              "      <th>petal width (cm)</th>\n",
              "      <th>Cluster</th>\n",
              "    </tr>\n",
              "  </thead>\n",
              "  <tbody>\n",
              "    <tr>\n",
              "      <th>53</th>\n",
              "      <td>5.5</td>\n",
              "      <td>2.3</td>\n",
              "      <td>4.0</td>\n",
              "      <td>1.3</td>\n",
              "      <td>1</td>\n",
              "    </tr>\n",
              "    <tr>\n",
              "      <th>55</th>\n",
              "      <td>5.7</td>\n",
              "      <td>2.8</td>\n",
              "      <td>4.5</td>\n",
              "      <td>1.3</td>\n",
              "      <td>1</td>\n",
              "    </tr>\n",
              "    <tr>\n",
              "      <th>61</th>\n",
              "      <td>5.9</td>\n",
              "      <td>3.0</td>\n",
              "      <td>4.2</td>\n",
              "      <td>1.5</td>\n",
              "      <td>1</td>\n",
              "    </tr>\n",
              "    <tr>\n",
              "      <th>62</th>\n",
              "      <td>6.0</td>\n",
              "      <td>2.2</td>\n",
              "      <td>4.0</td>\n",
              "      <td>1.0</td>\n",
              "      <td>1</td>\n",
              "    </tr>\n",
              "    <tr>\n",
              "      <th>63</th>\n",
              "      <td>6.1</td>\n",
              "      <td>2.9</td>\n",
              "      <td>4.7</td>\n",
              "      <td>1.4</td>\n",
              "      <td>1</td>\n",
              "    </tr>\n",
              "  </tbody>\n",
              "</table>\n",
              "</div>\n",
              "      <button class=\"colab-df-convert\" onclick=\"convertToInteractive('df-ff6efea1-d8a5-4e6b-94ed-7ba0010c14b0')\"\n",
              "              title=\"Convert this dataframe to an interactive table.\"\n",
              "              style=\"display:none;\">\n",
              "        \n",
              "  <svg xmlns=\"http://www.w3.org/2000/svg\" height=\"24px\"viewBox=\"0 0 24 24\"\n",
              "       width=\"24px\">\n",
              "    <path d=\"M0 0h24v24H0V0z\" fill=\"none\"/>\n",
              "    <path d=\"M18.56 5.44l.94 2.06.94-2.06 2.06-.94-2.06-.94-.94-2.06-.94 2.06-2.06.94zm-11 1L8.5 8.5l.94-2.06 2.06-.94-2.06-.94L8.5 2.5l-.94 2.06-2.06.94zm10 10l.94 2.06.94-2.06 2.06-.94-2.06-.94-.94-2.06-.94 2.06-2.06.94z\"/><path d=\"M17.41 7.96l-1.37-1.37c-.4-.4-.92-.59-1.43-.59-.52 0-1.04.2-1.43.59L10.3 9.45l-7.72 7.72c-.78.78-.78 2.05 0 2.83L4 21.41c.39.39.9.59 1.41.59.51 0 1.02-.2 1.41-.59l7.78-7.78 2.81-2.81c.8-.78.8-2.07 0-2.86zM5.41 20L4 18.59l7.72-7.72 1.47 1.35L5.41 20z\"/>\n",
              "  </svg>\n",
              "      </button>\n",
              "      \n",
              "  <style>\n",
              "    .colab-df-container {\n",
              "      display:flex;\n",
              "      flex-wrap:wrap;\n",
              "      gap: 12px;\n",
              "    }\n",
              "\n",
              "    .colab-df-convert {\n",
              "      background-color: #E8F0FE;\n",
              "      border: none;\n",
              "      border-radius: 50%;\n",
              "      cursor: pointer;\n",
              "      display: none;\n",
              "      fill: #1967D2;\n",
              "      height: 32px;\n",
              "      padding: 0 0 0 0;\n",
              "      width: 32px;\n",
              "    }\n",
              "\n",
              "    .colab-df-convert:hover {\n",
              "      background-color: #E2EBFA;\n",
              "      box-shadow: 0px 1px 2px rgba(60, 64, 67, 0.3), 0px 1px 3px 1px rgba(60, 64, 67, 0.15);\n",
              "      fill: #174EA6;\n",
              "    }\n",
              "\n",
              "    [theme=dark] .colab-df-convert {\n",
              "      background-color: #3B4455;\n",
              "      fill: #D2E3FC;\n",
              "    }\n",
              "\n",
              "    [theme=dark] .colab-df-convert:hover {\n",
              "      background-color: #434B5C;\n",
              "      box-shadow: 0px 1px 3px 1px rgba(0, 0, 0, 0.15);\n",
              "      filter: drop-shadow(0px 1px 2px rgba(0, 0, 0, 0.3));\n",
              "      fill: #FFFFFF;\n",
              "    }\n",
              "  </style>\n",
              "\n",
              "      <script>\n",
              "        const buttonEl =\n",
              "          document.querySelector('#df-ff6efea1-d8a5-4e6b-94ed-7ba0010c14b0 button.colab-df-convert');\n",
              "        buttonEl.style.display =\n",
              "          google.colab.kernel.accessAllowed ? 'block' : 'none';\n",
              "\n",
              "        async function convertToInteractive(key) {\n",
              "          const element = document.querySelector('#df-ff6efea1-d8a5-4e6b-94ed-7ba0010c14b0');\n",
              "          const dataTable =\n",
              "            await google.colab.kernel.invokeFunction('convertToInteractive',\n",
              "                                                     [key], {});\n",
              "          if (!dataTable) return;\n",
              "\n",
              "          const docLinkHtml = 'Like what you see? Visit the ' +\n",
              "            '<a target=\"_blank\" href=https://colab.research.google.com/notebooks/data_table.ipynb>data table notebook</a>'\n",
              "            + ' to learn more about interactive tables.';\n",
              "          element.innerHTML = '';\n",
              "          dataTable['output_type'] = 'display_data';\n",
              "          await google.colab.output.renderOutput(dataTable, element);\n",
              "          const docLink = document.createElement('div');\n",
              "          docLink.innerHTML = docLinkHtml;\n",
              "          element.appendChild(docLink);\n",
              "        }\n",
              "      </script>\n",
              "    </div>\n",
              "  </div>\n",
              "  "
            ]
          },
          "metadata": {},
          "execution_count": 127
        }
      ]
    },
    {
      "cell_type": "code",
      "source": [
        "#predict one data\n",
        "print(kmeans.predict([[5.7, 2.8]]))"
      ],
      "metadata": {
        "colab": {
          "base_uri": "https://localhost:8080/"
        },
        "outputId": "baf8eb56-e162-4483-a313-d25a11f01ba1",
        "id": "myNDPGC9j7hX"
      },
      "execution_count": 128,
      "outputs": [
        {
          "output_type": "stream",
          "name": "stdout",
          "text": [
            "[1]\n"
          ]
        }
      ]
    },
    {
      "cell_type": "markdown",
      "source": [
        "###Implementasi 3 - Multi Features Clustering"
      ],
      "metadata": {
        "id": "PMXzPHF0j7hX"
      }
    },
    {
      "cell_type": "markdown",
      "source": [
        "Menggunakan dataset yang sama, '**Mall_Customers.csv**', run ulang bagian '**Import Library**' dan '**Load Dataset**' pada '**Implementasl 2 - Mall Customer Segmentation**' apabila runtime habis"
      ],
      "metadata": {
        "id": "WIW_hYOsj7hY"
      }
    },
    {
      "cell_type": "markdown",
      "source": [
        "####1. Import Library"
      ],
      "metadata": {
        "id": "1WB7aV_rj7hY"
      }
    },
    {
      "cell_type": "code",
      "source": [
        "#menjalankan seluruh kode pada Implementasi 2 Mall Customer Segmentation apabil error karena runtime habis \n",
        "import plotly as py\n",
        "import plotly.graph_objs as go"
      ],
      "metadata": {
        "id": "9SuaMUflj7hY"
      },
      "execution_count": 129,
      "outputs": []
    },
    {
      "cell_type": "markdown",
      "source": [
        "####2. Data preprocessing"
      ],
      "metadata": {
        "id": "djKpFmR6j7hY"
      }
    },
    {
      "cell_type": "markdown",
      "source": [
        "#####Select Feature"
      ],
      "metadata": {
        "id": "1qaCTVF1j7hY"
      }
    },
    {
      "cell_type": "code",
      "source": [
        "X = np.array(df.iloc[:, [0, 1, 2]])"
      ],
      "metadata": {
        "id": "Z6D50VVMj7hY"
      },
      "execution_count": 131,
      "outputs": []
    },
    {
      "cell_type": "code",
      "source": [
        "X[:5]"
      ],
      "metadata": {
        "colab": {
          "base_uri": "https://localhost:8080/"
        },
        "outputId": "085e82d7-695e-4416-8739-70a20ad5ee14",
        "id": "fsesxAlPj7hY"
      },
      "execution_count": 132,
      "outputs": [
        {
          "output_type": "execute_result",
          "data": {
            "text/plain": [
              "array([[5.1, 3.5, 1.4],\n",
              "       [4.9, 3. , 1.4],\n",
              "       [4.7, 3.2, 1.3],\n",
              "       [4.6, 3.1, 1.5],\n",
              "       [5. , 3.6, 1.4]])"
            ]
          },
          "metadata": {},
          "execution_count": 132
        }
      ]
    },
    {
      "cell_type": "markdown",
      "source": [
        "#####Determine Number of Clusters"
      ],
      "metadata": {
        "id": "AgzRY8hmj7hZ"
      }
    },
    {
      "cell_type": "markdown",
      "source": [
        "######Method 1 - Elbow Method"
      ],
      "metadata": {
        "id": "0X7mKXdTj7hZ"
      }
    },
    {
      "cell_type": "code",
      "source": [
        "wcss = []\n",
        "for i in range(1, 11):\n",
        "  kmeans = KMeans(n_clusters=i, init = 'k-means++', max_iter=300, n_init=10, random_state=0)\n",
        "  kmeans.fit(X)\n",
        "  wcss.append(kmeans.inertia_)\n",
        "plt.figure(1 , figsize = (15 ,6))\n",
        "plt.plot(range(1, 11), wcss)\n",
        "plt.title('Elbow Method')\n",
        "plt.xlabel('Number of clusters')\n",
        "plt.ylabel('WCSS')\n",
        "plt.show()"
      ],
      "metadata": {
        "colab": {
          "base_uri": "https://localhost:8080/",
          "height": 441
        },
        "outputId": "84ef21fb-934f-4fd2-eddc-b1a4b6528937",
        "id": "5rrt_CVHj7hZ"
      },
      "execution_count": 133,
      "outputs": [
        {
          "output_type": "display_data",
          "data": {
            "text/plain": [
              "<Figure size 1080x432 with 1 Axes>"
            ],
            "image/png": "[encoded data removed]"
          },
          "metadata": {}
        }
      ]
    },
    {
      "cell_type": "markdown",
      "source": [
        "######Method 2 - Silhouette Coefficient"
      ],
      "metadata": {
        "id": "MIPZO7mAj7hZ"
      }
    },
    {
      "cell_type": "code",
      "source": [
        "# A list holds the silhouette coefficients for each k\n",
        "silhouette_coefficients = []\n",
        "\n",
        "# Notice you start at 2 clusters for silhouette coefficient \n",
        "for k in range(2, 11) :\n",
        "  kmeans = KMeans(n_clusters=k, init='k-means++' , max_iter=300, n_init=10, random_state=0)\n",
        "  kmeans.fit(X)\n",
        "  score = silhouette_score(X, kmeans.labels_)\n",
        "  silhouette_coefficients.append(score)\n",
        "\n",
        "plt.style.use( \"fivethirtyeight\" )\n",
        "plt.plot(range(2, 11), silhouette_coefficients)\n",
        "plt.xticks(range(2, 11))\n",
        "plt.xlabel(\"Number of Clusters\")\n",
        "plt.ylabel(\"Silhouette Coefficient\")\n",
        "plt.show()"
      ],
      "metadata": {
        "colab": {
          "base_uri": "https://localhost:8080/",
          "height": 308
        },
        "outputId": "dd232820-be01-4574-8b15-a7a34d632c1f",
        "id": "rFC0ZZFvj7hZ"
      },
      "execution_count": 136,
      "outputs": [
        {
          "output_type": "display_data",
          "data": {
            "text/plain": [
              "<Figure size 432x288 with 1 Axes>"
            ],
            "image/png": "[encoded data removed]"
          },
          "metadata": {}
        }
      ]
    },
    {
      "cell_type": "markdown",
      "source": [
        "####3. Create Cluster"
      ],
      "metadata": {
        "id": "pfqFAyXBj7hZ"
      }
    },
    {
      "cell_type": "code",
      "source": [
        "kmeans = KMeans(n_clusters = 6, max_iter = 500, n_init = 10, random_state = 0)\n",
        "kmeans_preds = kmeans.fit_predict(X)"
      ],
      "metadata": {
        "id": "YCiBi5jaj7ha"
      },
      "execution_count": 137,
      "outputs": []
    },
    {
      "cell_type": "code",
      "source": [
        "#predict result\n",
        "kmeans_preds"
      ],
      "metadata": {
        "colab": {
          "base_uri": "https://localhost:8080/"
        },
        "outputId": "c78b40b7-aa83-46d7-8c13-dda4af6a4a90",
        "id": "auR7ZEvTj7ha"
      },
      "execution_count": 138,
      "outputs": [
        {
          "output_type": "execute_result",
          "data": {
            "text/plain": [
              "array([1, 5, 5, 5, 1, 1, 5, 1, 5, 5, 1, 5, 5, 5, 1, 1, 1, 1, 1, 1, 1, 1,\n",
              "       5, 1, 5, 5, 1, 1, 1, 5, 5, 1, 1, 1, 5, 5, 1, 1, 5, 1, 1, 5, 5, 1,\n",
              "       1, 5, 1, 5, 1, 5, 0, 4, 0, 2, 4, 4, 4, 2, 4, 2, 2, 4, 2, 4, 2, 4,\n",
              "       4, 2, 4, 2, 4, 2, 4, 4, 4, 4, 4, 0, 4, 2, 2, 2, 2, 4, 2, 4, 4, 4,\n",
              "       2, 2, 2, 4, 2, 2, 2, 2, 2, 4, 2, 2, 0, 4, 3, 0, 0, 3, 2, 3, 0, 3,\n",
              "       0, 0, 0, 4, 4, 0, 0, 3, 3, 4, 0, 4, 3, 4, 0, 3, 4, 4, 0, 3, 3, 3,\n",
              "       0, 4, 0, 3, 0, 0, 4, 0, 0, 0, 4, 0, 0, 0, 4, 0, 0, 4], dtype=int32)"
            ]
          },
          "metadata": {},
          "execution_count": 138
        }
      ]
    },
    {
      "cell_type": "markdown",
      "source": [
        "####4. Show Cluster"
      ],
      "metadata": {
        "id": "x5Fj8TWMj7ha"
      }
    },
    {
      "cell_type": "code",
      "source": [
        "labels3 = kmeans.labels_\n",
        "centroids3 = kmeans.cluster_centers_\n",
        "\n",
        "df['ClusterMultiFeatures'] = labels3\n",
        "trace1 = go.Scatter3d( \n",
        "    x = df['sepal length (cm)'],\n",
        "    y = df['sepal width (cm)'],\n",
        "    z = df['petal length (cm)'],\n",
        "    mode = 'markers',\n",
        "    marker = dict(\n",
        "      color\t= df['ClusterMultiFeatures'],\n",
        "      size = 20,\n",
        "      line = dict(\n",
        "          color = df['ClusterMultiFeatures'],\n",
        "          width = 12\n",
        "      ),\n",
        "      opacity = 0.8\n",
        "    )\n",
        ")\n",
        "data = [trace1]\n",
        "layout = go.Layout(\n",
        "    title = 'Clusters',\n",
        "    scene = dict(\n",
        "        xaxis = dict(title = 'sepal length (cm)'),\n",
        "        yaxis = dict(title = 'sepal width (cm)'),\n",
        "        zaxis = dict(title = 'petal length (cm)')\n",
        "    )\n",
        ")\n",
        "fig = go.Figure(data = data, layout = layout)\n",
        "py.offline.iplot(fig)"
      ],
      "metadata": {
        "colab": {
          "base_uri": "https://localhost:8080/",
          "height": 542
        },
        "outputId": "e6e00ccb-09df-4724-bec5-bce2bc1d003e",
        "id": "co-nb_b4j7ha"
      },
      "execution_count": 139,
      "outputs": [
        {
          "output_type": "display_data",
          "data": {
            "text/html": [
              "<html>\n",
              "<head><meta charset=\"utf-8\" /></head>\n",
              "<body>\n",
              "    <div>            <script src=\"https://cdnjs.cloudflare.com/ajax/libs/mathjax/2.7.5/MathJax.js?config=TeX-AMS-MML_SVG\"></script><script type=\"text/javascript\">if (window.MathJax) {MathJax.Hub.Config({SVG: {font: \"STIX-Web\"}});}</script>                <script type=\"text/javascript\">window.PlotlyConfig = {MathJaxConfig: 'local'};</script>\n",
              "        <script src=\"https://cdn.plot.ly/plotly-2.8.3.min.js\"></script>                <div id=\"6d789f9b-787f-4d61-9605-bfcf144ee481\" class=\"plotly-graph-div\" style=\"height:525px; width:100%;\"></div>            <script type=\"text/javascript\">                                    window.PLOTLYENV=window.PLOTLYENV || {};                                    if (document.getElementById(\"6d789f9b-787f-4d61-9605-bfcf144ee481\")) {                    Plotly.newPlot(                        \"6d789f9b-787f-4d61-9605-bfcf144ee481\",                        [{\"marker\":{\"color\":[1,5,5,5,1,1,5,1,5,5,1,5,5,5,1,1,1,1,1,1,1,1,5,1,5,5,1,1,1,5,5,1,1,1,5,5,1,1,5,1,1,5,5,1,1,5,1,5,1,5,0,4,0,2,4,4,4,2,4,2,2,4,2,4,2,4,4,2,4,2,4,2,4,4,4,4,4,0,4,2,2,2,2,4,2,4,4,4,2,2,2,4,2,2,2,2,2,4,2,2,0,4,3,0,0,3,2,3,0,3,0,0,0,4,4,0,0,3,3,4,0,4,3,4,0,3,4,4,0,3,3,3,0,4,0,3,0,0,4,0,0,0,4,0,0,0,4,0,0,4],\"line\":{\"color\":[1,5,5,5,1,1,5,1,5,5,1,5,5,5,1,1,1,1,1,1,1,1,5,1,5,5,1,1,1,5,5,1,1,1,5,5,1,1,5,1,1,5,5,1,1,5,1,5,1,5,0,4,0,2,4,4,4,2,4,2,2,4,2,4,2,4,4,2,4,2,4,2,4,4,4,4,4,0,4,2,2,2,2,4,2,4,4,4,2,2,2,4,2,2,2,2,2,4,2,2,0,4,3,0,0,3,2,3,0,3,0,0,0,4,4,0,0,3,3,4,0,4,3,4,0,3,4,4,0,3,3,3,0,4,0,3,0,0,4,0,0,0,4,0,0,0,4,0,0,4],\"width\":12},\"opacity\":0.8,\"size\":20},\"mode\":\"markers\",\"x\":[5.1,4.9,4.7,4.6,5.0,5.4,4.6,5.0,4.4,4.9,5.4,4.8,4.8,4.3,5.8,5.7,5.4,5.1,5.7,5.1,5.4,5.1,4.6,5.1,4.8,5.0,5.0,5.2,5.2,4.7,4.8,5.4,5.2,5.5,4.9,5.0,5.5,4.9,4.4,5.1,5.0,4.5,4.4,5.0,5.1,4.8,5.1,4.6,5.3,5.0,7.0,6.4,6.9,5.5,6.5,5.7,6.3,4.9,6.6,5.2,5.0,5.9,6.0,6.1,5.6,6.7,5.6,5.8,6.2,5.6,5.9,6.1,6.3,6.1,6.4,6.6,6.8,6.7,6.0,5.7,5.5,5.5,5.8,6.0,5.4,6.0,6.7,6.3,5.6,5.5,5.5,6.1,5.8,5.0,5.6,5.7,5.7,6.2,5.1,5.7,6.3,5.8,7.1,6.3,6.5,7.6,4.9,7.3,6.7,7.2,6.5,6.4,6.8,5.7,5.8,6.4,6.5,7.7,7.7,6.0,6.9,5.6,7.7,6.3,6.7,7.2,6.2,6.1,6.4,7.2,7.4,7.9,6.4,6.3,6.1,7.7,6.3,6.4,6.0,6.9,6.7,6.9,5.8,6.8,6.7,6.7,6.3,6.5,6.2,5.9],\"y\":[3.5,3.0,3.2,3.1,3.6,3.9,3.4,3.4,2.9,3.1,3.7,3.4,3.0,3.0,4.0,4.4,3.9,3.5,3.8,3.8,3.4,3.7,3.6,3.3,3.4,3.0,3.4,3.5,3.4,3.2,3.1,3.4,4.1,4.2,3.1,3.2,3.5,3.6,3.0,3.4,3.5,2.3,3.2,3.5,3.8,3.0,3.8,3.2,3.7,3.3,3.2,3.2,3.1,2.3,2.8,2.8,3.3,2.4,2.9,2.7,2.0,3.0,2.2,2.9,2.9,3.1,3.0,2.7,2.2,2.5,3.2,2.8,2.5,2.8,2.9,3.0,2.8,3.0,2.9,2.6,2.4,2.4,2.7,2.7,3.0,3.4,3.1,2.3,3.0,2.5,2.6,3.0,2.6,2.3,2.7,3.0,2.9,2.9,2.5,2.8,3.3,2.7,3.0,2.9,3.0,3.0,2.5,2.9,2.5,3.6,3.2,2.7,3.0,2.5,2.8,3.2,3.0,3.8,2.6,2.2,3.2,2.8,2.8,2.7,3.3,3.2,2.8,3.0,2.8,3.0,2.8,3.8,2.8,2.8,2.6,3.0,3.4,3.1,3.0,3.1,3.1,3.1,2.7,3.2,3.3,3.0,2.5,3.0,3.4,3.0],\"z\":[1.4,1.4,1.3,1.5,1.4,1.7,1.4,1.5,1.4,1.5,1.5,1.6,1.4,1.1,1.2,1.5,1.3,1.4,1.7,1.5,1.7,1.5,1.0,1.7,1.9,1.6,1.6,1.5,1.4,1.6,1.6,1.5,1.5,1.4,1.5,1.2,1.3,1.4,1.3,1.5,1.3,1.3,1.3,1.6,1.9,1.4,1.6,1.4,1.5,1.4,4.7,4.5,4.9,4.0,4.6,4.5,4.7,3.3,4.6,3.9,3.5,4.2,4.0,4.7,3.6,4.4,4.5,4.1,4.5,3.9,4.8,4.0,4.9,4.7,4.3,4.4,4.8,5.0,4.5,3.5,3.8,3.7,3.9,5.1,4.5,4.5,4.7,4.4,4.1,4.0,4.4,4.6,4.0,3.3,4.2,4.2,4.2,4.3,3.0,4.1,6.0,5.1,5.9,5.6,5.8,6.6,4.5,6.3,5.8,6.1,5.1,5.3,5.5,5.0,5.1,5.3,5.5,6.7,6.9,5.0,5.7,4.9,6.7,4.9,5.7,6.0,4.8,4.9,5.6,5.8,6.1,6.4,5.6,5.1,5.6,6.1,5.6,5.5,4.8,5.4,5.6,5.1,5.1,5.9,5.7,5.2,5.0,5.2,5.4,5.1],\"type\":\"scatter3d\"}],                        {\"scene\":{\"xaxis\":{\"title\":{\"text\":\"sepal length (cm)\"}},\"yaxis\":{\"title\":{\"text\":\"sepal width (cm)\"}},\"zaxis\":{\"title\":{\"text\":\"petal length (cm)\"}}},\"template\":{\"data\":{\"barpolar\":[{\"marker\":{\"line\":{\"color\":\"#E5ECF6\",\"width\":0.5},\"pattern\":{\"fillmode\":\"overlay\",\"size\":10,\"solidity\":0.2}},\"type\":\"barpolar\"}],\"bar\":[{\"error_x\":{\"color\":\"#2a3f5f\"},\"error_y\":{\"color\":\"#2a3f5f\"},\"marker\":{\"line\":{\"color\":\"#E5ECF6\",\"width\":0.5},\"pattern\":{\"fillmode\":\"overlay\",\"size\":10,\"solidity\":0.2}},\"type\":\"bar\"}],\"carpet\":[{\"aaxis\":{\"endlinecolor\":\"#2a3f5f\",\"gridcolor\":\"white\",\"linecolor\":\"white\",\"minorgridcolor\":\"white\",\"startlinecolor\":\"#2a3f5f\"},\"baxis\":{\"endlinecolor\":\"#2a3f5f\",\"gridcolor\":\"white\",\"linecolor\":\"white\",\"minorgridcolor\":\"white\",\"startlinecolor\":\"#2a3f5f\"},\"type\":\"carpet\"}],\"choropleth\":[{\"colorbar\":{\"outlinewidth\":0,\"ticks\":\"\"},\"type\":\"choropleth\"}],\"contourcarpet\":[{\"colorbar\":{\"outlinewidth\":0,\"ticks\":\"\"},\"type\":\"contourcarpet\"}],\"contour\":[{\"colorbar\":{\"outlinewidth\":0,\"ticks\":\"\"},\"colorscale\":[[0.0,\"#0d0887\"],[0.1111111111111111,\"#46039f\"],[0.2222222222222222,\"#7201a8\"],[0.3333333333333333,\"#9c179e\"],[0.4444444444444444,\"#bd3786\"],[0.5555555555555556,\"#d8576b\"],[0.6666666666666666,\"#ed7953\"],[0.7777777777777778,\"#fb9f3a\"],[0.8888888888888888,\"#fdca26\"],[1.0,\"#f0f921\"]],\"type\":\"contour\"}],\"heatmapgl\":[{\"colorbar\":{\"outlinewidth\":0,\"ticks\":\"\"},\"colorscale\":[[0.0,\"#0d0887\"],[0.1111111111111111,\"#46039f\"],[0.2222222222222222,\"#7201a8\"],[0.3333333333333333,\"#9c179e\"],[0.4444444444444444,\"#bd3786\"],[0.5555555555555556,\"#d8576b\"],[0.6666666666666666,\"#ed7953\"],[0.7777777777777778,\"#fb9f3a\"],[0.8888888888888888,\"#fdca26\"],[1.0,\"#f0f921\"]],\"type\":\"heatmapgl\"}],\"heatmap\":[{\"colorbar\":{\"outlinewidth\":0,\"ticks\":\"\"},\"colorscale\":[[0.0,\"#0d0887\"],[0.1111111111111111,\"#46039f\"],[0.2222222222222222,\"#7201a8\"],[0.3333333333333333,\"#9c179e\"],[0.4444444444444444,\"#bd3786\"],[0.5555555555555556,\"#d8576b\"],[0.6666666666666666,\"#ed7953\"],[0.7777777777777778,\"#fb9f3a\"],[0.8888888888888888,\"#fdca26\"],[1.0,\"#f0f921\"]],\"type\":\"heatmap\"}],\"histogram2dcontour\":[{\"colorbar\":{\"outlinewidth\":0,\"ticks\":\"\"},\"colorscale\":[[0.0,\"#0d0887\"],[0.1111111111111111,\"#46039f\"],[0.2222222222222222,\"#7201a8\"],[0.3333333333333333,\"#9c179e\"],[0.4444444444444444,\"#bd3786\"],[0.5555555555555556,\"#d8576b\"],[0.6666666666666666,\"#ed7953\"],[0.7777777777777778,\"#fb9f3a\"],[0.8888888888888888,\"#fdca26\"],[1.0,\"#f0f921\"]],\"type\":\"histogram2dcontour\"}],\"histogram2d\":[{\"colorbar\":{\"outlinewidth\":0,\"ticks\":\"\"},\"colorscale\":[[0.0,\"#0d0887\"],[0.1111111111111111,\"#46039f\"],[0.2222222222222222,\"#7201a8\"],[0.3333333333333333,\"#9c179e\"],[0.4444444444444444,\"#bd3786\"],[0.5555555555555556,\"#d8576b\"],[0.6666666666666666,\"#ed7953\"],[0.7777777777777778,\"#fb9f3a\"],[0.8888888888888888,\"#fdca26\"],[1.0,\"#f0f921\"]],\"type\":\"histogram2d\"}],\"histogram\":[{\"marker\":{\"pattern\":{\"fillmode\":\"overlay\",\"size\":10,\"solidity\":0.2}},\"type\":\"histogram\"}],\"mesh3d\":[{\"colorbar\":{\"outlinewidth\":0,\"ticks\":\"\"},\"type\":\"mesh3d\"}],\"parcoords\":[{\"line\":{\"colorbar\":{\"outlinewidth\":0,\"ticks\":\"\"}},\"type\":\"parcoords\"}],\"pie\":[{\"automargin\":true,\"type\":\"pie\"}],\"scatter3d\":[{\"line\":{\"colorbar\":{\"outlinewidth\":0,\"ticks\":\"\"}},\"marker\":{\"colorbar\":{\"outlinewidth\":0,\"ticks\":\"\"}},\"type\":\"scatter3d\"}],\"scattercarpet\":[{\"marker\":{\"colorbar\":{\"outlinewidth\":0,\"ticks\":\"\"}},\"type\":\"scattercarpet\"}],\"scattergeo\":[{\"marker\":{\"colorbar\":{\"outlinewidth\":0,\"ticks\":\"\"}},\"type\":\"scattergeo\"}],\"scattergl\":[{\"marker\":{\"colorbar\":{\"outlinewidth\":0,\"ticks\":\"\"}},\"type\":\"scattergl\"}],\"scattermapbox\":[{\"marker\":{\"colorbar\":{\"outlinewidth\":0,\"ticks\":\"\"}},\"type\":\"scattermapbox\"}],\"scatterpolargl\":[{\"marker\":{\"colorbar\":{\"outlinewidth\":0,\"ticks\":\"\"}},\"type\":\"scatterpolargl\"}],\"scatterpolar\":[{\"marker\":{\"colorbar\":{\"outlinewidth\":0,\"ticks\":\"\"}},\"type\":\"scatterpolar\"}],\"scatter\":[{\"marker\":{\"colorbar\":{\"outlinewidth\":0,\"ticks\":\"\"}},\"type\":\"scatter\"}],\"scatterternary\":[{\"marker\":{\"colorbar\":{\"outlinewidth\":0,\"ticks\":\"\"}},\"type\":\"scatterternary\"}],\"surface\":[{\"colorbar\":{\"outlinewidth\":0,\"ticks\":\"\"},\"colorscale\":[[0.0,\"#0d0887\"],[0.1111111111111111,\"#46039f\"],[0.2222222222222222,\"#7201a8\"],[0.3333333333333333,\"#9c179e\"],[0.4444444444444444,\"#bd3786\"],[0.5555555555555556,\"#d8576b\"],[0.6666666666666666,\"#ed7953\"],[0.7777777777777778,\"#fb9f3a\"],[0.8888888888888888,\"#fdca26\"],[1.0,\"#f0f921\"]],\"type\":\"surface\"}],\"table\":[{\"cells\":{\"fill\":{\"color\":\"#EBF0F8\"},\"line\":{\"color\":\"white\"}},\"header\":{\"fill\":{\"color\":\"#C8D4E3\"},\"line\":{\"color\":\"white\"}},\"type\":\"table\"}]},\"layout\":{\"annotationdefaults\":{\"arrowcolor\":\"#2a3f5f\",\"arrowhead\":0,\"arrowwidth\":1},\"autotypenumbers\":\"strict\",\"coloraxis\":{\"colorbar\":{\"outlinewidth\":0,\"ticks\":\"\"}},\"colorscale\":{\"diverging\":[[0,\"#8e0152\"],[0.1,\"#c51b7d\"],[0.2,\"#de77ae\"],[0.3,\"#f1b6da\"],[0.4,\"#fde0ef\"],[0.5,\"#f7f7f7\"],[0.6,\"#e6f5d0\"],[0.7,\"#b8e186\"],[0.8,\"#7fbc41\"],[0.9,\"#4d9221\"],[1,\"#276419\"]],\"sequential\":[[0.0,\"#0d0887\"],[0.1111111111111111,\"#46039f\"],[0.2222222222222222,\"#7201a8\"],[0.3333333333333333,\"#9c179e\"],[0.4444444444444444,\"#bd3786\"],[0.5555555555555556,\"#d8576b\"],[0.6666666666666666,\"#ed7953\"],[0.7777777777777778,\"#fb9f3a\"],[0.8888888888888888,\"#fdca26\"],[1.0,\"#f0f921\"]],\"sequentialminus\":[[0.0,\"#0d0887\"],[0.1111111111111111,\"#46039f\"],[0.2222222222222222,\"#7201a8\"],[0.3333333333333333,\"#9c179e\"],[0.4444444444444444,\"#bd3786\"],[0.5555555555555556,\"#d8576b\"],[0.6666666666666666,\"#ed7953\"],[0.7777777777777778,\"#fb9f3a\"],[0.8888888888888888,\"#fdca26\"],[1.0,\"#f0f921\"]]},\"colorway\":[\"#636efa\",\"#EF553B\",\"#00cc96\",\"#ab63fa\",\"#FFA15A\",\"#19d3f3\",\"#FF6692\",\"#B6E880\",\"#FF97FF\",\"#FECB52\"],\"font\":{\"color\":\"#2a3f5f\"},\"geo\":{\"bgcolor\":\"white\",\"lakecolor\":\"white\",\"landcolor\":\"#E5ECF6\",\"showlakes\":true,\"showland\":true,\"subunitcolor\":\"white\"},\"hoverlabel\":{\"align\":\"left\"},\"hovermode\":\"closest\",\"mapbox\":{\"style\":\"light\"},\"paper_bgcolor\":\"white\",\"plot_bgcolor\":\"#E5ECF6\",\"polar\":{\"angularaxis\":{\"gridcolor\":\"white\",\"linecolor\":\"white\",\"ticks\":\"\"},\"bgcolor\":\"#E5ECF6\",\"radialaxis\":{\"gridcolor\":\"white\",\"linecolor\":\"white\",\"ticks\":\"\"}},\"scene\":{\"xaxis\":{\"backgroundcolor\":\"#E5ECF6\",\"gridcolor\":\"white\",\"gridwidth\":2,\"linecolor\":\"white\",\"showbackground\":true,\"ticks\":\"\",\"zerolinecolor\":\"white\"},\"yaxis\":{\"backgroundcolor\":\"#E5ECF6\",\"gridcolor\":\"white\",\"gridwidth\":2,\"linecolor\":\"white\",\"showbackground\":true,\"ticks\":\"\",\"zerolinecolor\":\"white\"},\"zaxis\":{\"backgroundcolor\":\"#E5ECF6\",\"gridcolor\":\"white\",\"gridwidth\":2,\"linecolor\":\"white\",\"showbackground\":true,\"ticks\":\"\",\"zerolinecolor\":\"white\"}},\"shapedefaults\":{\"line\":{\"color\":\"#2a3f5f\"}},\"ternary\":{\"aaxis\":{\"gridcolor\":\"white\",\"linecolor\":\"white\",\"ticks\":\"\"},\"baxis\":{\"gridcolor\":\"white\",\"linecolor\":\"white\",\"ticks\":\"\"},\"bgcolor\":\"#E5ECF6\",\"caxis\":{\"gridcolor\":\"white\",\"linecolor\":\"white\",\"ticks\":\"\"}},\"title\":{\"x\":0.05},\"xaxis\":{\"automargin\":true,\"gridcolor\":\"white\",\"linecolor\":\"white\",\"ticks\":\"\",\"title\":{\"standoff\":15},\"zerolinecolor\":\"white\",\"zerolinewidth\":2},\"yaxis\":{\"automargin\":true,\"gridcolor\":\"white\",\"linecolor\":\"white\",\"ticks\":\"\",\"title\":{\"standoff\":15},\"zerolinecolor\":\"white\",\"zerolinewidth\":2}}},\"title\":{\"text\":\"Clusters\"}},                        {\"responsive\": true}                    ).then(function(){\n",
              "                            \n",
              "var gd = document.getElementById('6d789f9b-787f-4d61-9605-bfcf144ee481');\n",
              "var x = new MutationObserver(function (mutations, observer) {{\n",
              "        var display = window.getComputedStyle(gd).display;\n",
              "        if (!display || display === 'none') {{\n",
              "            console.log([gd, 'removed!']);\n",
              "            Plotly.purge(gd);\n",
              "            observer.disconnect();\n",
              "        }}\n",
              "}});\n",
              "\n",
              "// Listen for the removal of the full notebook cells\n",
              "var notebookContainer = gd.closest('#notebook-container');\n",
              "if (notebookContainer) {{\n",
              "    x.observe(notebookContainer, {childList: true});\n",
              "}}\n",
              "\n",
              "// Listen for the clearing of the current output cell\n",
              "var outputEl = gd.closest('.output');\n",
              "if (outputEl) {{\n",
              "    x.observe(outputEl, {childList: true});\n",
              "}}\n",
              "\n",
              "                        })                };                            </script>        </div>\n",
              "</body>\n",
              "</html>"
            ]
          },
          "metadata": {}
        }
      ]
    },
    {
      "cell_type": "code",
      "source": [
        "df.head()"
      ],
      "metadata": {
        "colab": {
          "base_uri": "https://localhost:8080/",
          "height": 206
        },
        "outputId": "86523220-bbe0-4835-e09b-b783b91dcb23",
        "id": "F8XrV6S9j7ha"
      },
      "execution_count": 140,
      "outputs": [
        {
          "output_type": "execute_result",
          "data": {
            "text/plain": [
              "   sepal length (cm)  sepal width (cm)  petal length (cm)  petal width (cm)  \\\n",
              "0                5.1               3.5                1.4               0.2   \n",
              "1                4.9               3.0                1.4               0.2   \n",
              "2                4.7               3.2                1.3               0.2   \n",
              "3                4.6               3.1                1.5               0.2   \n",
              "4                5.0               3.6                1.4               0.2   \n",
              "\n",
              "   Cluster  ClusterMultiFeatures  \n",
              "0        4                     1  \n",
              "1        0                     5  \n",
              "2        0                     5  \n",
              "3        0                     5  \n",
              "4        4                     1  "
            ],
            "text/html": [
              "\n",
              "  <div id=\"df-c2258d6b-bfbb-48b8-bc31-0fad0f6ee1ee\">\n",
              "    <div class=\"colab-df-container\">\n",
              "      <div>\n",
              "<style scoped>\n",
              "    .dataframe tbody tr th:only-of-type {\n",
              "        vertical-align: middle;\n",
              "    }\n",
              "\n",
              "    .dataframe tbody tr th {\n",
              "        vertical-align: top;\n",
              "    }\n",
              "\n",
              "    .dataframe thead th {\n",
              "        text-align: right;\n",
              "    }\n",
              "</style>\n",
              "<table border=\"1\" class=\"dataframe\">\n",
              "  <thead>\n",
              "    <tr style=\"text-align: right;\">\n",
              "      <th></th>\n",
              "      <th>sepal length (cm)</th>\n",
              "      <th>sepal width (cm)</th>\n",
              "      <th>petal length (cm)</th>\n",
              "      <th>petal width (cm)</th>\n",
              "      <th>Cluster</th>\n",
              "      <th>ClusterMultiFeatures</th>\n",
              "    </tr>\n",
              "  </thead>\n",
              "  <tbody>\n",
              "    <tr>\n",
              "      <th>0</th>\n",
              "      <td>5.1</td>\n",
              "      <td>3.5</td>\n",
              "      <td>1.4</td>\n",
              "      <td>0.2</td>\n",
              "      <td>4</td>\n",
              "      <td>1</td>\n",
              "    </tr>\n",
              "    <tr>\n",
              "      <th>1</th>\n",
              "      <td>4.9</td>\n",
              "      <td>3.0</td>\n",
              "      <td>1.4</td>\n",
              "      <td>0.2</td>\n",
              "      <td>0</td>\n",
              "      <td>5</td>\n",
              "    </tr>\n",
              "    <tr>\n",
              "      <th>2</th>\n",
              "      <td>4.7</td>\n",
              "      <td>3.2</td>\n",
              "      <td>1.3</td>\n",
              "      <td>0.2</td>\n",
              "      <td>0</td>\n",
              "      <td>5</td>\n",
              "    </tr>\n",
              "    <tr>\n",
              "      <th>3</th>\n",
              "      <td>4.6</td>\n",
              "      <td>3.1</td>\n",
              "      <td>1.5</td>\n",
              "      <td>0.2</td>\n",
              "      <td>0</td>\n",
              "      <td>5</td>\n",
              "    </tr>\n",
              "    <tr>\n",
              "      <th>4</th>\n",
              "      <td>5.0</td>\n",
              "      <td>3.6</td>\n",
              "      <td>1.4</td>\n",
              "      <td>0.2</td>\n",
              "      <td>4</td>\n",
              "      <td>1</td>\n",
              "    </tr>\n",
              "  </tbody>\n",
              "</table>\n",
              "</div>\n",
              "      <button class=\"colab-df-convert\" onclick=\"convertToInteractive('df-c2258d6b-bfbb-48b8-bc31-0fad0f6ee1ee')\"\n",
              "              title=\"Convert this dataframe to an interactive table.\"\n",
              "              style=\"display:none;\">\n",
              "        \n",
              "  <svg xmlns=\"http://www.w3.org/2000/svg\" height=\"24px\"viewBox=\"0 0 24 24\"\n",
              "       width=\"24px\">\n",
              "    <path d=\"M0 0h24v24H0V0z\" fill=\"none\"/>\n",
              "    <path d=\"M18.56 5.44l.94 2.06.94-2.06 2.06-.94-2.06-.94-.94-2.06-.94 2.06-2.06.94zm-11 1L8.5 8.5l.94-2.06 2.06-.94-2.06-.94L8.5 2.5l-.94 2.06-2.06.94zm10 10l.94 2.06.94-2.06 2.06-.94-2.06-.94-.94-2.06-.94 2.06-2.06.94z\"/><path d=\"M17.41 7.96l-1.37-1.37c-.4-.4-.92-.59-1.43-.59-.52 0-1.04.2-1.43.59L10.3 9.45l-7.72 7.72c-.78.78-.78 2.05 0 2.83L4 21.41c.39.39.9.59 1.41.59.51 0 1.02-.2 1.41-.59l7.78-7.78 2.81-2.81c.8-.78.8-2.07 0-2.86zM5.41 20L4 18.59l7.72-7.72 1.47 1.35L5.41 20z\"/>\n",
              "  </svg>\n",
              "      </button>\n",
              "      \n",
              "  <style>\n",
              "    .colab-df-container {\n",
              "      display:flex;\n",
              "      flex-wrap:wrap;\n",
              "      gap: 12px;\n",
              "    }\n",
              "\n",
              "    .colab-df-convert {\n",
              "      background-color: #E8F0FE;\n",
              "      border: none;\n",
              "      border-radius: 50%;\n",
              "      cursor: pointer;\n",
              "      display: none;\n",
              "      fill: #1967D2;\n",
              "      height: 32px;\n",
              "      padding: 0 0 0 0;\n",
              "      width: 32px;\n",
              "    }\n",
              "\n",
              "    .colab-df-convert:hover {\n",
              "      background-color: #E2EBFA;\n",
              "      box-shadow: 0px 1px 2px rgba(60, 64, 67, 0.3), 0px 1px 3px 1px rgba(60, 64, 67, 0.15);\n",
              "      fill: #174EA6;\n",
              "    }\n",
              "\n",
              "    [theme=dark] .colab-df-convert {\n",
              "      background-color: #3B4455;\n",
              "      fill: #D2E3FC;\n",
              "    }\n",
              "\n",
              "    [theme=dark] .colab-df-convert:hover {\n",
              "      background-color: #434B5C;\n",
              "      box-shadow: 0px 1px 3px 1px rgba(0, 0, 0, 0.15);\n",
              "      filter: drop-shadow(0px 1px 2px rgba(0, 0, 0, 0.3));\n",
              "      fill: #FFFFFF;\n",
              "    }\n",
              "  </style>\n",
              "\n",
              "      <script>\n",
              "        const buttonEl =\n",
              "          document.querySelector('#df-c2258d6b-bfbb-48b8-bc31-0fad0f6ee1ee button.colab-df-convert');\n",
              "        buttonEl.style.display =\n",
              "          google.colab.kernel.accessAllowed ? 'block' : 'none';\n",
              "\n",
              "        async function convertToInteractive(key) {\n",
              "          const element = document.querySelector('#df-c2258d6b-bfbb-48b8-bc31-0fad0f6ee1ee');\n",
              "          const dataTable =\n",
              "            await google.colab.kernel.invokeFunction('convertToInteractive',\n",
              "                                                     [key], {});\n",
              "          if (!dataTable) return;\n",
              "\n",
              "          const docLinkHtml = 'Like what you see? Visit the ' +\n",
              "            '<a target=\"_blank\" href=https://colab.research.google.com/notebooks/data_table.ipynb>data table notebook</a>'\n",
              "            + ' to learn more about interactive tables.';\n",
              "          element.innerHTML = '';\n",
              "          dataTable['output_type'] = 'display_data';\n",
              "          await google.colab.output.renderOutput(dataTable, element);\n",
              "          const docLink = document.createElement('div');\n",
              "          docLink.innerHTML = docLinkHtml;\n",
              "          element.appendChild(docLink);\n",
              "        }\n",
              "      </script>\n",
              "    </div>\n",
              "  </div>\n",
              "  "
            ]
          },
          "metadata": {},
          "execution_count": 140
        }
      ]
    },
    {
      "cell_type": "code",
      "source": [
        "df.groupby(['ClusterMultiFeatures'])['ClusterMultiFeatures'].count()"
      ],
      "metadata": {
        "colab": {
          "base_uri": "https://localhost:8080/"
        },
        "outputId": "df4612b6-b1b8-4d1f-bb19-59c637ae68d9",
        "id": "uTyxEKq9j7hb"
      },
      "execution_count": 141,
      "outputs": [
        {
          "output_type": "execute_result",
          "data": {
            "text/plain": [
              "ClusterMultiFeatures\n",
              "0    27\n",
              "1    28\n",
              "2    25\n",
              "3    12\n",
              "4    36\n",
              "5    22\n",
              "Name: ClusterMultiFeatures, dtype: int64"
            ]
          },
          "metadata": {},
          "execution_count": 141
        }
      ]
    },
    {
      "cell_type": "code",
      "source": [
        "#menampilkan cluster tertentu\n",
        "df.loc[df['ClusterMultiFeatures'] == 3].head()"
      ],
      "metadata": {
        "colab": {
          "base_uri": "https://localhost:8080/",
          "height": 206
        },
        "outputId": "8f6abc64-9d14-4e73-f0b8-99e3838e1dc1",
        "id": "LJL5x4YUj7hb"
      },
      "execution_count": 142,
      "outputs": [
        {
          "output_type": "execute_result",
          "data": {
            "text/plain": [
              "     sepal length (cm)  sepal width (cm)  petal length (cm)  petal width (cm)  \\\n",
              "102                7.1               3.0                5.9               2.1   \n",
              "105                7.6               3.0                6.6               2.1   \n",
              "107                7.3               2.9                6.3               1.8   \n",
              "109                7.2               3.6                6.1               2.5   \n",
              "117                7.7               3.8                6.7               2.2   \n",
              "\n",
              "     Cluster  ClusterMultiFeatures  \n",
              "102        2                     3  \n",
              "105        2                     3  \n",
              "107        2                     3  \n",
              "109        2                     3  \n",
              "117        2                     3  "
            ],
            "text/html": [
              "\n",
              "  <div id=\"df-e4b807ac-775c-4ef7-9cf3-89f5ba5ea237\">\n",
              "    <div class=\"colab-df-container\">\n",
              "      <div>\n",
              "<style scoped>\n",
              "    .dataframe tbody tr th:only-of-type {\n",
              "        vertical-align: middle;\n",
              "    }\n",
              "\n",
              "    .dataframe tbody tr th {\n",
              "        vertical-align: top;\n",
              "    }\n",
              "\n",
              "    .dataframe thead th {\n",
              "        text-align: right;\n",
              "    }\n",
              "</style>\n",
              "<table border=\"1\" class=\"dataframe\">\n",
              "  <thead>\n",
              "    <tr style=\"text-align: right;\">\n",
              "      <th></th>\n",
              "      <th>sepal length (cm)</th>\n",
              "      <th>sepal width (cm)</th>\n",
              "      <th>petal length (cm)</th>\n",
              "      <th>petal width (cm)</th>\n",
              "      <th>Cluster</th>\n",
              "      <th>ClusterMultiFeatures</th>\n",
              "    </tr>\n",
              "  </thead>\n",
              "  <tbody>\n",
              "    <tr>\n",
              "      <th>102</th>\n",
              "      <td>7.1</td>\n",
              "      <td>3.0</td>\n",
              "      <td>5.9</td>\n",
              "      <td>2.1</td>\n",
              "      <td>2</td>\n",
              "      <td>3</td>\n",
              "    </tr>\n",
              "    <tr>\n",
              "      <th>105</th>\n",
              "      <td>7.6</td>\n",
              "      <td>3.0</td>\n",
              "      <td>6.6</td>\n",
              "      <td>2.1</td>\n",
              "      <td>2</td>\n",
              "      <td>3</td>\n",
              "    </tr>\n",
              "    <tr>\n",
              "      <th>107</th>\n",
              "      <td>7.3</td>\n",
              "      <td>2.9</td>\n",
              "      <td>6.3</td>\n",
              "      <td>1.8</td>\n",
              "      <td>2</td>\n",
              "      <td>3</td>\n",
              "    </tr>\n",
              "    <tr>\n",
              "      <th>109</th>\n",
              "      <td>7.2</td>\n",
              "      <td>3.6</td>\n",
              "      <td>6.1</td>\n",
              "      <td>2.5</td>\n",
              "      <td>2</td>\n",
              "      <td>3</td>\n",
              "    </tr>\n",
              "    <tr>\n",
              "      <th>117</th>\n",
              "      <td>7.7</td>\n",
              "      <td>3.8</td>\n",
              "      <td>6.7</td>\n",
              "      <td>2.2</td>\n",
              "      <td>2</td>\n",
              "      <td>3</td>\n",
              "    </tr>\n",
              "  </tbody>\n",
              "</table>\n",
              "</div>\n",
              "      <button class=\"colab-df-convert\" onclick=\"convertToInteractive('df-e4b807ac-775c-4ef7-9cf3-89f5ba5ea237')\"\n",
              "              title=\"Convert this dataframe to an interactive table.\"\n",
              "              style=\"display:none;\">\n",
              "        \n",
              "  <svg xmlns=\"http://www.w3.org/2000/svg\" height=\"24px\"viewBox=\"0 0 24 24\"\n",
              "       width=\"24px\">\n",
              "    <path d=\"M0 0h24v24H0V0z\" fill=\"none\"/>\n",
              "    <path d=\"M18.56 5.44l.94 2.06.94-2.06 2.06-.94-2.06-.94-.94-2.06-.94 2.06-2.06.94zm-11 1L8.5 8.5l.94-2.06 2.06-.94-2.06-.94L8.5 2.5l-.94 2.06-2.06.94zm10 10l.94 2.06.94-2.06 2.06-.94-2.06-.94-.94-2.06-.94 2.06-2.06.94z\"/><path d=\"M17.41 7.96l-1.37-1.37c-.4-.4-.92-.59-1.43-.59-.52 0-1.04.2-1.43.59L10.3 9.45l-7.72 7.72c-.78.78-.78 2.05 0 2.83L4 21.41c.39.39.9.59 1.41.59.51 0 1.02-.2 1.41-.59l7.78-7.78 2.81-2.81c.8-.78.8-2.07 0-2.86zM5.41 20L4 18.59l7.72-7.72 1.47 1.35L5.41 20z\"/>\n",
              "  </svg>\n",
              "      </button>\n",
              "      \n",
              "  <style>\n",
              "    .colab-df-container {\n",
              "      display:flex;\n",
              "      flex-wrap:wrap;\n",
              "      gap: 12px;\n",
              "    }\n",
              "\n",
              "    .colab-df-convert {\n",
              "      background-color: #E8F0FE;\n",
              "      border: none;\n",
              "      border-radius: 50%;\n",
              "      cursor: pointer;\n",
              "      display: none;\n",
              "      fill: #1967D2;\n",
              "      height: 32px;\n",
              "      padding: 0 0 0 0;\n",
              "      width: 32px;\n",
              "    }\n",
              "\n",
              "    .colab-df-convert:hover {\n",
              "      background-color: #E2EBFA;\n",
              "      box-shadow: 0px 1px 2px rgba(60, 64, 67, 0.3), 0px 1px 3px 1px rgba(60, 64, 67, 0.15);\n",
              "      fill: #174EA6;\n",
              "    }\n",
              "\n",
              "    [theme=dark] .colab-df-convert {\n",
              "      background-color: #3B4455;\n",
              "      fill: #D2E3FC;\n",
              "    }\n",
              "\n",
              "    [theme=dark] .colab-df-convert:hover {\n",
              "      background-color: #434B5C;\n",
              "      box-shadow: 0px 1px 3px 1px rgba(0, 0, 0, 0.15);\n",
              "      filter: drop-shadow(0px 1px 2px rgba(0, 0, 0, 0.3));\n",
              "      fill: #FFFFFF;\n",
              "    }\n",
              "  </style>\n",
              "\n",
              "      <script>\n",
              "        const buttonEl =\n",
              "          document.querySelector('#df-e4b807ac-775c-4ef7-9cf3-89f5ba5ea237 button.colab-df-convert');\n",
              "        buttonEl.style.display =\n",
              "          google.colab.kernel.accessAllowed ? 'block' : 'none';\n",
              "\n",
              "        async function convertToInteractive(key) {\n",
              "          const element = document.querySelector('#df-e4b807ac-775c-4ef7-9cf3-89f5ba5ea237');\n",
              "          const dataTable =\n",
              "            await google.colab.kernel.invokeFunction('convertToInteractive',\n",
              "                                                     [key], {});\n",
              "          if (!dataTable) return;\n",
              "\n",
              "          const docLinkHtml = 'Like what you see? Visit the ' +\n",
              "            '<a target=\"_blank\" href=https://colab.research.google.com/notebooks/data_table.ipynb>data table notebook</a>'\n",
              "            + ' to learn more about interactive tables.';\n",
              "          element.innerHTML = '';\n",
              "          dataTable['output_type'] = 'display_data';\n",
              "          await google.colab.output.renderOutput(dataTable, element);\n",
              "          const docLink = document.createElement('div');\n",
              "          docLink.innerHTML = docLinkHtml;\n",
              "          element.appendChild(docLink);\n",
              "        }\n",
              "      </script>\n",
              "    </div>\n",
              "  </div>\n",
              "  "
            ]
          },
          "metadata": {},
          "execution_count": 142
        }
      ]
    },
    {
      "cell_type": "code",
      "source": [
        "#predict one data\n",
        "print(kmeans.predict([[7.3, 2.9, 6.3]]))"
      ],
      "metadata": {
        "colab": {
          "base_uri": "https://localhost:8080/"
        },
        "outputId": "eda1d68a-cc81-401c-ab30-43d4b3203a3b",
        "id": "owjOjxhaj7hb"
      },
      "execution_count": 143,
      "outputs": [
        {
          "output_type": "stream",
          "name": "stdout",
          "text": [
            "[3]\n"
          ]
        }
      ]
    }
  ]
}